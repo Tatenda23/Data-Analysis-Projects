{
 "cells": [
  {
   "cell_type": "markdown",
   "metadata": {},
   "source": [
    "<font size=\"+3\"><strong>Data Wrangling </strong></font>"
   ]
  },
  {
   "cell_type": "markdown",
   "metadata": {},
   "source": [
    "<font size=\"+2\"><strong>Preparing Mexico Data</strong></font>"
   ]
  },
  {
   "cell_type": "code",
   "execution_count": 51,
   "metadata": {},
   "outputs": [],
   "source": [
    "import matplotlib.pyplot as plt\n",
    "import plotly.express as px\n",
    "import pandas as pd"
   ]
  },
  {
   "cell_type": "markdown",
   "metadata": {},
   "source": [
    "# Import"
   ]
  },
  {
   "cell_type": "markdown",
   "metadata": {},
   "source": [
    "The first step is read our data, csv files, into Data Frames using  pandas."
   ]
  },
  {
   "cell_type": "code",
   "execution_count": 18,
   "metadata": {},
   "outputs": [],
   "source": [
    "df1 = pd.read_csv(\"/home/tatenda/Desktop/dataset/data_set/mexico-real-estate-1-sell.csv\")\n",
    "df2 =pd.read_csv(\"/home/tatenda/Desktop/dataset/data_set/mexico-real-estate-2-sell.csv\") \n",
    "df3 =pd.read_csv(\"/home/tatenda/Desktop/dataset/data_set/mexico-real-estate-3-sell.csv\")"
   ]
  },
  {
   "cell_type": "markdown",
   "metadata": {},
   "source": [
    "## Clean `df1`"
   ]
  },
  {
   "cell_type": "markdown",
   "metadata": {},
   "source": [
    "Let's Inspect `df1` by looking at its [`shape`](https://pandas.pydata.org/docs/reference/api/pandas.DataFrame.shape.html) attribute. Then we will use the [`info`](https://pandas.pydata.org/docs/reference/api/pandas.DataFrame.info.htm) method to see the data types and number of missing values for each column. Finally, use the [`head`](https://pandas.pydata.org/docs/reference/api/pandas.DataFrame.head.html) method to determine to look at the first five rows of the dataset."
   ]
  },
  {
   "cell_type": "code",
   "execution_count": 19,
   "metadata": {},
   "outputs": [
    {
     "name": "stdout",
     "output_type": "stream",
     "text": [
      "<class 'pandas.core.frame.DataFrame'>\n",
      "RangeIndex: 699 entries, 0 to 698\n",
      "Data columns (total 6 columns):\n",
      " #   Column         Non-Null Count  Dtype  \n",
      "---  ------         --------------  -----  \n",
      " 0   property_type  699 non-null    object \n",
      " 1   state          699 non-null    object \n",
      " 2   lat            602 non-null    float64\n",
      " 3   lon            602 non-null    float64\n",
      " 4   price_usd      689 non-null    float64\n",
      " 5   area_m2        396 non-null    float64\n",
      "dtypes: float64(4), object(2)\n",
      "memory usage: 32.9+ KB\n"
     ]
    },
    {
     "data": {
      "text/html": [
       "<div>\n",
       "<style scoped>\n",
       "    .dataframe tbody tr th:only-of-type {\n",
       "        vertical-align: middle;\n",
       "    }\n",
       "\n",
       "    .dataframe tbody tr th {\n",
       "        vertical-align: top;\n",
       "    }\n",
       "\n",
       "    .dataframe thead th {\n",
       "        text-align: right;\n",
       "    }\n",
       "</style>\n",
       "<table border=\"1\" class=\"dataframe\">\n",
       "  <thead>\n",
       "    <tr style=\"text-align: right;\">\n",
       "      <th></th>\n",
       "      <th>property_type</th>\n",
       "      <th>state</th>\n",
       "      <th>lat</th>\n",
       "      <th>lon</th>\n",
       "      <th>price_usd</th>\n",
       "      <th>area_m2</th>\n",
       "    </tr>\n",
       "  </thead>\n",
       "  <tbody>\n",
       "    <tr>\n",
       "      <th>0</th>\n",
       "      <td>apartment</td>\n",
       "      <td>Nuevo Centro Urbano</td>\n",
       "      <td>20.627527</td>\n",
       "      <td>-87.076686</td>\n",
       "      <td>269000.0</td>\n",
       "      <td>110.0</td>\n",
       "    </tr>\n",
       "    <tr>\n",
       "      <th>1</th>\n",
       "      <td>apartment</td>\n",
       "      <td>Nuevo Centro Urbano</td>\n",
       "      <td>20.627567</td>\n",
       "      <td>-87.076718</td>\n",
       "      <td>230000.0</td>\n",
       "      <td>110.0</td>\n",
       "    </tr>\n",
       "    <tr>\n",
       "      <th>2</th>\n",
       "      <td>apartment</td>\n",
       "      <td>Nuevo Centro Urbano</td>\n",
       "      <td>20.626700</td>\n",
       "      <td>-87.075866</td>\n",
       "      <td>135000.0</td>\n",
       "      <td>41.0</td>\n",
       "    </tr>\n",
       "    <tr>\n",
       "      <th>3</th>\n",
       "      <td>apartment</td>\n",
       "      <td>Playa del Carmen</td>\n",
       "      <td>20.635482</td>\n",
       "      <td>-87.070345</td>\n",
       "      <td>185000.0</td>\n",
       "      <td>122.0</td>\n",
       "    </tr>\n",
       "    <tr>\n",
       "      <th>4</th>\n",
       "      <td>apartment</td>\n",
       "      <td>Nuevo Centro Urbano</td>\n",
       "      <td>20.629092</td>\n",
       "      <td>-87.074658</td>\n",
       "      <td>180000.0</td>\n",
       "      <td>NaN</td>\n",
       "    </tr>\n",
       "  </tbody>\n",
       "</table>\n",
       "</div>"
      ],
      "text/plain": [
       "  property_type                state        lat        lon  price_usd  area_m2\n",
       "0     apartment  Nuevo Centro Urbano  20.627527 -87.076686   269000.0    110.0\n",
       "1     apartment  Nuevo Centro Urbano  20.627567 -87.076718   230000.0    110.0\n",
       "2     apartment  Nuevo Centro Urbano  20.626700 -87.075866   135000.0     41.0\n",
       "3     apartment     Playa del Carmen  20.635482 -87.070345   185000.0    122.0\n",
       "4     apartment  Nuevo Centro Urbano  20.629092 -87.074658   180000.0      NaN"
      ]
     },
     "execution_count": 19,
     "metadata": {},
     "output_type": "execute_result"
    }
   ],
   "source": [
    "df1.shape\n",
    "df1.info()\n",
    "df1.head()"
   ]
  },
  {
   "cell_type": "markdown",
   "metadata": {},
   "source": [
    "Clean `df1` by dropping rows with `NaN` values. "
   ]
  },
  {
   "cell_type": "code",
   "execution_count": 20,
   "metadata": {},
   "outputs": [
    {
     "name": "stdout",
     "output_type": "stream",
     "text": [
      "<class 'pandas.core.frame.DataFrame'>\n",
      "Int64Index: 362 entries, 0 to 431\n",
      "Data columns (total 6 columns):\n",
      " #   Column         Non-Null Count  Dtype  \n",
      "---  ------         --------------  -----  \n",
      " 0   property_type  362 non-null    object \n",
      " 1   state          362 non-null    object \n",
      " 2   lat            362 non-null    float64\n",
      " 3   lon            362 non-null    float64\n",
      " 4   price_usd      362 non-null    float64\n",
      " 5   area_m2        362 non-null    float64\n",
      "dtypes: float64(4), object(2)\n",
      "memory usage: 19.8+ KB\n"
     ]
    },
    {
     "data": {
      "text/html": [
       "<div>\n",
       "<style scoped>\n",
       "    .dataframe tbody tr th:only-of-type {\n",
       "        vertical-align: middle;\n",
       "    }\n",
       "\n",
       "    .dataframe tbody tr th {\n",
       "        vertical-align: top;\n",
       "    }\n",
       "\n",
       "    .dataframe thead th {\n",
       "        text-align: right;\n",
       "    }\n",
       "</style>\n",
       "<table border=\"1\" class=\"dataframe\">\n",
       "  <thead>\n",
       "    <tr style=\"text-align: right;\">\n",
       "      <th></th>\n",
       "      <th>property_type</th>\n",
       "      <th>state</th>\n",
       "      <th>lat</th>\n",
       "      <th>lon</th>\n",
       "      <th>price_usd</th>\n",
       "      <th>area_m2</th>\n",
       "    </tr>\n",
       "  </thead>\n",
       "  <tbody>\n",
       "    <tr>\n",
       "      <th>0</th>\n",
       "      <td>apartment</td>\n",
       "      <td>Nuevo Centro Urbano</td>\n",
       "      <td>20.627527</td>\n",
       "      <td>-87.076686</td>\n",
       "      <td>269000.00</td>\n",
       "      <td>110.0</td>\n",
       "    </tr>\n",
       "    <tr>\n",
       "      <th>1</th>\n",
       "      <td>apartment</td>\n",
       "      <td>Nuevo Centro Urbano</td>\n",
       "      <td>20.627567</td>\n",
       "      <td>-87.076718</td>\n",
       "      <td>230000.00</td>\n",
       "      <td>110.0</td>\n",
       "    </tr>\n",
       "    <tr>\n",
       "      <th>2</th>\n",
       "      <td>apartment</td>\n",
       "      <td>Nuevo Centro Urbano</td>\n",
       "      <td>20.626700</td>\n",
       "      <td>-87.075866</td>\n",
       "      <td>135000.00</td>\n",
       "      <td>41.0</td>\n",
       "    </tr>\n",
       "    <tr>\n",
       "      <th>3</th>\n",
       "      <td>apartment</td>\n",
       "      <td>Playa del Carmen</td>\n",
       "      <td>20.635482</td>\n",
       "      <td>-87.070345</td>\n",
       "      <td>185000.00</td>\n",
       "      <td>122.0</td>\n",
       "    </tr>\n",
       "    <tr>\n",
       "      <th>5</th>\n",
       "      <td>apartment</td>\n",
       "      <td>Playa del Carmen</td>\n",
       "      <td>20.621580</td>\n",
       "      <td>-87.092398</td>\n",
       "      <td>85655.92</td>\n",
       "      <td>127.0</td>\n",
       "    </tr>\n",
       "  </tbody>\n",
       "</table>\n",
       "</div>"
      ],
      "text/plain": [
       "  property_type                state        lat        lon  price_usd  area_m2\n",
       "0     apartment  Nuevo Centro Urbano  20.627527 -87.076686  269000.00    110.0\n",
       "1     apartment  Nuevo Centro Urbano  20.627567 -87.076718  230000.00    110.0\n",
       "2     apartment  Nuevo Centro Urbano  20.626700 -87.075866  135000.00     41.0\n",
       "3     apartment     Playa del Carmen  20.635482 -87.070345  185000.00    122.0\n",
       "5     apartment     Playa del Carmen  20.621580 -87.092398   85655.92    127.0"
      ]
     },
     "execution_count": 20,
     "metadata": {},
     "output_type": "execute_result"
    }
   ],
   "source": [
    "#dropping rows with missing values\n",
    "df1.dropna(inplace=True)\n",
    "\n",
    "df1.info()\n",
    "df1.head()"
   ]
  },
  {
   "cell_type": "markdown",
   "metadata": {},
   "source": [
    "## Clean `df2`"
   ]
  },
  {
   "cell_type": "code",
   "execution_count": 21,
   "metadata": {},
   "outputs": [
    {
     "name": "stdout",
     "output_type": "stream",
     "text": [
      "<class 'pandas.core.frame.DataFrame'>\n",
      "RangeIndex: 699 entries, 0 to 698\n",
      "Data columns (total 6 columns):\n",
      " #   Column         Non-Null Count  Dtype  \n",
      "---  ------         --------------  -----  \n",
      " 0   property_type  699 non-null    object \n",
      " 1   state          699 non-null    object \n",
      " 2   lat            602 non-null    float64\n",
      " 3   lon            602 non-null    float64\n",
      " 4   price_mxn      689 non-null    float64\n",
      " 5   area_m2        396 non-null    float64\n",
      "dtypes: float64(4), object(2)\n",
      "memory usage: 32.9+ KB\n"
     ]
    },
    {
     "data": {
      "text/html": [
       "<div>\n",
       "<style scoped>\n",
       "    .dataframe tbody tr th:only-of-type {\n",
       "        vertical-align: middle;\n",
       "    }\n",
       "\n",
       "    .dataframe tbody tr th {\n",
       "        vertical-align: top;\n",
       "    }\n",
       "\n",
       "    .dataframe thead th {\n",
       "        text-align: right;\n",
       "    }\n",
       "</style>\n",
       "<table border=\"1\" class=\"dataframe\">\n",
       "  <thead>\n",
       "    <tr style=\"text-align: right;\">\n",
       "      <th></th>\n",
       "      <th>property_type</th>\n",
       "      <th>state</th>\n",
       "      <th>lat</th>\n",
       "      <th>lon</th>\n",
       "      <th>price_mxn</th>\n",
       "      <th>area_m2</th>\n",
       "    </tr>\n",
       "  </thead>\n",
       "  <tbody>\n",
       "    <tr>\n",
       "      <th>0</th>\n",
       "      <td>apartment</td>\n",
       "      <td>Nuevo Centro Urbano</td>\n",
       "      <td>20.627527</td>\n",
       "      <td>-87.076686</td>\n",
       "      <td>5059486.5</td>\n",
       "      <td>110.0</td>\n",
       "    </tr>\n",
       "    <tr>\n",
       "      <th>1</th>\n",
       "      <td>apartment</td>\n",
       "      <td>Nuevo Centro Urbano</td>\n",
       "      <td>20.627567</td>\n",
       "      <td>-87.076718</td>\n",
       "      <td>4325955.0</td>\n",
       "      <td>110.0</td>\n",
       "    </tr>\n",
       "    <tr>\n",
       "      <th>2</th>\n",
       "      <td>apartment</td>\n",
       "      <td>Nuevo Centro Urbano</td>\n",
       "      <td>20.626700</td>\n",
       "      <td>-87.075866</td>\n",
       "      <td>2539147.5</td>\n",
       "      <td>41.0</td>\n",
       "    </tr>\n",
       "    <tr>\n",
       "      <th>3</th>\n",
       "      <td>apartment</td>\n",
       "      <td>Playa del Carmen</td>\n",
       "      <td>20.635482</td>\n",
       "      <td>-87.070345</td>\n",
       "      <td>3479572.5</td>\n",
       "      <td>122.0</td>\n",
       "    </tr>\n",
       "    <tr>\n",
       "      <th>4</th>\n",
       "      <td>apartment</td>\n",
       "      <td>Nuevo Centro Urbano</td>\n",
       "      <td>20.629092</td>\n",
       "      <td>-87.074658</td>\n",
       "      <td>3385530.0</td>\n",
       "      <td>NaN</td>\n",
       "    </tr>\n",
       "  </tbody>\n",
       "</table>\n",
       "</div>"
      ],
      "text/plain": [
       "  property_type                state        lat        lon  price_mxn  area_m2\n",
       "0     apartment  Nuevo Centro Urbano  20.627527 -87.076686  5059486.5    110.0\n",
       "1     apartment  Nuevo Centro Urbano  20.627567 -87.076718  4325955.0    110.0\n",
       "2     apartment  Nuevo Centro Urbano  20.626700 -87.075866  2539147.5     41.0\n",
       "3     apartment     Playa del Carmen  20.635482 -87.070345  3479572.5    122.0\n",
       "4     apartment  Nuevo Centro Urbano  20.629092 -87.074658  3385530.0      NaN"
      ]
     },
     "execution_count": 21,
     "metadata": {},
     "output_type": "execute_result"
    }
   ],
   "source": [
    "df2.shape\n",
    "df2.info()\n",
    "df2.head()"
   ]
  },
  {
   "cell_type": "markdown",
   "metadata": {},
   "source": [
    "It can be seen that there are also rows with NaN values in `df2` and the home prices are in Mexican pesos (\"price_mxn\"), not US dollars (\"price_usd\"). If we want to compare all the home prices in this dataset, they all need to be in the same currency.\n",
    "First, let's  drop rows with `NaN` values in `df2`. Next, use the `\"price_mxn\"` column to create a new column named `\"price_usd\"`. (Keep in mind that, when this data was collected in 2022, a dollar cost 19.96 pesos.) Finally, drop the `\"price_mxn\"` from the DataFrame."
   ]
  },
  {
   "cell_type": "code",
   "execution_count": 22,
   "metadata": {},
   "outputs": [],
   "source": [
    "#dropping rows with missing values\n",
    "df2.dropna(inplace=True)"
   ]
  },
  {
   "cell_type": "code",
   "execution_count": 23,
   "metadata": {},
   "outputs": [
    {
     "data": {
      "text/html": [
       "<div>\n",
       "<style scoped>\n",
       "    .dataframe tbody tr th:only-of-type {\n",
       "        vertical-align: middle;\n",
       "    }\n",
       "\n",
       "    .dataframe tbody tr th {\n",
       "        vertical-align: top;\n",
       "    }\n",
       "\n",
       "    .dataframe thead th {\n",
       "        text-align: right;\n",
       "    }\n",
       "</style>\n",
       "<table border=\"1\" class=\"dataframe\">\n",
       "  <thead>\n",
       "    <tr style=\"text-align: right;\">\n",
       "      <th></th>\n",
       "      <th>property_type</th>\n",
       "      <th>state</th>\n",
       "      <th>lat</th>\n",
       "      <th>lon</th>\n",
       "      <th>price_mxn</th>\n",
       "      <th>area_m2</th>\n",
       "      <th>price_usd</th>\n",
       "    </tr>\n",
       "  </thead>\n",
       "  <tbody>\n",
       "    <tr>\n",
       "      <th>0</th>\n",
       "      <td>apartment</td>\n",
       "      <td>Nuevo Centro Urbano</td>\n",
       "      <td>20.627527</td>\n",
       "      <td>-87.076686</td>\n",
       "      <td>5059486.50</td>\n",
       "      <td>110.0</td>\n",
       "      <td>253481.287575</td>\n",
       "    </tr>\n",
       "    <tr>\n",
       "      <th>1</th>\n",
       "      <td>apartment</td>\n",
       "      <td>Nuevo Centro Urbano</td>\n",
       "      <td>20.627567</td>\n",
       "      <td>-87.076718</td>\n",
       "      <td>4325955.00</td>\n",
       "      <td>110.0</td>\n",
       "      <td>216731.212425</td>\n",
       "    </tr>\n",
       "    <tr>\n",
       "      <th>2</th>\n",
       "      <td>apartment</td>\n",
       "      <td>Nuevo Centro Urbano</td>\n",
       "      <td>20.626700</td>\n",
       "      <td>-87.075866</td>\n",
       "      <td>2539147.50</td>\n",
       "      <td>41.0</td>\n",
       "      <td>127211.798597</td>\n",
       "    </tr>\n",
       "    <tr>\n",
       "      <th>3</th>\n",
       "      <td>apartment</td>\n",
       "      <td>Playa del Carmen</td>\n",
       "      <td>20.635482</td>\n",
       "      <td>-87.070345</td>\n",
       "      <td>3479572.50</td>\n",
       "      <td>122.0</td>\n",
       "      <td>174327.279559</td>\n",
       "    </tr>\n",
       "    <tr>\n",
       "      <th>5</th>\n",
       "      <td>apartment</td>\n",
       "      <td>Playa del Carmen</td>\n",
       "      <td>20.621580</td>\n",
       "      <td>-87.092398</td>\n",
       "      <td>1611059.37</td>\n",
       "      <td>127.0</td>\n",
       "      <td>80714.397295</td>\n",
       "    </tr>\n",
       "  </tbody>\n",
       "</table>\n",
       "</div>"
      ],
      "text/plain": [
       "  property_type                state        lat        lon   price_mxn  \\\n",
       "0     apartment  Nuevo Centro Urbano  20.627527 -87.076686  5059486.50   \n",
       "1     apartment  Nuevo Centro Urbano  20.627567 -87.076718  4325955.00   \n",
       "2     apartment  Nuevo Centro Urbano  20.626700 -87.075866  2539147.50   \n",
       "3     apartment     Playa del Carmen  20.635482 -87.070345  3479572.50   \n",
       "5     apartment     Playa del Carmen  20.621580 -87.092398  1611059.37   \n",
       "\n",
       "   area_m2      price_usd  \n",
       "0    110.0  253481.287575  \n",
       "1    110.0  216731.212425  \n",
       "2     41.0  127211.798597  \n",
       "3    122.0  174327.279559  \n",
       "5    127.0   80714.397295  "
      ]
     },
     "execution_count": 23,
     "metadata": {},
     "output_type": "execute_result"
    }
   ],
   "source": [
    "#creating a new column\n",
    "df2[\"price_usd\"] = df2[\"price_mxn\"] /19.96\n",
    "df2.head()"
   ]
  },
  {
   "cell_type": "code",
   "execution_count": 24,
   "metadata": {},
   "outputs": [
    {
     "data": {
      "text/html": [
       "<div>\n",
       "<style scoped>\n",
       "    .dataframe tbody tr th:only-of-type {\n",
       "        vertical-align: middle;\n",
       "    }\n",
       "\n",
       "    .dataframe tbody tr th {\n",
       "        vertical-align: top;\n",
       "    }\n",
       "\n",
       "    .dataframe thead th {\n",
       "        text-align: right;\n",
       "    }\n",
       "</style>\n",
       "<table border=\"1\" class=\"dataframe\">\n",
       "  <thead>\n",
       "    <tr style=\"text-align: right;\">\n",
       "      <th></th>\n",
       "      <th>property_type</th>\n",
       "      <th>state</th>\n",
       "      <th>lat</th>\n",
       "      <th>lon</th>\n",
       "      <th>area_m2</th>\n",
       "      <th>price_usd</th>\n",
       "    </tr>\n",
       "  </thead>\n",
       "  <tbody>\n",
       "    <tr>\n",
       "      <th>0</th>\n",
       "      <td>apartment</td>\n",
       "      <td>Nuevo Centro Urbano</td>\n",
       "      <td>20.627527</td>\n",
       "      <td>-87.076686</td>\n",
       "      <td>110.0</td>\n",
       "      <td>253481.287575</td>\n",
       "    </tr>\n",
       "    <tr>\n",
       "      <th>1</th>\n",
       "      <td>apartment</td>\n",
       "      <td>Nuevo Centro Urbano</td>\n",
       "      <td>20.627567</td>\n",
       "      <td>-87.076718</td>\n",
       "      <td>110.0</td>\n",
       "      <td>216731.212425</td>\n",
       "    </tr>\n",
       "    <tr>\n",
       "      <th>2</th>\n",
       "      <td>apartment</td>\n",
       "      <td>Nuevo Centro Urbano</td>\n",
       "      <td>20.626700</td>\n",
       "      <td>-87.075866</td>\n",
       "      <td>41.0</td>\n",
       "      <td>127211.798597</td>\n",
       "    </tr>\n",
       "    <tr>\n",
       "      <th>3</th>\n",
       "      <td>apartment</td>\n",
       "      <td>Playa del Carmen</td>\n",
       "      <td>20.635482</td>\n",
       "      <td>-87.070345</td>\n",
       "      <td>122.0</td>\n",
       "      <td>174327.279559</td>\n",
       "    </tr>\n",
       "    <tr>\n",
       "      <th>5</th>\n",
       "      <td>apartment</td>\n",
       "      <td>Playa del Carmen</td>\n",
       "      <td>20.621580</td>\n",
       "      <td>-87.092398</td>\n",
       "      <td>127.0</td>\n",
       "      <td>80714.397295</td>\n",
       "    </tr>\n",
       "  </tbody>\n",
       "</table>\n",
       "</div>"
      ],
      "text/plain": [
       "  property_type                state        lat        lon  area_m2  \\\n",
       "0     apartment  Nuevo Centro Urbano  20.627527 -87.076686    110.0   \n",
       "1     apartment  Nuevo Centro Urbano  20.627567 -87.076718    110.0   \n",
       "2     apartment  Nuevo Centro Urbano  20.626700 -87.075866     41.0   \n",
       "3     apartment     Playa del Carmen  20.635482 -87.070345    122.0   \n",
       "5     apartment     Playa del Carmen  20.621580 -87.092398    127.0   \n",
       "\n",
       "       price_usd  \n",
       "0  253481.287575  \n",
       "1  216731.212425  \n",
       "2  127211.798597  \n",
       "3  174327.279559  \n",
       "5   80714.397295  "
      ]
     },
     "execution_count": 24,
     "metadata": {},
     "output_type": "execute_result"
    }
   ],
   "source": [
    "#drop price_mxn column\n",
    "df2 = df2.drop(\"price_mxn\", axis=\"columns\")\n",
    "df2.head()"
   ]
  },
  {
   "cell_type": "markdown",
   "metadata": {},
   "source": [
    "## Clean `df3`"
   ]
  },
  {
   "cell_type": "code",
   "execution_count": 25,
   "metadata": {},
   "outputs": [
    {
     "name": "stdout",
     "output_type": "stream",
     "text": [
      "<class 'pandas.core.frame.DataFrame'>\n",
      "RangeIndex: 699 entries, 0 to 698\n",
      "Data columns (total 5 columns):\n",
      " #   Column                   Non-Null Count  Dtype  \n",
      "---  ------                   --------------  -----  \n",
      " 0   property_type            699 non-null    object \n",
      " 1   place_with_parent_names  699 non-null    object \n",
      " 2   lat-lon                  602 non-null    object \n",
      " 3   price_usd                689 non-null    float64\n",
      " 4   area_m2                  396 non-null    float64\n",
      "dtypes: float64(2), object(3)\n",
      "memory usage: 27.4+ KB\n"
     ]
    },
    {
     "data": {
      "text/html": [
       "<div>\n",
       "<style scoped>\n",
       "    .dataframe tbody tr th:only-of-type {\n",
       "        vertical-align: middle;\n",
       "    }\n",
       "\n",
       "    .dataframe tbody tr th {\n",
       "        vertical-align: top;\n",
       "    }\n",
       "\n",
       "    .dataframe thead th {\n",
       "        text-align: right;\n",
       "    }\n",
       "</style>\n",
       "<table border=\"1\" class=\"dataframe\">\n",
       "  <thead>\n",
       "    <tr style=\"text-align: right;\">\n",
       "      <th></th>\n",
       "      <th>property_type</th>\n",
       "      <th>place_with_parent_names</th>\n",
       "      <th>lat-lon</th>\n",
       "      <th>price_usd</th>\n",
       "      <th>area_m2</th>\n",
       "    </tr>\n",
       "  </thead>\n",
       "  <tbody>\n",
       "    <tr>\n",
       "      <th>0</th>\n",
       "      <td>apartment</td>\n",
       "      <td>|México|Quintana Roo|Solidaridad|Playa del Car...</td>\n",
       "      <td>20.627527,-87.076686</td>\n",
       "      <td>269000.0</td>\n",
       "      <td>110.0</td>\n",
       "    </tr>\n",
       "    <tr>\n",
       "      <th>1</th>\n",
       "      <td>apartment</td>\n",
       "      <td>|México|Quintana Roo|Solidaridad|Playa del Car...</td>\n",
       "      <td>20.627567,-87.076718</td>\n",
       "      <td>230000.0</td>\n",
       "      <td>110.0</td>\n",
       "    </tr>\n",
       "    <tr>\n",
       "      <th>2</th>\n",
       "      <td>apartment</td>\n",
       "      <td>|México|Quintana Roo|Solidaridad|Playa del Car...</td>\n",
       "      <td>20.6267,-87.075866</td>\n",
       "      <td>135000.0</td>\n",
       "      <td>41.0</td>\n",
       "    </tr>\n",
       "    <tr>\n",
       "      <th>3</th>\n",
       "      <td>apartment</td>\n",
       "      <td>|México|Quintana Roo|Solidaridad|Playa del Car...</td>\n",
       "      <td>20.635482,-87.070345</td>\n",
       "      <td>185000.0</td>\n",
       "      <td>122.0</td>\n",
       "    </tr>\n",
       "    <tr>\n",
       "      <th>4</th>\n",
       "      <td>apartment</td>\n",
       "      <td>|México|Quintana Roo|Solidaridad|Playa del Car...</td>\n",
       "      <td>20.629092,-87.074658</td>\n",
       "      <td>180000.0</td>\n",
       "      <td>NaN</td>\n",
       "    </tr>\n",
       "  </tbody>\n",
       "</table>\n",
       "</div>"
      ],
      "text/plain": [
       "  property_type                            place_with_parent_names  \\\n",
       "0     apartment  |México|Quintana Roo|Solidaridad|Playa del Car...   \n",
       "1     apartment  |México|Quintana Roo|Solidaridad|Playa del Car...   \n",
       "2     apartment  |México|Quintana Roo|Solidaridad|Playa del Car...   \n",
       "3     apartment  |México|Quintana Roo|Solidaridad|Playa del Car...   \n",
       "4     apartment  |México|Quintana Roo|Solidaridad|Playa del Car...   \n",
       "\n",
       "                lat-lon  price_usd  area_m2  \n",
       "0  20.627527,-87.076686   269000.0    110.0  \n",
       "1  20.627567,-87.076718   230000.0    110.0  \n",
       "2    20.6267,-87.075866   135000.0     41.0  \n",
       "3  20.635482,-87.070345   185000.0    122.0  \n",
       "4  20.629092,-87.074658   180000.0      NaN  "
      ]
     },
     "execution_count": 25,
     "metadata": {},
     "output_type": "execute_result"
    }
   ],
   "source": [
    "df3.shape\n",
    "df3.info()\n",
    "df3.head()"
   ]
  },
  {
   "cell_type": "markdown",
   "metadata": {},
   "source": [
    "You'll notice that we still have `NaN` values, but there are two new problems:\n",
    "\n",
    "1. Instead of separate `\"lat\"` and `\"lon\"` columns, there's a single `\"lat-lon\"` column. \n",
    "2. Instead of a `\"state\"` column, there's a `\"place_with_parent_names\"` column.\n",
    "\n",
    "We need the resolve these problems so that `df3` has the same columns in the same format as `df1` and `df2`."
   ]
  },
  {
   "cell_type": "markdown",
   "metadata": {},
   "source": [
    "Let's drop rows with `NaN` values in `df3`. Then use the [`split`](https://pandas.pydata.org/docs/reference/api/pandas.Series.str.split.html) method to create two new columns from `\"lat-lon\"` named `\"lat\"` and `\"lon\"`, respectively."
   ]
  },
  {
   "cell_type": "code",
   "execution_count": 26,
   "metadata": {},
   "outputs": [],
   "source": [
    "#dropping rows with missing values\n",
    "df3.dropna(inplace=True)"
   ]
  },
  {
   "cell_type": "markdown",
   "metadata": {},
   "source": [
    "Let's use the [`split`](https://pandas.pydata.org/docs/reference/api/pandas.Series.str.split.html) method again, this time to extract the state for every house. (Note that the state name always appears after `\"México|\"` in each string.) Use this information to create a `\"state\"` column. Finally, we will drop the `\"place_with_parent_names\"` and `\"lat-lon\"` columns from the DataFrame."
   ]
  },
  {
   "cell_type": "code",
   "execution_count": 27,
   "metadata": {},
   "outputs": [
    {
     "data": {
      "text/html": [
       "<div>\n",
       "<style scoped>\n",
       "    .dataframe tbody tr th:only-of-type {\n",
       "        vertical-align: middle;\n",
       "    }\n",
       "\n",
       "    .dataframe tbody tr th {\n",
       "        vertical-align: top;\n",
       "    }\n",
       "\n",
       "    .dataframe thead th {\n",
       "        text-align: right;\n",
       "    }\n",
       "</style>\n",
       "<table border=\"1\" class=\"dataframe\">\n",
       "  <thead>\n",
       "    <tr style=\"text-align: right;\">\n",
       "      <th></th>\n",
       "      <th>property_type</th>\n",
       "      <th>place_with_parent_names</th>\n",
       "      <th>lat-lon</th>\n",
       "      <th>price_usd</th>\n",
       "      <th>area_m2</th>\n",
       "      <th>lat</th>\n",
       "      <th>lon</th>\n",
       "    </tr>\n",
       "  </thead>\n",
       "  <tbody>\n",
       "    <tr>\n",
       "      <th>0</th>\n",
       "      <td>apartment</td>\n",
       "      <td>|México|Quintana Roo|Solidaridad|Playa del Car...</td>\n",
       "      <td>20.627527,-87.076686</td>\n",
       "      <td>269000.00</td>\n",
       "      <td>110.0</td>\n",
       "      <td>20.627527</td>\n",
       "      <td>-87.076686</td>\n",
       "    </tr>\n",
       "    <tr>\n",
       "      <th>1</th>\n",
       "      <td>apartment</td>\n",
       "      <td>|México|Quintana Roo|Solidaridad|Playa del Car...</td>\n",
       "      <td>20.627567,-87.076718</td>\n",
       "      <td>230000.00</td>\n",
       "      <td>110.0</td>\n",
       "      <td>20.627567</td>\n",
       "      <td>-87.076718</td>\n",
       "    </tr>\n",
       "    <tr>\n",
       "      <th>2</th>\n",
       "      <td>apartment</td>\n",
       "      <td>|México|Quintana Roo|Solidaridad|Playa del Car...</td>\n",
       "      <td>20.6267,-87.075866</td>\n",
       "      <td>135000.00</td>\n",
       "      <td>41.0</td>\n",
       "      <td>20.6267</td>\n",
       "      <td>-87.075866</td>\n",
       "    </tr>\n",
       "    <tr>\n",
       "      <th>3</th>\n",
       "      <td>apartment</td>\n",
       "      <td>|México|Quintana Roo|Solidaridad|Playa del Car...</td>\n",
       "      <td>20.635482,-87.070345</td>\n",
       "      <td>185000.00</td>\n",
       "      <td>122.0</td>\n",
       "      <td>20.635482</td>\n",
       "      <td>-87.070345</td>\n",
       "    </tr>\n",
       "    <tr>\n",
       "      <th>5</th>\n",
       "      <td>apartment</td>\n",
       "      <td>|México|Quintana Roo|Solidaridad|Playa del Car...</td>\n",
       "      <td>20.62158,-87.092398</td>\n",
       "      <td>85655.92</td>\n",
       "      <td>127.0</td>\n",
       "      <td>20.62158</td>\n",
       "      <td>-87.092398</td>\n",
       "    </tr>\n",
       "  </tbody>\n",
       "</table>\n",
       "</div>"
      ],
      "text/plain": [
       "  property_type                            place_with_parent_names  \\\n",
       "0     apartment  |México|Quintana Roo|Solidaridad|Playa del Car...   \n",
       "1     apartment  |México|Quintana Roo|Solidaridad|Playa del Car...   \n",
       "2     apartment  |México|Quintana Roo|Solidaridad|Playa del Car...   \n",
       "3     apartment  |México|Quintana Roo|Solidaridad|Playa del Car...   \n",
       "5     apartment  |México|Quintana Roo|Solidaridad|Playa del Car...   \n",
       "\n",
       "                lat-lon  price_usd  area_m2        lat         lon  \n",
       "0  20.627527,-87.076686  269000.00    110.0  20.627527  -87.076686  \n",
       "1  20.627567,-87.076718  230000.00    110.0  20.627567  -87.076718  \n",
       "2    20.6267,-87.075866  135000.00     41.0    20.6267  -87.075866  \n",
       "3  20.635482,-87.070345  185000.00    122.0  20.635482  -87.070345  \n",
       "5   20.62158,-87.092398   85655.92    127.0   20.62158  -87.092398  "
      ]
     },
     "execution_count": 27,
     "metadata": {},
     "output_type": "execute_result"
    }
   ],
   "source": [
    "#splitting lat-lon columns into lat and lon\n",
    "df3[[\"lat\", \"lon\"]] = df3[\"lat-lon\"].str.split(\",\", expand=True)\n",
    "df3.head()"
   ]
  },
  {
   "cell_type": "code",
   "execution_count": 28,
   "metadata": {},
   "outputs": [
    {
     "data": {
      "text/html": [
       "<div>\n",
       "<style scoped>\n",
       "    .dataframe tbody tr th:only-of-type {\n",
       "        vertical-align: middle;\n",
       "    }\n",
       "\n",
       "    .dataframe tbody tr th {\n",
       "        vertical-align: top;\n",
       "    }\n",
       "\n",
       "    .dataframe thead th {\n",
       "        text-align: right;\n",
       "    }\n",
       "</style>\n",
       "<table border=\"1\" class=\"dataframe\">\n",
       "  <thead>\n",
       "    <tr style=\"text-align: right;\">\n",
       "      <th></th>\n",
       "      <th>property_type</th>\n",
       "      <th>place_with_parent_names</th>\n",
       "      <th>lat-lon</th>\n",
       "      <th>price_usd</th>\n",
       "      <th>area_m2</th>\n",
       "      <th>lat</th>\n",
       "      <th>lon</th>\n",
       "      <th>state</th>\n",
       "    </tr>\n",
       "  </thead>\n",
       "  <tbody>\n",
       "    <tr>\n",
       "      <th>0</th>\n",
       "      <td>apartment</td>\n",
       "      <td>|México|Quintana Roo|Solidaridad|Playa del Car...</td>\n",
       "      <td>20.627527,-87.076686</td>\n",
       "      <td>269000.00</td>\n",
       "      <td>110.0</td>\n",
       "      <td>20.627527</td>\n",
       "      <td>-87.076686</td>\n",
       "      <td>Quintana Roo</td>\n",
       "    </tr>\n",
       "    <tr>\n",
       "      <th>1</th>\n",
       "      <td>apartment</td>\n",
       "      <td>|México|Quintana Roo|Solidaridad|Playa del Car...</td>\n",
       "      <td>20.627567,-87.076718</td>\n",
       "      <td>230000.00</td>\n",
       "      <td>110.0</td>\n",
       "      <td>20.627567</td>\n",
       "      <td>-87.076718</td>\n",
       "      <td>Quintana Roo</td>\n",
       "    </tr>\n",
       "    <tr>\n",
       "      <th>2</th>\n",
       "      <td>apartment</td>\n",
       "      <td>|México|Quintana Roo|Solidaridad|Playa del Car...</td>\n",
       "      <td>20.6267,-87.075866</td>\n",
       "      <td>135000.00</td>\n",
       "      <td>41.0</td>\n",
       "      <td>20.6267</td>\n",
       "      <td>-87.075866</td>\n",
       "      <td>Quintana Roo</td>\n",
       "    </tr>\n",
       "    <tr>\n",
       "      <th>3</th>\n",
       "      <td>apartment</td>\n",
       "      <td>|México|Quintana Roo|Solidaridad|Playa del Car...</td>\n",
       "      <td>20.635482,-87.070345</td>\n",
       "      <td>185000.00</td>\n",
       "      <td>122.0</td>\n",
       "      <td>20.635482</td>\n",
       "      <td>-87.070345</td>\n",
       "      <td>Quintana Roo</td>\n",
       "    </tr>\n",
       "    <tr>\n",
       "      <th>5</th>\n",
       "      <td>apartment</td>\n",
       "      <td>|México|Quintana Roo|Solidaridad|Playa del Car...</td>\n",
       "      <td>20.62158,-87.092398</td>\n",
       "      <td>85655.92</td>\n",
       "      <td>127.0</td>\n",
       "      <td>20.62158</td>\n",
       "      <td>-87.092398</td>\n",
       "      <td>Quintana Roo</td>\n",
       "    </tr>\n",
       "  </tbody>\n",
       "</table>\n",
       "</div>"
      ],
      "text/plain": [
       "  property_type                            place_with_parent_names  \\\n",
       "0     apartment  |México|Quintana Roo|Solidaridad|Playa del Car...   \n",
       "1     apartment  |México|Quintana Roo|Solidaridad|Playa del Car...   \n",
       "2     apartment  |México|Quintana Roo|Solidaridad|Playa del Car...   \n",
       "3     apartment  |México|Quintana Roo|Solidaridad|Playa del Car...   \n",
       "5     apartment  |México|Quintana Roo|Solidaridad|Playa del Car...   \n",
       "\n",
       "                lat-lon  price_usd  area_m2        lat         lon  \\\n",
       "0  20.627527,-87.076686  269000.00    110.0  20.627527  -87.076686   \n",
       "1  20.627567,-87.076718  230000.00    110.0  20.627567  -87.076718   \n",
       "2    20.6267,-87.075866  135000.00     41.0    20.6267  -87.075866   \n",
       "3  20.635482,-87.070345  185000.00    122.0  20.635482  -87.070345   \n",
       "5   20.62158,-87.092398   85655.92    127.0   20.62158  -87.092398   \n",
       "\n",
       "          state  \n",
       "0  Quintana Roo  \n",
       "1  Quintana Roo  \n",
       "2  Quintana Roo  \n",
       "3  Quintana Roo  \n",
       "5  Quintana Roo  "
      ]
     },
     "execution_count": 28,
     "metadata": {},
     "output_type": "execute_result"
    }
   ],
   "source": [
    "#Extracting state for every house\n",
    "#df3[\"place_with_parent_names\"].head()\n",
    "df3[\"state\"]=df3[\"place_with_parent_names\"].str.split(\"|\",expand=True)[2]\n",
    "df3.head()\n"
   ]
  },
  {
   "cell_type": "code",
   "execution_count": 29,
   "metadata": {},
   "outputs": [
    {
     "data": {
      "text/html": [
       "<div>\n",
       "<style scoped>\n",
       "    .dataframe tbody tr th:only-of-type {\n",
       "        vertical-align: middle;\n",
       "    }\n",
       "\n",
       "    .dataframe tbody tr th {\n",
       "        vertical-align: top;\n",
       "    }\n",
       "\n",
       "    .dataframe thead th {\n",
       "        text-align: right;\n",
       "    }\n",
       "</style>\n",
       "<table border=\"1\" class=\"dataframe\">\n",
       "  <thead>\n",
       "    <tr style=\"text-align: right;\">\n",
       "      <th></th>\n",
       "      <th>property_type</th>\n",
       "      <th>lat-lon</th>\n",
       "      <th>price_usd</th>\n",
       "      <th>area_m2</th>\n",
       "      <th>lat</th>\n",
       "      <th>lon</th>\n",
       "      <th>state</th>\n",
       "    </tr>\n",
       "  </thead>\n",
       "  <tbody>\n",
       "    <tr>\n",
       "      <th>0</th>\n",
       "      <td>apartment</td>\n",
       "      <td>20.627527,-87.076686</td>\n",
       "      <td>269000.00</td>\n",
       "      <td>110.0</td>\n",
       "      <td>20.627527</td>\n",
       "      <td>-87.076686</td>\n",
       "      <td>Quintana Roo</td>\n",
       "    </tr>\n",
       "    <tr>\n",
       "      <th>1</th>\n",
       "      <td>apartment</td>\n",
       "      <td>20.627567,-87.076718</td>\n",
       "      <td>230000.00</td>\n",
       "      <td>110.0</td>\n",
       "      <td>20.627567</td>\n",
       "      <td>-87.076718</td>\n",
       "      <td>Quintana Roo</td>\n",
       "    </tr>\n",
       "    <tr>\n",
       "      <th>2</th>\n",
       "      <td>apartment</td>\n",
       "      <td>20.6267,-87.075866</td>\n",
       "      <td>135000.00</td>\n",
       "      <td>41.0</td>\n",
       "      <td>20.6267</td>\n",
       "      <td>-87.075866</td>\n",
       "      <td>Quintana Roo</td>\n",
       "    </tr>\n",
       "    <tr>\n",
       "      <th>3</th>\n",
       "      <td>apartment</td>\n",
       "      <td>20.635482,-87.070345</td>\n",
       "      <td>185000.00</td>\n",
       "      <td>122.0</td>\n",
       "      <td>20.635482</td>\n",
       "      <td>-87.070345</td>\n",
       "      <td>Quintana Roo</td>\n",
       "    </tr>\n",
       "    <tr>\n",
       "      <th>5</th>\n",
       "      <td>apartment</td>\n",
       "      <td>20.62158,-87.092398</td>\n",
       "      <td>85655.92</td>\n",
       "      <td>127.0</td>\n",
       "      <td>20.62158</td>\n",
       "      <td>-87.092398</td>\n",
       "      <td>Quintana Roo</td>\n",
       "    </tr>\n",
       "  </tbody>\n",
       "</table>\n",
       "</div>"
      ],
      "text/plain": [
       "  property_type               lat-lon  price_usd  area_m2        lat  \\\n",
       "0     apartment  20.627527,-87.076686  269000.00    110.0  20.627527   \n",
       "1     apartment  20.627567,-87.076718  230000.00    110.0  20.627567   \n",
       "2     apartment    20.6267,-87.075866  135000.00     41.0    20.6267   \n",
       "3     apartment  20.635482,-87.070345  185000.00    122.0  20.635482   \n",
       "5     apartment   20.62158,-87.092398   85655.92    127.0   20.62158   \n",
       "\n",
       "          lon         state  \n",
       "0  -87.076686  Quintana Roo  \n",
       "1  -87.076718  Quintana Roo  \n",
       "2  -87.075866  Quintana Roo  \n",
       "3  -87.070345  Quintana Roo  \n",
       "5  -87.092398  Quintana Roo  "
      ]
     },
     "execution_count": 29,
     "metadata": {},
     "output_type": "execute_result"
    }
   ],
   "source": [
    "#drop place_with_parent_names column\n",
    "df3 = df3.drop(\"place_with_parent_names\", axis=\"columns\")\n",
    "df3.head()"
   ]
  },
  {
   "cell_type": "markdown",
   "metadata": {},
   "source": [
    "## Concatenate DataFrames"
   ]
  },
  {
   "cell_type": "markdown",
   "metadata": {},
   "source": [
    "Let's use [`pd.concat`](https://pandas.pydata.org/pandas-docs/stable/reference/api/pandas.concat.html) to concatenate `df1`, `df2`, `df3` as new DataFrame named `df`."
   ]
  },
  {
   "cell_type": "code",
   "execution_count": 30,
   "metadata": {},
   "outputs": [
    {
     "name": "stdout",
     "output_type": "stream",
     "text": [
      "(1086, 6)\n"
     ]
    },
    {
     "data": {
      "text/html": [
       "<div>\n",
       "<style scoped>\n",
       "    .dataframe tbody tr th:only-of-type {\n",
       "        vertical-align: middle;\n",
       "    }\n",
       "\n",
       "    .dataframe tbody tr th {\n",
       "        vertical-align: top;\n",
       "    }\n",
       "\n",
       "    .dataframe thead th {\n",
       "        text-align: right;\n",
       "    }\n",
       "</style>\n",
       "<table border=\"1\" class=\"dataframe\">\n",
       "  <thead>\n",
       "    <tr style=\"text-align: right;\">\n",
       "      <th></th>\n",
       "      <th>property_type</th>\n",
       "      <th>state</th>\n",
       "      <th>lat</th>\n",
       "      <th>lon</th>\n",
       "      <th>price_usd</th>\n",
       "      <th>area_m2</th>\n",
       "    </tr>\n",
       "  </thead>\n",
       "  <tbody>\n",
       "    <tr>\n",
       "      <th>0</th>\n",
       "      <td>apartment</td>\n",
       "      <td>Nuevo Centro Urbano</td>\n",
       "      <td>20.6275</td>\n",
       "      <td>-87.0767</td>\n",
       "      <td>269000.00</td>\n",
       "      <td>110.0</td>\n",
       "    </tr>\n",
       "    <tr>\n",
       "      <th>1</th>\n",
       "      <td>apartment</td>\n",
       "      <td>Nuevo Centro Urbano</td>\n",
       "      <td>20.6276</td>\n",
       "      <td>-87.0767</td>\n",
       "      <td>230000.00</td>\n",
       "      <td>110.0</td>\n",
       "    </tr>\n",
       "    <tr>\n",
       "      <th>2</th>\n",
       "      <td>apartment</td>\n",
       "      <td>Nuevo Centro Urbano</td>\n",
       "      <td>20.6267</td>\n",
       "      <td>-87.0759</td>\n",
       "      <td>135000.00</td>\n",
       "      <td>41.0</td>\n",
       "    </tr>\n",
       "    <tr>\n",
       "      <th>3</th>\n",
       "      <td>apartment</td>\n",
       "      <td>Playa del Carmen</td>\n",
       "      <td>20.6355</td>\n",
       "      <td>-87.0703</td>\n",
       "      <td>185000.00</td>\n",
       "      <td>122.0</td>\n",
       "    </tr>\n",
       "    <tr>\n",
       "      <th>5</th>\n",
       "      <td>apartment</td>\n",
       "      <td>Playa del Carmen</td>\n",
       "      <td>20.6216</td>\n",
       "      <td>-87.0924</td>\n",
       "      <td>85655.92</td>\n",
       "      <td>127.0</td>\n",
       "    </tr>\n",
       "  </tbody>\n",
       "</table>\n",
       "</div>"
      ],
      "text/plain": [
       "  property_type                state      lat      lon  price_usd  area_m2\n",
       "0     apartment  Nuevo Centro Urbano  20.6275 -87.0767  269000.00    110.0\n",
       "1     apartment  Nuevo Centro Urbano  20.6276 -87.0767  230000.00    110.0\n",
       "2     apartment  Nuevo Centro Urbano  20.6267 -87.0759  135000.00     41.0\n",
       "3     apartment     Playa del Carmen  20.6355 -87.0703  185000.00    122.0\n",
       "5     apartment     Playa del Carmen  20.6216 -87.0924   85655.92    127.0"
      ]
     },
     "execution_count": 30,
     "metadata": {},
     "output_type": "execute_result"
    }
   ],
   "source": [
    "df= pd.concat([df1, df2,df3])\n",
    "\n",
    "df = df.drop(\"lat-lon\", axis=\"columns\")\n",
    "print(df.shape)\n",
    "df.head()"
   ]
  },
  {
   "cell_type": "markdown",
   "metadata": {},
   "source": [
    "## Save `df`"
   ]
  },
  {
   "cell_type": "markdown",
   "metadata": {},
   "source": [
    "The data is clean and in a single DataFrame, and can be saved  as a CSV file which will be examined  in  exploratory data analysis. "
   ]
  },
  {
   "cell_type": "code",
   "execution_count": 31,
   "metadata": {},
   "outputs": [],
   "source": [
    "df.to_csv(\"/home/tatenda/Desktop/dataset/data_set/mexico-real-estate-clean.csv\", index=False)"
   ]
  },
  {
   "cell_type": "markdown",
   "metadata": {},
   "source": [
    "<font size=\"+3\"><strong>Exploratory Data Analysis </strong></font>"
   ]
  },
  {
   "cell_type": "markdown",
   "metadata": {},
   "source": [
    "Let's get a feel for our data by summarizing its main characteristics using descriptive statistics and data visualization.\n",
    "We will start by importing our clean dataset."
   ]
  },
  {
   "cell_type": "code",
   "execution_count": 33,
   "metadata": {},
   "outputs": [
    {
     "data": {
      "text/html": [
       "<div>\n",
       "<style scoped>\n",
       "    .dataframe tbody tr th:only-of-type {\n",
       "        vertical-align: middle;\n",
       "    }\n",
       "\n",
       "    .dataframe tbody tr th {\n",
       "        vertical-align: top;\n",
       "    }\n",
       "\n",
       "    .dataframe thead th {\n",
       "        text-align: right;\n",
       "    }\n",
       "</style>\n",
       "<table border=\"1\" class=\"dataframe\">\n",
       "  <thead>\n",
       "    <tr style=\"text-align: right;\">\n",
       "      <th></th>\n",
       "      <th>property_type</th>\n",
       "      <th>state</th>\n",
       "      <th>lat</th>\n",
       "      <th>lon</th>\n",
       "      <th>price_usd</th>\n",
       "      <th>area_m2</th>\n",
       "    </tr>\n",
       "  </thead>\n",
       "  <tbody>\n",
       "    <tr>\n",
       "      <th>0</th>\n",
       "      <td>apartment</td>\n",
       "      <td>Nuevo Centro Urbano</td>\n",
       "      <td>20.627527</td>\n",
       "      <td>-87.076686</td>\n",
       "      <td>269000.00</td>\n",
       "      <td>110.0</td>\n",
       "    </tr>\n",
       "    <tr>\n",
       "      <th>1</th>\n",
       "      <td>apartment</td>\n",
       "      <td>Nuevo Centro Urbano</td>\n",
       "      <td>20.627567</td>\n",
       "      <td>-87.076718</td>\n",
       "      <td>230000.00</td>\n",
       "      <td>110.0</td>\n",
       "    </tr>\n",
       "    <tr>\n",
       "      <th>2</th>\n",
       "      <td>apartment</td>\n",
       "      <td>Nuevo Centro Urbano</td>\n",
       "      <td>20.626700</td>\n",
       "      <td>-87.075866</td>\n",
       "      <td>135000.00</td>\n",
       "      <td>41.0</td>\n",
       "    </tr>\n",
       "    <tr>\n",
       "      <th>3</th>\n",
       "      <td>apartment</td>\n",
       "      <td>Playa del Carmen</td>\n",
       "      <td>20.635482</td>\n",
       "      <td>-87.070345</td>\n",
       "      <td>185000.00</td>\n",
       "      <td>122.0</td>\n",
       "    </tr>\n",
       "    <tr>\n",
       "      <th>4</th>\n",
       "      <td>apartment</td>\n",
       "      <td>Playa del Carmen</td>\n",
       "      <td>20.621580</td>\n",
       "      <td>-87.092398</td>\n",
       "      <td>85655.92</td>\n",
       "      <td>127.0</td>\n",
       "    </tr>\n",
       "  </tbody>\n",
       "</table>\n",
       "</div>"
      ],
      "text/plain": [
       "  property_type                state        lat        lon  price_usd  area_m2\n",
       "0     apartment  Nuevo Centro Urbano  20.627527 -87.076686  269000.00    110.0\n",
       "1     apartment  Nuevo Centro Urbano  20.627567 -87.076718  230000.00    110.0\n",
       "2     apartment  Nuevo Centro Urbano  20.626700 -87.075866  135000.00     41.0\n",
       "3     apartment     Playa del Carmen  20.635482 -87.070345  185000.00    122.0\n",
       "4     apartment     Playa del Carmen  20.621580 -87.092398   85655.92    127.0"
      ]
     },
     "execution_count": 33,
     "metadata": {},
     "output_type": "execute_result"
    }
   ],
   "source": [
    "df = pd.read_csv(\"/home/tatenda/Desktop/dataset/data_set/mexico-real-estate-clean.csv\")\n",
    "df.head()"
   ]
  },
  {
   "cell_type": "code",
   "execution_count": 34,
   "metadata": {},
   "outputs": [
    {
     "name": "stdout",
     "output_type": "stream",
     "text": [
      "<class 'pandas.core.frame.DataFrame'>\n",
      "RangeIndex: 1086 entries, 0 to 1085\n",
      "Data columns (total 6 columns):\n",
      " #   Column         Non-Null Count  Dtype  \n",
      "---  ------         --------------  -----  \n",
      " 0   property_type  1086 non-null   object \n",
      " 1   state          1086 non-null   object \n",
      " 2   lat            1086 non-null   float64\n",
      " 3   lon            1086 non-null   float64\n",
      " 4   price_usd      1086 non-null   float64\n",
      " 5   area_m2        1086 non-null   float64\n",
      "dtypes: float64(4), object(2)\n",
      "memory usage: 51.0+ KB\n"
     ]
    }
   ],
   "source": [
    "df.info()"
   ]
  },
  {
   "cell_type": "markdown",
   "metadata": {},
   "source": [
    "While there are only two `dtypes` in our DataFrame (`object` and `float64`), there are three categories of  data: location, categorical, and numeric. Each of these require a different kind of exploration in our analysis. \n"
   ]
  },
  {
   "cell_type": "markdown",
   "metadata": {},
   "source": [
    "# Location Data: `\"lat\"` and `\"lon\"`"
   ]
  },
  {
   "cell_type": "markdown",
   "metadata": {},
   "source": [
    "They say that the most important thing in real estate is location, and we can see where where in Mexico our houses are located by using the `\"lat\"` and `\"lon\"` columns. Since latitude and longitude are based on a coordinate system, a good way to visualize them is to create a scatter plot on top of a map. A great tool for this is the [`scatter_mapbox`](https://plotly.github.io/plotly.py-docs/generated/plotly.express.scatter_mapbox.html) from the plotly library."
   ]
  },
  {
   "cell_type": "code",
   "execution_count": 36,
   "metadata": {},
   "outputs": [
    {
     "data": {
      "application/vnd.plotly.v1+json": {
       "config": {
        "plotlyServerURL": "https://plot.ly"
       },
       "data": [
        {
         "customdata": [
          [
           269000
          ],
          [
           230000
          ],
          [
           135000
          ],
          [
           185000
          ],
          [
           85655.92
          ],
          [
           139000
          ],
          [
           420000
          ],
          [
           336800
          ],
          [
           72478.09
          ],
          [
           988337.61
          ],
          [
           26355.66
          ],
          [
           72478.09
          ],
          [
           72478.09
          ],
          [
           131119.45
          ],
          [
           69183.63
          ],
          [
           184489.68
          ],
          [
           56664.68
          ],
          [
           59300.25
          ],
          [
           54688.01
          ],
          [
           92244.84
          ],
          [
           52711.33
          ],
          [
           62594.71
          ],
          [
           62594.71
          ],
          [
           32944.58
          ],
          [
           31937.46
          ],
          [
           46011.6
          ],
          [
           151567.64
          ],
          [
           153000
          ],
          [
           162393.9
          ],
          [
           35185.34
          ],
          [
           36809.28
          ],
          [
           31396.15
          ],
          [
           81196.95
          ],
          [
           146154.51
          ],
          [
           343571.36
          ],
          [
           66828.71
          ],
          [
           324787.8
          ],
          [
           368092.84
          ],
          [
           21111.2
          ],
          [
           156980.77
          ],
          [
           51424.73
          ],
          [
           27390.43
          ],
          [
           29176.77
          ],
          [
           146154.51
          ],
          [
           50878
          ],
          [
           51966.04
          ],
          [
           62250.99
          ],
          [
           62250.99
          ],
          [
           162393.9
          ],
          [
           232223.28
          ],
          [
           74701.19
          ],
          [
           146154.51
          ],
          [
           16239.39
          ],
          [
           35185.34
          ],
          [
           36267.97
          ],
          [
           119088.86
          ],
          [
           85527.45
          ],
          [
           14344.79
          ],
          [
           17863.32
          ],
          [
           21111.2
          ],
          [
           16239.39
          ],
          [
           75783.82
          ],
          [
           16780.7
          ],
          [
           14886.1
          ],
          [
           361597.08
          ],
          [
           92023.21
          ],
          [
           26524.33
          ],
          [
           31396.15
          ],
          [
           94459.12
          ],
          [
           156980.77
          ],
          [
           20028.58
          ],
          [
           43305.04
          ],
          [
           52507.36
          ],
          [
           257123.67
          ],
          [
           73077.25
          ],
          [
           56837.86
          ],
          [
           67664.12
          ],
          [
           319374.67
          ],
          [
           70370.69
          ],
          [
           70370.69
          ],
          [
           70370.69
          ],
          [
           70370.69
          ],
          [
           83903.51
          ],
          [
           48176.85
          ],
          [
           86068.76
          ],
          [
           86610.08
          ],
          [
           86610.08
          ],
          [
           89316.64
          ],
          [
           297722.15
          ],
          [
           124501.99
          ],
          [
           177821.32
          ],
          [
           105556.03
          ],
          [
           107721.28
          ],
          [
           243590.85
          ],
          [
           110969.16
          ],
          [
           116382.29
          ],
          [
           111510.47
          ],
          [
           119088.86
          ],
          [
           503421.09
          ],
          [
           119088.86
          ],
          [
           121795.42
          ],
          [
           121795.42
          ],
          [
           119088.86
          ],
          [
           123419.36
          ],
          [
           69017.4
          ],
          [
           124501.99
          ],
          [
           124501.99
          ],
          [
           28689.58
          ],
          [
           134786.93
          ],
          [
           135328.25
          ],
          [
           135328.25
          ],
          [
           135328.25
          ],
          [
           135328.25
          ],
          [
           140741.38
          ],
          [
           143447.94
          ],
          [
           27065.65
          ],
          [
           811969.51
          ],
          [
           28148.27
          ],
          [
           29772.21
          ],
          [
           297722.15
          ],
          [
           221938.33
          ],
          [
           207864.19
          ],
          [
           86610.08
          ],
          [
           136681.53
          ],
          [
           10000000
          ],
          [
           35185.34
          ],
          [
           119088.86
          ],
          [
           162393.9
          ],
          [
           270656.5
          ],
          [
           27065.65
          ],
          [
           48176.85
          ],
          [
           541313
          ],
          [
           116923.6
          ],
          [
           37350.59
          ],
          [
           37891.91
          ],
          [
           81196.95
          ],
          [
           107721.28
          ],
          [
           24683.87
          ],
          [
           36538.62
          ],
          [
           676641.26
          ],
          [
           25577.03
          ],
          [
           151567.64
          ],
          [
           35185.34
          ],
          [
           17755.06
          ],
          [
           59544.43
          ],
          [
           67664.12
          ],
          [
           40057.16
          ],
          [
           151567.64
          ],
          [
           29230.9
          ],
          [
           324787.8
          ],
          [
           23276.45
          ],
          [
           89316.64
          ],
          [
           106638.66
          ],
          [
           156006.4
          ],
          [
           27065.65
          ],
          [
           162393.9
          ],
          [
           108262.6
          ],
          [
           92023.21
          ],
          [
           151026.32
          ],
          [
           148861.07
          ],
          [
           149402.39
          ],
          [
           67664.12
          ],
          [
           81196.95
          ],
          [
           151567.64
          ],
          [
           151567.64
          ],
          [
           151567.64
          ],
          [
           154274.2
          ],
          [
           156980.77
          ],
          [
           159687.33
          ],
          [
           162393.9
          ],
          [
           162393.9
          ],
          [
           162393.9
          ],
          [
           35185.34
          ],
          [
           703706.91
          ],
          [
           162393.9
          ],
          [
           162393.9
          ],
          [
           173220.16
          ],
          [
           173220.16
          ],
          [
           173220.16
          ],
          [
           243590.85
          ],
          [
           175926.72
          ],
          [
           178633.29
          ],
          [
           178633.29
          ],
          [
           173220.16
          ],
          [
           178633.29
          ],
          [
           125000
          ],
          [
           28635.45
          ],
          [
           178633.29
          ],
          [
           181881.17
          ],
          [
           184046.42
          ],
          [
           189459.55
          ],
          [
           113675.73
          ],
          [
           189459.55
          ],
          [
           189459.55
          ],
          [
           189459.55
          ],
          [
           189459.55
          ],
          [
           94729.77
          ],
          [
           189459.55
          ],
          [
           189459.55
          ],
          [
           189459.55
          ],
          [
           189459.55
          ],
          [
           32478.78
          ],
          [
           194872.68
          ],
          [
           194872.68
          ],
          [
           200285.81
          ],
          [
           67664.12
          ],
          [
           208405.5
          ],
          [
           211112.07
          ],
          [
           37891.91
          ],
          [
           40598.47
          ],
          [
           44604.19
          ],
          [
           216525.2
          ],
          [
           216525.2
          ],
          [
           105556.03
          ],
          [
           216525.2
          ],
          [
           227351.46
          ],
          [
           227351.46
          ],
          [
           11908.88
          ],
          [
           40598.47
          ],
          [
           227351.46
          ],
          [
           240884.28
          ],
          [
           243590.85
          ],
          [
           251710.54
          ],
          [
           259830.24
          ],
          [
           262536.8
          ],
          [
           262536.8
          ],
          [
           90128.61
          ],
          [
           186752.98
          ],
          [
           184046.42
          ],
          [
           265243.37
          ],
          [
           265243.37
          ],
          [
           267949.93
          ],
          [
           270656.5
          ],
          [
           270656.5
          ],
          [
           305841.84
          ],
          [
           161852.58
          ],
          [
           311254.98
          ],
          [
           21652.52
          ],
          [
           148319.76
          ],
          [
           322081.24
          ],
          [
           324787.8
          ],
          [
           327494.37
          ],
          [
           351853.45
          ],
          [
           368092.84
          ],
          [
           368092.84
          ],
          [
           378919.1
          ],
          [
           378919.1
          ],
          [
           378919.1
          ],
          [
           378919.1
          ],
          [
           395158.49
          ],
          [
           395158.49
          ],
          [
           433050.4
          ],
          [
           433050.4
          ],
          [
           27606.96
          ],
          [
           486099.08
          ],
          [
           69829.37
          ],
          [
           69829.37
          ],
          [
           51424.73
          ],
          [
           27065.65
          ],
          [
           21652.52
          ],
          [
           67664.12
          ],
          [
           97436.34
          ],
          [
           86610.08
          ],
          [
           185670.36
          ],
          [
           514247.35
          ],
          [
           476355.44
          ],
          [
           514247.35
          ],
          [
           178633.29
          ],
          [
           514247.35
          ],
          [
           227351.46
          ],
          [
           525073.61
          ],
          [
           541313
          ],
          [
           541313
          ],
          [
           17863.32
          ],
          [
           105556.03
          ],
          [
           541313
          ],
          [
           595444.3
          ],
          [
           378864.97
          ],
          [
           25983.02
          ],
          [
           69017.4
          ],
          [
           46011.6
          ],
          [
           59544.43
          ],
          [
           143447.94
          ],
          [
           205698.94
          ],
          [
           25712.36
          ],
          [
           622509.96
          ],
          [
           622509.96
          ],
          [
           663108.43
          ],
          [
           811969.51
          ],
          [
           866100.81
          ],
          [
           920232.11
          ],
          [
           1623939.02
          ],
          [
           400000
          ],
          [
           165000
          ],
          [
           290000
          ],
          [
           350000
          ],
          [
           620000
          ],
          [
           1000000
          ],
          [
           1000000
          ],
          [
           1000000
          ],
          [
           1100000
          ],
          [
           1200000
          ],
          [
           1300000
          ],
          [
           1500000
          ],
          [
           1500000
          ],
          [
           1000000
          ],
          [
           121470.63
          ],
          [
           47094.23
          ],
          [
           125530.48
          ],
          [
           54131.3
          ],
          [
           270656.5
          ],
          [
           92023.21
          ],
          [
           238177.72
          ],
          [
           260000
          ],
          [
           109700
          ],
          [
           44874.84
          ],
          [
           37891.91
          ],
          [
           24359.08
          ],
          [
           43305.04
          ],
          [
           34102.71
          ],
          [
           48718.17
          ],
          [
           40057.16
          ],
          [
           54131.3
          ],
          [
           96353.71
          ],
          [
           173197.96
          ],
          [
           89316.64
          ],
          [
           107721.28
          ],
          [
           54131.3
          ],
          [
           59544.43
          ],
          [
           27065.65
          ],
          [
           36322.1
          ],
          [
           15860.47
          ],
          [
           249003.98
          ],
          [
           40598.47
          ],
          [
           91481.89
          ],
          [
           85256.79
          ],
          [
           127208.55
          ],
          [
           72211.15
          ],
          [
           204075
          ],
          [
           21652.52
          ],
          [
           345899.01
          ],
          [
           227351.46
          ],
          [
           124501.99
          ],
          [
           649575.61
          ],
          [
           116382.29
          ],
          [
           94729.77
          ],
          [
           42763.72
          ],
          [
           53048.67
          ],
          [
           100816.84
          ],
          [
           162123.24
          ],
          [
           83903.51
          ],
          [
           15156.76
          ],
          [
           20028.58
          ],
          [
           72265.28
          ],
          [
           18945.95
          ],
          [
           20028.58
          ],
          [
           89316.64
          ],
          [
           32478.78
          ],
          [
           40057.16
          ],
          [
           54131.3
          ],
          [
           724175.71
          ],
          [
           189671.34
          ],
          [
           253481.28757515032
          ],
          [
           216731.21242484968
          ],
          [
           127211.7985971944
          ],
          [
           174327.27955911824
          ],
          [
           80714.39729458919
          ],
          [
           130981.03707414828
          ],
          [
           395770.0400801603
          ],
          [
           317369.879759519
          ],
          [
           68296.80110220441
          ],
          [
           931320.0365731462
          ],
          [
           24835.191883767533
          ],
          [
           68296.80110220441
          ],
          [
           68296.80110220441
          ],
          [
           123555.11873747494
          ],
          [
           65192.399799599196
          ],
          [
           173846.3997995992
          ],
          [
           53395.67284569138
          ],
          [
           55879.195891783565
          ],
          [
           51533.0375751503
          ],
          [
           86923.1998997996
          ],
          [
           49670.393286573155
          ],
          [
           58983.59719438878
          ],
          [
           58983.59719438878
          ],
          [
           31043.994488977954
          ],
          [
           30094.975450901802
          ],
          [
           43357.17284569138
          ],
          [
           142823.64478957915
          ],
          [
           144173.37174348696
          ],
          [
           153025.33366733463
          ],
          [
           33155.48396793587
          ],
          [
           34685.738476953906
          ],
          [
           29584.893787575147
          ],
          [
           76512.66683366732
          ],
          [
           137722.8006012024
          ],
          [
           323750.59719438874
          ],
          [
           62973.33617234469
          ],
          [
           306050.6678356713
          ],
          [
           346857.4238476953
          ],
          [
           19893.28657314629
          ],
          [
           147924.48947895793
          ],
          [
           48458.01753507014
          ],
          [
           25810.265531062123
          ],
          [
           27493.5506012024
          ],
          [
           137722.8006012024
          ],
          [
           47942.82865731463
          ],
          [
           48968.09919839679
          ],
          [
           58659.706412825646
          ],
          [
           58659.706412825646
          ],
          [
           153025.33366733463
          ],
          [
           218826.23046092183
          ],
          [
           70391.6497995992
          ],
          [
           137722.8006012024
          ],
          [
           15302.533066132262
          ],
          [
           33155.48396793587
          ],
          [
           34175.656813627254
          ],
          [
           112218.5781563126
          ],
          [
           80593.33867735471
          ],
          [
           13517.233466933867
          ],
          [
           16832.778056112224
          ],
          [
           19893.28657314629
          ],
          [
           15302.533066132262
          ],
          [
           71411.82214428857
          ],
          [
           15812.614729458915
          ],
          [
           14027.315130260522
          ],
          [
           340736.4063126252
          ],
          [
           86714.35571142285
          ],
          [
           24994.13126252505
          ],
          [
           29584.893787575147
          ],
          [
           89009.73697394789
          ],
          [
           147924.48947895793
          ],
          [
           18873.12324649298
          ],
          [
           40806.755511022035
          ],
          [
           49478.19038076152
          ],
          [
           242290.1072144289
          ],
          [
           68861.39529058116
          ],
          [
           53558.861723446884
          ],
          [
           63760.551102204416
          ],
          [
           300949.8236472946
          ],
          [
           66310.97795591183
          ],
          [
           66310.97795591183
          ],
          [
           66310.97795591183
          ],
          [
           66310.97795591183
          ],
          [
           79063.08416833666
          ],
          [
           45397.509018036064
          ],
          [
           81103.42034068136
          ],
          [
           81613.51102204407
          ],
          [
           81613.51102204407
          ],
          [
           84163.92885771544
          ],
          [
           280546.4453907816
          ],
          [
           117319.42234468936
          ],
          [
           167562.7399799599
          ],
          [
           99466.46242484971
          ],
          [
           101506.79809619236
          ],
          [
           229538.001002004
          ],
          [
           104567.30661322645
          ],
          [
           109668.1513026052
          ],
          [
           105077.3882765531
          ],
          [
           112218.5781563126
          ],
          [
           474378.5355711423
          ],
          [
           112218.5781563126
          ],
          [
           114768.99549098195
          ],
          [
           114768.99549098195
          ],
          [
           112218.5781563126
          ],
          [
           116299.25
          ],
          [
           65035.759519038074
          ],
          [
           117319.42234468936
          ],
          [
           117319.42234468936
          ],
          [
           27034.466933867734
          ],
          [
           127011.02054108215
          ],
          [
           127521.1117234469
          ],
          [
           127521.1117234469
          ],
          [
           127521.1117234469
          ],
          [
           127521.1117234469
          ],
          [
           132621.95591182366
          ],
          [
           135172.37324649296
          ],
          [
           25504.22194388778
          ],
          [
           765126.6793587173
          ],
          [
           26524.38527054108
          ],
          [
           28054.639779559115
          ],
          [
           280546.4453907816
          ],
          [
           209134.62274549092
          ],
          [
           195872.42535070138
          ],
          [
           81613.51102204407
          ],
          [
           128796.32014028054
          ],
          [
           9423096.192384768
          ],
          [
           33155.48396793587
          ],
          [
           112218.5781563126
          ],
          [
           153025.33366733463
          ],
          [
           255042.2234468938
          ],
          [
           25504.22194388778
          ],
          [
           45397.509018036064
          ],
          [
           510084.4468937876
          ],
          [
           110178.23296593183
          ],
          [
           35195.820140280564
          ],
          [
           35705.91082164329
          ],
          [
           76512.66683366732
          ],
          [
           101506.79809619236
          ],
          [
           23259.84769539078
          ],
          [
           34430.69288577154
          ],
          [
           637605.5676352704
          ],
          [
           24101.480961923848
          ],
          [
           142823.64478957915
          ],
          [
           33155.48396793587
          ],
          [
           16730.76352705411
          ],
          [
           56109.28907815631
          ],
          [
           63760.551102204416
          ],
          [
           37746.24699398797
          ],
          [
           142823.64478957915
          ],
          [
           27544.558116232467
          ],
          [
           306050.6678356713
          ],
          [
           21933.62224448897
          ],
          [
           84163.92885771544
          ],
          [
           100486.63476953909
          ],
          [
           147006.33116232464
          ],
          [
           25504.22194388778
          ],
          [
           153025.33366733463
          ],
          [
           102016.88927855712
          ],
          [
           86714.35571142285
          ],
          [
           142313.55360721445
          ],
          [
           140273.21793587177
          ],
          [
           140783.30911823647
          ],
          [
           63760.551102204416
          ],
          [
           76512.66683366732
          ],
          [
           142823.64478957915
          ],
          [
           142823.64478957915
          ],
          [
           142823.64478957915
          ],
          [
           145374.06262525052
          ],
          [
           147924.48947895793
          ],
          [
           150474.90681362725
          ],
          [
           153025.33366733463
          ],
          [
           153025.33366733463
          ],
          [
           153025.33366733463
          ],
          [
           33155.48396793587
          ],
          [
           663109.7900801604
          ],
          [
           153025.33366733463
          ],
          [
           153025.33366733463
          ],
          [
           163227.02254509018
          ],
          [
           163227.02254509018
          ],
          [
           163227.02254509018
          ],
          [
           229538.001002004
          ],
          [
           165777.44038076152
          ],
          [
           168327.86723446893
          ],
          [
           168327.86723446893
          ],
          [
           163227.02254509018
          ],
          [
           168327.86723446893
          ],
          [
           117788.70240480964
          ],
          [
           26983.459919839683
          ],
          [
           168327.86723446893
          ],
          [
           171388.37575150302
          ],
          [
           173428.71192384767
          ],
          [
           178529.55611222444
          ],
          [
           107117.73346693387
          ],
          [
           178529.55611222444
          ],
          [
           178529.55611222444
          ],
          [
           178529.55611222444
          ],
          [
           178529.55611222444
          ],
          [
           89264.77304609219
          ],
          [
           178529.55611222444
          ],
          [
           178529.55611222444
          ],
          [
           178529.55611222444
          ],
          [
           178529.55611222444
          ],
          [
           30605.06663326653
          ],
          [
           183630.40080160322
          ],
          [
           183630.40080160322
          ],
          [
           188731.24498997995
          ],
          [
           63760.551102204416
          ],
          [
           196382.50701402806
          ],
          [
           198932.93386773547
          ],
          [
           35705.91082164329
          ],
          [
           38256.32865731463
          ],
          [
           42030.956913827664
          ],
          [
           204033.77855711424
          ],
          [
           204033.77855711424
          ],
          [
           99466.46242484971
          ],
          [
           204033.77855711424
          ],
          [
           214235.46743486973
          ],
          [
           214235.46743486973
          ],
          [
           11221.851703406814
          ],
          [
           38256.32865731463
          ],
          [
           214235.46743486973
          ],
          [
           226987.5741482966
          ],
          [
           229538.001002004
          ],
          [
           237189.2630260521
          ],
          [
           244840.53406813624
          ],
          [
           247390.9519038076
          ],
          [
           247390.9519038076
          ],
          [
           84929.05611222444
          ],
          [
           175979.12925851703
          ],
          [
           173428.71192384767
          ],
          [
           249941.37875751505
          ],
          [
           249941.37875751505
          ],
          [
           252491.79609218435
          ],
          [
           255042.2234468938
          ],
          [
           255042.2234468938
          ],
          [
           288197.70741482964
          ],
          [
           152515.24298597194
          ],
          [
           293298.56162324647
          ],
          [
           20403.377755511017
          ],
          [
           139763.1362725451
          ],
          [
           303500.250501002
          ],
          [
           306050.6678356713
          ],
          [
           308601.09468937875
          ],
          [
           331554.8902805611
          ],
          [
           346857.4238476953
          ],
          [
           346857.4238476953
          ],
          [
           357059.11272545095
          ],
          [
           357059.11272545095
          ],
          [
           357059.11272545095
          ],
          [
           357059.11272545095
          ],
          [
           372361.6457915832
          ],
          [
           372361.6457915832
          ],
          [
           408067.55711422843
          ],
          [
           408067.55711422843
          ],
          [
           26014.303607214428
          ],
          [
           458055.8386773546
          ],
          [
           65800.88677354707
          ],
          [
           65800.88677354707
          ],
          [
           48458.01753507014
          ],
          [
           25504.22194388778
          ],
          [
           20403.377755511017
          ],
          [
           63760.551102204416
          ],
          [
           91815.20040080161
          ],
          [
           81613.51102204407
          ],
          [
           174958.96593186373
          ],
          [
           484580.2244488978
          ],
          [
           448874.3131262525
          ],
          [
           484580.2244488978
          ],
          [
           168327.86723446893
          ],
          [
           484580.2244488978
          ],
          [
           214235.46743486973
          ],
          [
           494781.9133266533
          ],
          [
           510084.4468937876
          ],
          [
           510084.4468937876
          ],
          [
           16832.778056112224
          ],
          [
           99466.46242484971
          ],
          [
           510084.4468937876
          ],
          [
           561092.8912825651
          ],
          [
           357008.10521042085
          ],
          [
           24484.0495991984
          ],
          [
           65035.759519038074
          ],
          [
           43357.17284569138
          ],
          [
           56109.28907815631
          ],
          [
           135172.37324649296
          ],
          [
           193832.0896793587
          ],
          [
           24229.00400801603
          ],
          [
           586597.1232464929
          ],
          [
           586597.1232464929
          ],
          [
           624853.4519038076
          ],
          [
           765126.6793587173
          ],
          [
           816135.1242484971
          ],
          [
           867143.5691382765
          ],
          [
           1530253.3592184368
          ],
          [
           376923.8476953908
          ],
          [
           155481.08717434868
          ],
          [
           273269.7895791583
          ],
          [
           329808.3667334669
          ],
          [
           584231.9639278557
          ],
          [
           942309.6192384771
          ],
          [
           942309.6192384771
          ],
          [
           942309.6192384771
          ],
          [
           1036540.5811623245
          ],
          [
           1130771.5430861723
          ],
          [
           1225002.50501002
          ],
          [
           1413464.4288577153
          ],
          [
           1413464.4288577153
          ],
          [
           942309.6192384771
          ],
          [
           114462.94288577152
          ],
          [
           44377.34569138276
          ],
          [
           118288.57865731463
          ],
          [
           51008.444388777556
          ],
          [
           255042.2234468938
          ],
          [
           86714.35571142285
          ],
          [
           224437.1563126252
          ],
          [
           245000.501002004
          ],
          [
           103371.36523046091
          ],
          [
           42285.99298597194
          ],
          [
           35705.91082164329
          ],
          [
           22953.79509018036
          ],
          [
           40806.755511022035
          ],
          [
           32135.31162324649
          ],
          [
           45907.600200400804
          ],
          [
           37746.24699398797
          ],
          [
           51008.444388777556
          ],
          [
           90795.0275551102
          ],
          [
           163206.10370741482
          ],
          [
           84163.92885771544
          ],
          [
           101506.79809619236
          ],
          [
           51008.444388777556
          ],
          [
           56109.28907815631
          ],
          [
           25504.22194388778
          ],
          [
           34226.663827655306
          ],
          [
           14945.472945891785
          ],
          [
           234638.84519038073
          ],
          [
           38256.32865731463
          ],
          [
           86204.26452905811
          ],
          [
           80338.29308617233
          ],
          [
           119869.84018036073
          ],
          [
           68045.26102204407
          ],
          [
           192301.83517034067
          ],
          [
           20403.377755511017
          ],
          [
           325943.9639278557
          ],
          [
           214235.46743486973
          ],
          [
           117319.42234468936
          ],
          [
           612101.3456913828
          ],
          [
           109668.1513026052
          ],
          [
           89264.77304609219
          ],
          [
           40296.664328657316
          ],
          [
           49988.27154308617
          ],
          [
           95000.67785571143
          ],
          [
           152770.2880761523
          ],
          [
           79063.08416833666
          ],
          [
           14282.360721442883
          ],
          [
           18873.12324649298
          ],
          [
           68096.26803607214
          ],
          [
           17852.950901803608
          ],
          [
           18873.12324649298
          ],
          [
           84163.92885771544
          ],
          [
           30605.06663326653
          ],
          [
           37746.24699398797
          ],
          [
           51008.444388777556
          ],
          [
           682397.7374749499
          ],
          [
           178729.12775551106
          ],
          [
           269000
          ],
          [
           230000
          ],
          [
           135000
          ],
          [
           185000
          ],
          [
           85655.92
          ],
          [
           139000
          ],
          [
           420000
          ],
          [
           336800
          ],
          [
           72478.09
          ],
          [
           988337.61
          ],
          [
           26355.66
          ],
          [
           72478.09
          ],
          [
           72478.09
          ],
          [
           131119.45
          ],
          [
           69183.63
          ],
          [
           184489.68
          ],
          [
           56664.68
          ],
          [
           59300.25
          ],
          [
           54688.01
          ],
          [
           92244.84
          ],
          [
           52711.33
          ],
          [
           62594.71
          ],
          [
           62594.71
          ],
          [
           32944.58
          ],
          [
           31937.46
          ],
          [
           46011.6
          ],
          [
           151567.64
          ],
          [
           153000
          ],
          [
           162393.9
          ],
          [
           35185.34
          ],
          [
           36809.28
          ],
          [
           31396.15
          ],
          [
           81196.95
          ],
          [
           146154.51
          ],
          [
           343571.36
          ],
          [
           66828.71
          ],
          [
           324787.8
          ],
          [
           368092.84
          ],
          [
           21111.2
          ],
          [
           156980.77
          ],
          [
           51424.73
          ],
          [
           27390.43
          ],
          [
           29176.77
          ],
          [
           146154.51
          ],
          [
           50878
          ],
          [
           51966.04
          ],
          [
           62250.99
          ],
          [
           62250.99
          ],
          [
           162393.9
          ],
          [
           232223.28
          ],
          [
           74701.19
          ],
          [
           146154.51
          ],
          [
           16239.39
          ],
          [
           35185.34
          ],
          [
           36267.97
          ],
          [
           119088.86
          ],
          [
           85527.45
          ],
          [
           14344.79
          ],
          [
           17863.32
          ],
          [
           21111.2
          ],
          [
           16239.39
          ],
          [
           75783.82
          ],
          [
           16780.7
          ],
          [
           14886.1
          ],
          [
           361597.08
          ],
          [
           92023.21
          ],
          [
           26524.33
          ],
          [
           31396.15
          ],
          [
           94459.12
          ],
          [
           156980.77
          ],
          [
           20028.58
          ],
          [
           43305.04
          ],
          [
           52507.36
          ],
          [
           257123.67
          ],
          [
           73077.25
          ],
          [
           56837.86
          ],
          [
           67664.12
          ],
          [
           319374.67
          ],
          [
           70370.69
          ],
          [
           70370.69
          ],
          [
           70370.69
          ],
          [
           70370.69
          ],
          [
           83903.51
          ],
          [
           48176.85
          ],
          [
           86068.76
          ],
          [
           86610.08
          ],
          [
           86610.08
          ],
          [
           89316.64
          ],
          [
           297722.15
          ],
          [
           124501.99
          ],
          [
           177821.32
          ],
          [
           105556.03
          ],
          [
           107721.28
          ],
          [
           243590.85
          ],
          [
           110969.16
          ],
          [
           116382.29
          ],
          [
           111510.47
          ],
          [
           119088.86
          ],
          [
           503421.09
          ],
          [
           119088.86
          ],
          [
           121795.42
          ],
          [
           121795.42
          ],
          [
           119088.86
          ],
          [
           123419.36
          ],
          [
           69017.4
          ],
          [
           124501.99
          ],
          [
           124501.99
          ],
          [
           28689.58
          ],
          [
           134786.93
          ],
          [
           135328.25
          ],
          [
           135328.25
          ],
          [
           135328.25
          ],
          [
           135328.25
          ],
          [
           140741.38
          ],
          [
           143447.94
          ],
          [
           27065.65
          ],
          [
           811969.51
          ],
          [
           28148.27
          ],
          [
           29772.21
          ],
          [
           297722.15
          ],
          [
           221938.33
          ],
          [
           207864.19
          ],
          [
           86610.08
          ],
          [
           136681.53
          ],
          [
           10000000
          ],
          [
           35185.34
          ],
          [
           119088.86
          ],
          [
           162393.9
          ],
          [
           270656.5
          ],
          [
           27065.65
          ],
          [
           48176.85
          ],
          [
           541313
          ],
          [
           116923.6
          ],
          [
           37350.59
          ],
          [
           37891.91
          ],
          [
           81196.95
          ],
          [
           107721.28
          ],
          [
           24683.87
          ],
          [
           36538.62
          ],
          [
           676641.26
          ],
          [
           25577.03
          ],
          [
           151567.64
          ],
          [
           35185.34
          ],
          [
           17755.06
          ],
          [
           59544.43
          ],
          [
           67664.12
          ],
          [
           40057.16
          ],
          [
           151567.64
          ],
          [
           29230.9
          ],
          [
           324787.8
          ],
          [
           23276.45
          ],
          [
           89316.64
          ],
          [
           106638.66
          ],
          [
           156006.4
          ],
          [
           27065.65
          ],
          [
           162393.9
          ],
          [
           108262.6
          ],
          [
           92023.21
          ],
          [
           151026.32
          ],
          [
           148861.07
          ],
          [
           149402.39
          ],
          [
           67664.12
          ],
          [
           81196.95
          ],
          [
           151567.64
          ],
          [
           151567.64
          ],
          [
           151567.64
          ],
          [
           154274.2
          ],
          [
           156980.77
          ],
          [
           159687.33
          ],
          [
           162393.9
          ],
          [
           162393.9
          ],
          [
           162393.9
          ],
          [
           35185.34
          ],
          [
           703706.91
          ],
          [
           162393.9
          ],
          [
           162393.9
          ],
          [
           173220.16
          ],
          [
           173220.16
          ],
          [
           173220.16
          ],
          [
           243590.85
          ],
          [
           175926.72
          ],
          [
           178633.29
          ],
          [
           178633.29
          ],
          [
           173220.16
          ],
          [
           178633.29
          ],
          [
           125000
          ],
          [
           28635.45
          ],
          [
           178633.29
          ],
          [
           181881.17
          ],
          [
           184046.42
          ],
          [
           189459.55
          ],
          [
           113675.73
          ],
          [
           189459.55
          ],
          [
           189459.55
          ],
          [
           189459.55
          ],
          [
           189459.55
          ],
          [
           94729.77
          ],
          [
           189459.55
          ],
          [
           189459.55
          ],
          [
           189459.55
          ],
          [
           189459.55
          ],
          [
           32478.78
          ],
          [
           194872.68
          ],
          [
           194872.68
          ],
          [
           200285.81
          ],
          [
           67664.12
          ],
          [
           208405.5
          ],
          [
           211112.07
          ],
          [
           37891.91
          ],
          [
           40598.47
          ],
          [
           44604.19
          ],
          [
           216525.2
          ],
          [
           216525.2
          ],
          [
           105556.03
          ],
          [
           216525.2
          ],
          [
           227351.46
          ],
          [
           227351.46
          ],
          [
           11908.88
          ],
          [
           40598.47
          ],
          [
           227351.46
          ],
          [
           240884.28
          ],
          [
           243590.85
          ],
          [
           251710.54
          ],
          [
           259830.24
          ],
          [
           262536.8
          ],
          [
           262536.8
          ],
          [
           90128.61
          ],
          [
           186752.98
          ],
          [
           184046.42
          ],
          [
           265243.37
          ],
          [
           265243.37
          ],
          [
           267949.93
          ],
          [
           270656.5
          ],
          [
           270656.5
          ],
          [
           305841.84
          ],
          [
           161852.58
          ],
          [
           311254.98
          ],
          [
           21652.52
          ],
          [
           148319.76
          ],
          [
           322081.24
          ],
          [
           324787.8
          ],
          [
           327494.37
          ],
          [
           351853.45
          ],
          [
           368092.84
          ],
          [
           368092.84
          ],
          [
           378919.1
          ],
          [
           378919.1
          ],
          [
           378919.1
          ],
          [
           378919.1
          ],
          [
           395158.49
          ],
          [
           395158.49
          ],
          [
           433050.4
          ],
          [
           433050.4
          ],
          [
           27606.96
          ],
          [
           486099.08
          ],
          [
           69829.37
          ],
          [
           69829.37
          ],
          [
           51424.73
          ],
          [
           27065.65
          ],
          [
           21652.52
          ],
          [
           67664.12
          ],
          [
           97436.34
          ],
          [
           86610.08
          ],
          [
           185670.36
          ],
          [
           514247.35
          ],
          [
           476355.44
          ],
          [
           514247.35
          ],
          [
           178633.29
          ],
          [
           514247.35
          ],
          [
           227351.46
          ],
          [
           525073.61
          ],
          [
           541313
          ],
          [
           541313
          ],
          [
           17863.32
          ],
          [
           105556.03
          ],
          [
           541313
          ],
          [
           595444.3
          ],
          [
           378864.97
          ],
          [
           25983.02
          ],
          [
           69017.4
          ],
          [
           46011.6
          ],
          [
           59544.43
          ],
          [
           143447.94
          ],
          [
           205698.94
          ],
          [
           25712.36
          ],
          [
           622509.96
          ],
          [
           622509.96
          ],
          [
           663108.43
          ],
          [
           811969.51
          ],
          [
           866100.81
          ],
          [
           920232.11
          ],
          [
           1623939.02
          ],
          [
           400000
          ],
          [
           165000
          ],
          [
           290000
          ],
          [
           350000
          ],
          [
           620000
          ],
          [
           1000000
          ],
          [
           1000000
          ],
          [
           1000000
          ],
          [
           1100000
          ],
          [
           1200000
          ],
          [
           1300000
          ],
          [
           1500000
          ],
          [
           1500000
          ],
          [
           1000000
          ],
          [
           121470.63
          ],
          [
           47094.23
          ],
          [
           125530.48
          ],
          [
           54131.3
          ],
          [
           270656.5
          ],
          [
           92023.21
          ],
          [
           238177.72
          ],
          [
           260000
          ],
          [
           109700
          ],
          [
           44874.84
          ],
          [
           37891.91
          ],
          [
           24359.08
          ],
          [
           43305.04
          ],
          [
           34102.71
          ],
          [
           48718.17
          ],
          [
           40057.16
          ],
          [
           54131.3
          ],
          [
           96353.71
          ],
          [
           173197.96
          ],
          [
           89316.64
          ],
          [
           107721.28
          ],
          [
           54131.3
          ],
          [
           59544.43
          ],
          [
           27065.65
          ],
          [
           36322.1
          ],
          [
           15860.47
          ],
          [
           249003.98
          ],
          [
           40598.47
          ],
          [
           91481.89
          ],
          [
           85256.79
          ],
          [
           127208.55
          ],
          [
           72211.15
          ],
          [
           204075
          ],
          [
           21652.52
          ],
          [
           345899.01
          ],
          [
           227351.46
          ],
          [
           124501.99
          ],
          [
           649575.61
          ],
          [
           116382.29
          ],
          [
           94729.77
          ],
          [
           42763.72
          ],
          [
           53048.67
          ],
          [
           100816.84
          ],
          [
           162123.24
          ],
          [
           83903.51
          ],
          [
           15156.76
          ],
          [
           20028.58
          ],
          [
           72265.28
          ],
          [
           18945.95
          ],
          [
           20028.58
          ],
          [
           89316.64
          ],
          [
           32478.78
          ],
          [
           40057.16
          ],
          [
           54131.3
          ],
          [
           724175.71
          ],
          [
           189671.34
          ]
         ],
         "hovertemplate": "lat=%{lat}<br>lon=%{lon}<br>price_usd=%{customdata[0]}<extra></extra>",
         "lat": [
          20.627527,
          20.627567000000006,
          20.6267,
          20.635482,
          20.62158,
          20.630723,
          20.636356,
          20.616003,
          21.026917,
          20.698689,
          20.927007,
          20.666667,
          20.997851,
          21.036225,
          20.666667,
          20.96681,
          20.97,
          20.993882,
          21.022035,
          21.017202,
          20.968765,
          21.010511,
          20.989657,
          20.968422,
          19.54761,
          19.497295,
          20.96681,
          20.723851,
          15.769284,
          15.768979000000002,
          15.774263,
          15.769287,
          15.776394,
          19.41501,
          19.41501,
          21.965213,
          19.677936,
          19.62805,
          18.806108,
          19.068634,
          25.774904,
          18.761547,
          18.766667,
          18.898536,
          25.614511,
          20.118493,
          20.116699,
          18.962486,
          20.121667,
          18.943401,
          25.455442,
          18.849655,
          19.649624,
          19.726771,
          19.456564,
          20.10578,
          16.757716000000002,
          25.624988,
          20.06755,
          20.045819,
          20.067054,
          19.512787,
          20.035295,
          20.031747,
          19.358776,
          19.36237,
          25.810335,
          16.773699,
          19.24647,
          18.998745,
          28.838420000000006,
          18.681305,
          18.917941,
          29.115721,
          18.889614,
          18.793997,
          18.890011,
          19.346521,
          18.804108,
          18.784964,
          18.804108,
          18.915981,
          18.861338,
          19.506648,
          18.896955,
          18.920878,
          18.926634,
          18.912997,
          19.353278,
          18.876475,
          19.314291,
          18.88304,
          18.953268,
          19.507703,
          18.966718,
          18.864051,
          19.309512,
          18.905797,
          19.30389,
          28.416303000000006,
          18.912997,
          18.921106,
          18.927526,
          18.905943,
          21.009741,
          18.881568,
          18.727412,
          25.6567,
          18.902308,
          19.314921,
          17.061256,
          18.683333,
          18.891843,
          18.656933,
          18.863376,
          18.980009,
          20.58372,
          19.678894,
          19.293045000000006,
          19.326078,
          19.379739,
          19.379982,
          20.495122,
          19.52155,
          19.395209,
          19.563188,
          19.374976,
          19.403483,
          19.375172,
          19.3156,
          25.673256,
          19.840637,
          19.516065,
          19.3156,
          19.3156,
          19.630895,
          19.399982,
          19.668294,
          18.851992000000006,
          19.049938,
          19.3156,
          19.407682,
          19.442791,
          19.668456,
          19.292125,
          19.3156,
          19.456151,
          19.372675,
          19.3156,
          19.387146,
          19.362024,
          19.527662,
          19.3156,
          19.433558,
          32.612365999999994,
          21.156621,
          18.903176,
          19.662669,
          18.963375,
          18.905797,
          18.944016,
          25.518763,
          19.351277,
          18.917183,
          18.927531,
          18.907448,
          18.863376,
          18.949811,
          18.741928,
          18.882725,
          18.976827,
          18.892438,
          16.783867,
          21.018223000000006,
          18.952786,
          18.918117,
          18.905797,
          18.923849,
          18.971828,
          18.875591,
          18.947303,
          18.960201,
          18.922082,
          18.972662,
          20.505226,
          32.413325,
          19.99021,
          18.952743,
          18.740433,
          18.875333,
          18.883484,
          32.507254,
          18.860276,
          18.851606,
          18.901526,
          18.936026,
          20.757322,
          18.918117,
          18.963375,
          18.966718,
          18.820908,
          19.600539,
          18.917625,
          18.963375,
          18.960244,
          25.671888,
          18.973205,
          18.918117,
          18.501212,
          25.722652,
          19.235328,
          19.228796,
          18.817971,
          18.857474,
          18.817971,
          19.228796,
          18.901765,
          25.666403,
          25.480354,
          18.960244,
          18.681305,
          18.902273,
          19.228796,
          18.885319,
          18.917625,
          18.947936,
          18.919908,
          18.903176,
          18.903176,
          18.874791,
          18.941406,
          18.943577,
          18.681305,
          25.720767,
          18.963443,
          19.542961,
          18.963303,
          20.55084,
          18.903176,
          18.952743,
          18.941299,
          18.887499,
          18.875591,
          18.81792,
          18.885319,
          18.681305,
          18.962486,
          18.918117,
          18.969955,
          18.918117,
          18.962998,
          18.918117,
          18.952743,
          19.393751,
          25.640585,
          19.3156,
          19.3156,
          20.966044,
          25.800508,
          19.605575,
          19.318631,
          20.114444,
          19.330351,
          19.308676,
          19.573314,
          18.913404,
          18.917183,
          18.927154,
          18.909575,
          19.447885,
          19.075839,
          18.917183,
          18.814364,
          19.568308,
          19.037905,
          18.905797,
          18.973205,
          19.612642,
          19.474123,
          18.863376,
          29.090756,
          25.814079,
          22.175048,
          18.850779,
          20.735282,
          18.947868,
          18.918117,
          18.917183,
          18.905797,
          18.908058,
          18.925321,
          18.883333,
          18.92409,
          18.921155,
          18.907574,
          18.925321,
          16.833714,
          18.969876,
          18.863109,
          18.917183,
          18.857153,
          18.901765,
          18.954798,
          18.918117,
          18.918117,
          18.911873,
          19.387014,
          19.3156,
          18.033768,
          26.054752,
          21.064444,
          18.015418,
          20.610736,
          23.221155,
          23.200965,
          19.617478,
          18.026667,
          19.642252,
          19.3156,
          20.021952,
          20.021951,
          20.021602,
          16.833373,
          20.594727,
          25.438626,
          19.519162,
          19.387683,
          19.454851,
          19.508422,
          19.441539,
          19.458765,
          19.538101,
          18.952743,
          19.645003,
          19.3156,
          19.3156,
          21.024379,
          19.426974,
          19.412874,
          19.398678,
          18.947844,
          18.860276,
          26.070458,
          18.973205,
          18.837379,
          19.228796,
          19.68237,
          18.828578,
          16.756932,
          16.749545,
          16.744685999999998,
          19.612113,
          18.914636,
          18.935153,
          19.822567000000006,
          19.471333,
          18.910475,
          20.346854,
          20.776512,
          19.381685,
          25.6764017,
          25.6866142,
          20.627527,
          20.627567000000006,
          20.6267,
          20.635482,
          20.62158,
          20.630723,
          20.636356,
          20.616003,
          21.026917,
          20.698689,
          20.927007,
          20.666667,
          20.997851,
          21.036225,
          20.666667,
          20.96681,
          20.97,
          20.993882,
          21.022035,
          21.017202,
          20.968765,
          21.010511,
          20.989657,
          20.968422,
          19.54761,
          19.497295,
          20.96681,
          20.723851,
          15.769284,
          15.768979000000002,
          15.774263,
          15.769287,
          15.776394,
          19.41501,
          19.41501,
          21.965213,
          19.677936,
          19.62805,
          18.806108,
          19.068634,
          25.774904,
          18.761547,
          18.766667,
          18.898536,
          25.614511,
          20.118493,
          20.116699,
          18.962486,
          20.121667,
          18.943401,
          25.455442,
          18.849655,
          19.649624,
          19.726771,
          19.456564,
          20.10578,
          16.757716000000002,
          25.624988,
          20.06755,
          20.045819,
          20.067054,
          19.512787,
          20.035295,
          20.031747,
          19.358776,
          19.36237,
          25.810335,
          16.773699,
          19.24647,
          18.998745,
          28.838420000000006,
          18.681305,
          18.917941,
          29.115721,
          18.889614,
          18.793997,
          18.890011,
          19.346521,
          18.804108,
          18.784964,
          18.804108,
          18.915981,
          18.861338,
          19.506648,
          18.896955,
          18.920878,
          18.926634,
          18.912997,
          19.353278,
          18.876475,
          19.314291,
          18.88304,
          18.953268,
          19.507703,
          18.966718,
          18.864051,
          19.309512,
          18.905797,
          19.30389,
          28.416303000000006,
          18.912997,
          18.921106,
          18.927526,
          18.905943,
          21.009741,
          18.881568,
          18.727412,
          25.6567,
          18.902308,
          19.314921,
          17.061256,
          18.683333,
          18.891843,
          18.656933,
          18.863376,
          18.980009,
          20.58372,
          19.678894,
          19.293045000000006,
          19.326078,
          19.379739,
          19.379982,
          20.495122,
          19.52155,
          19.395209,
          19.563188,
          19.374976,
          19.403483,
          19.375172,
          19.3156,
          25.673256,
          19.840637,
          19.516065,
          19.3156,
          19.3156,
          19.630895,
          19.399982,
          19.668294,
          18.851992000000006,
          19.049938,
          19.3156,
          19.407682,
          19.442791,
          19.668456,
          19.292125,
          19.3156,
          19.456151,
          19.372675,
          19.3156,
          19.387146,
          19.362024,
          19.527662,
          19.3156,
          19.433558,
          32.612365999999994,
          21.156621,
          18.903176,
          19.662669,
          18.963375,
          18.905797,
          18.944016,
          25.518763,
          19.351277,
          18.917183,
          18.927531,
          18.907448,
          18.863376,
          18.949811,
          18.741928,
          18.882725,
          18.976827,
          18.892438,
          16.783867,
          21.018223000000006,
          18.952786,
          18.918117,
          18.905797,
          18.923849,
          18.971828,
          18.875591,
          18.947303,
          18.960201,
          18.922082,
          18.972662,
          20.505226,
          32.413325,
          19.99021,
          18.952743,
          18.740433,
          18.875333,
          18.883484,
          32.507254,
          18.860276,
          18.851606,
          18.901526,
          18.936026,
          20.757322,
          18.918117,
          18.963375,
          18.966718,
          18.820908,
          19.600539,
          18.917625,
          18.963375,
          18.960244,
          25.671888,
          18.973205,
          18.918117,
          18.501212,
          25.722652,
          19.235328,
          19.228796,
          18.817971,
          18.857474,
          18.817971,
          19.228796,
          18.901765,
          25.666403,
          25.480354,
          18.960244,
          18.681305,
          18.902273,
          19.228796,
          18.885319,
          18.917625,
          18.947936,
          18.919908,
          18.903176,
          18.903176,
          18.874791,
          18.941406,
          18.943577,
          18.681305,
          25.720767,
          18.963443,
          19.542961,
          18.963303,
          20.55084,
          18.903176,
          18.952743,
          18.941299,
          18.887499,
          18.875591,
          18.81792,
          18.885319,
          18.681305,
          18.962486,
          18.918117,
          18.969955,
          18.918117,
          18.962998,
          18.918117,
          18.952743,
          19.393751,
          25.640585,
          19.3156,
          19.3156,
          20.966044,
          25.800508,
          19.605575,
          19.318631,
          20.114444,
          19.330351,
          19.308676,
          19.573314,
          18.913404,
          18.917183,
          18.927154,
          18.909575,
          19.447885,
          19.075839,
          18.917183,
          18.814364,
          19.568308,
          19.037905,
          18.905797,
          18.973205,
          19.612642,
          19.474123,
          18.863376,
          29.090756,
          25.814079,
          22.175048,
          18.850779,
          20.735282,
          18.947868,
          18.918117,
          18.917183,
          18.905797,
          18.908058,
          18.925321,
          18.883333,
          18.92409,
          18.921155,
          18.907574,
          18.925321,
          16.833714,
          18.969876,
          18.863109,
          18.917183,
          18.857153,
          18.901765,
          18.954798,
          18.918117,
          18.918117,
          18.911873,
          19.387014,
          19.3156,
          18.033768,
          26.054752,
          21.064444,
          18.015418,
          20.610736,
          23.221155,
          23.200965,
          19.617478,
          18.026667,
          19.642252,
          19.3156,
          20.021952,
          20.021951,
          20.021602,
          16.833373,
          20.594727,
          25.438626,
          19.519162,
          19.387683,
          19.454851,
          19.508422,
          19.441539,
          19.458765,
          19.538101,
          18.952743,
          19.645003,
          19.3156,
          19.3156,
          21.024379,
          19.426974,
          19.412874,
          19.398678,
          18.947844,
          18.860276,
          26.070458,
          18.973205,
          18.837379,
          19.228796,
          19.68237,
          18.828578,
          16.756932,
          16.749545,
          16.744685999999998,
          19.612113,
          18.914636,
          18.935153,
          19.822567000000006,
          19.471333,
          18.910475,
          20.346854,
          20.776512,
          19.381685,
          25.6764017,
          25.6866142,
          20.627527,
          20.627567000000003,
          20.6267,
          20.635482,
          20.621579999999998,
          20.630723,
          20.636356,
          20.616003,
          21.026917,
          20.698689,
          20.927007,
          20.666667,
          20.997851,
          21.036225,
          20.666667,
          20.96681,
          20.97,
          20.993882,
          21.022035,
          21.017201999999997,
          20.968764999999998,
          21.010510999999997,
          20.989657,
          20.968422,
          19.54761,
          19.497295,
          20.96681,
          20.723851,
          15.769283999999999,
          15.768979000000002,
          15.774263000000001,
          15.769287,
          15.776394,
          19.415010000000002,
          19.415010000000002,
          21.965213000000002,
          19.677936,
          19.62805,
          18.806108,
          19.068634,
          25.774904,
          18.761547,
          18.766667,
          18.898536,
          25.614511,
          20.118493,
          20.116699,
          18.962486,
          20.121667000000002,
          18.943401,
          25.455442,
          18.849655,
          19.649624,
          19.726771,
          19.456564,
          20.10578,
          16.757716000000002,
          25.624988000000002,
          20.06755,
          20.045819,
          20.067054000000002,
          19.512787,
          20.035295,
          20.031747,
          19.358776000000002,
          19.362370000000002,
          25.810335000000002,
          16.773699,
          19.246470000000002,
          18.998745,
          28.838420000000003,
          18.681305,
          18.917941,
          29.115721,
          18.889614,
          18.793997,
          18.890010999999998,
          19.346521,
          18.804108,
          18.784964000000002,
          18.804108,
          18.915981,
          18.861338,
          19.506648000000002,
          18.896955,
          18.920878,
          18.926634,
          18.912997,
          19.353278,
          18.876475,
          19.314291,
          18.88304,
          18.953267999999998,
          19.507703,
          18.966718,
          18.864051,
          19.309511999999998,
          18.905797,
          19.30389,
          28.416303000000003,
          18.912997,
          18.921105999999998,
          18.927526,
          18.905943,
          21.009741,
          18.881567999999998,
          18.727412,
          25.6567,
          18.902307999999998,
          19.314921,
          17.061256,
          18.683332999999998,
          18.891842999999998,
          18.656933,
          18.863376000000002,
          18.980009,
          20.58372,
          19.678894,
          19.293045000000003,
          19.326078,
          19.379739,
          19.379982000000002,
          20.495122,
          19.52155,
          19.395209,
          19.563188,
          19.374976,
          19.403482999999998,
          19.375172,
          19.3156,
          25.673256,
          19.840637,
          19.516065,
          19.3156,
          19.3156,
          19.630895000000002,
          19.399982,
          19.668294,
          18.851992000000003,
          19.049938,
          19.3156,
          19.407682,
          19.442791,
          19.668456,
          19.292125,
          19.3156,
          19.456151000000002,
          19.372675,
          19.3156,
          19.387145999999998,
          19.362023999999998,
          19.527662,
          19.3156,
          19.433557999999998,
          32.612365999999994,
          21.156620999999998,
          18.903176000000002,
          19.662669,
          18.963375,
          18.905797,
          18.944016,
          25.518763,
          19.351277,
          18.917182999999998,
          18.927531,
          18.907448000000002,
          18.863376000000002,
          18.949810999999997,
          18.741928,
          18.882725,
          18.976827,
          18.892438000000002,
          16.783867,
          21.018223000000003,
          18.952786,
          18.918117000000002,
          18.905797,
          18.923849,
          18.971828,
          18.875591,
          18.947303,
          18.960201,
          18.922082,
          18.972662,
          20.505226,
          32.413325,
          19.99021,
          18.952742999999998,
          18.740433,
          18.875332999999998,
          18.883484,
          32.507253999999996,
          18.860276000000002,
          18.851606,
          18.901526,
          18.936026000000002,
          20.757322,
          18.918117000000002,
          18.963375,
          18.966718,
          18.820908,
          19.600539,
          18.917625,
          18.963375,
          18.960244,
          25.671888,
          18.973205,
          18.918117000000002,
          18.501212,
          25.722652,
          19.235328,
          19.228796,
          18.817971,
          18.857474,
          18.817971,
          19.228796,
          18.901765,
          25.666403,
          25.480354000000002,
          18.960244,
          18.681305,
          18.902273,
          19.228796,
          18.885319,
          18.917625,
          18.947936,
          18.919908,
          18.903176000000002,
          18.903176000000002,
          18.874791000000002,
          18.941406,
          18.943576999999998,
          18.681305,
          25.720767000000002,
          18.963442999999998,
          19.542961,
          18.963303,
          20.55084,
          18.903176000000002,
          18.952742999999998,
          18.941299,
          18.887499,
          18.875591,
          18.81792,
          18.885319,
          18.681305,
          18.962486,
          18.918117000000002,
          18.969955,
          18.918117000000002,
          18.962998000000002,
          18.918117000000002,
          18.952742999999998,
          19.393751,
          25.640585,
          19.3156,
          19.3156,
          20.966044,
          25.800507999999997,
          19.605575,
          19.318631,
          20.114444,
          19.330351,
          19.308676000000002,
          19.573314,
          18.913404,
          18.917182999999998,
          18.927154,
          18.909575,
          19.447885,
          19.075839000000002,
          18.917182999999998,
          18.814364,
          19.568308,
          19.037905,
          18.905797,
          18.973205,
          19.612642,
          19.474123000000002,
          18.863376000000002,
          29.090756,
          25.814079,
          22.175048,
          18.850779,
          20.735282,
          18.947868,
          18.918117000000002,
          18.917182999999998,
          18.905797,
          18.908058,
          18.925321,
          18.883333,
          18.92409,
          18.921155,
          18.907574,
          18.925321,
          16.833714,
          18.969876,
          18.863108999999998,
          18.917182999999998,
          18.857153,
          18.901765,
          18.954798,
          18.918117000000002,
          18.918117000000002,
          18.911873,
          19.387014,
          19.3156,
          18.033768,
          26.054752,
          21.064444,
          18.015418,
          20.610736,
          23.221155,
          23.200965,
          19.617478,
          18.026667,
          19.642252,
          19.3156,
          20.021952,
          20.021951,
          20.021601999999998,
          16.833373,
          20.594727,
          25.438626,
          19.519161999999998,
          19.387683,
          19.454851,
          19.508422,
          19.441539000000002,
          19.458765,
          19.538101,
          18.952742999999998,
          19.645003,
          19.3156,
          19.3156,
          21.024379,
          19.426973999999998,
          19.412874,
          19.398678,
          18.947844,
          18.860276000000002,
          26.070458,
          18.973205,
          18.837379000000002,
          19.228796,
          19.682370000000002,
          18.828578,
          16.756932,
          16.749545,
          16.744685999999998,
          19.612113,
          18.914635999999998,
          18.935153,
          19.822567000000003,
          19.471332999999998,
          18.910475,
          20.346854,
          20.776512,
          19.381685,
          25.6764017,
          25.686614199999998
         ],
         "legendgroup": "",
         "lon": [
          -87.076686,
          -87.076718,
          -87.075866,
          -87.07034499999997,
          -87.092398,
          -87.073113,
          -87.064015,
          -87.08558000000002,
          -89.57469,
          -88.58928399999998,
          -89.56214399999998,
          -89.25,
          -89.564806,
          -89.62280600000003,
          -89.25,
          -89.664374,
          -89.62,
          -89.654744,
          -89.56994300000002,
          -89.576877,
          -89.575109,
          -89.562531,
          -89.586893,
          -89.67354,
          -96.928985,
          -96.87925,
          -89.664374,
          -105.275997,
          -96.123398,
          -96.130707,
          -96.138665,
          -96.130843,
          -96.141985,
          -99.175174,
          -99.175174,
          -102.298033,
          -99.008991,
          -99.167282,
          -99.198614,
          -98.244036,
          -100.393527,
          -98.883369,
          -98.983333,
          -99.22432,
          -103.385099,
          -98.767489,
          -98.714226,
          -99.260469,
          -98.735833,
          -99.205222,
          -100.990648,
          -99.68064,
          -99.083374,
          -101.185097,
          -99.191724,
          -98.744434,
          -93.17692,
          -100.17427,
          -98.734191,
          -98.721176,
          -98.733824,
          -99.141393,
          -98.717312,
          -98.717312,
          -99.213557,
          -99.143951,
          -109.015277,
          -93.122478,
          -99.10135,
          -98.266368,
          -105.910162,
          -99.10135,
          -99.226711,
          -110.944175,
          -99.164199,
          -99.24066,
          -99.177327,
          -99.234912,
          -99.199689,
          -99.230678,
          -99.199689,
          -99.244009,
          -99.20929,
          -99.10361,
          -99.222541,
          -99.21515,
          -99.212752,
          -99.211239,
          -99.289725,
          -99.215522,
          -99.224132,
          -99.052271,
          -99.224524,
          -99.23699,
          -99.220369,
          -99.208054,
          -99.242855,
          -99.207515,
          -99.210894,
          -100.891494,
          -99.211239,
          -99.218236,
          -99.250116,
          -99.208625,
          -89.6872,
          -99.173911,
          -99.397894,
          -100.11051,
          -99.229744,
          -98.228354,
          -96.710825,
          -99.116667,
          -99.172601,
          -91.795327,
          -99.212029,
          -99.241492,
          -100.384397,
          -99.180958,
          -99.014329,
          -99.135953,
          -99.17181,
          -99.171745,
          -103.48467,
          -99.214165,
          -99.230157,
          -99.058025,
          -99.160186,
          -99.153132,
          -99.157647,
          -99.223679,
          -100.312717,
          -90.533838,
          -99.251518,
          -99.223679,
          -99.223679,
          -99.248073,
          -99.150884,
          -99.121528,
          -99.228314,
          -98.209832,
          -99.223679,
          -99.172042,
          -99.124128,
          -99.121378,
          -99.12219,
          -99.223679,
          -99.191144,
          -99.118942,
          -99.223679,
          -99.166124,
          -99.012327,
          -99.156247,
          -99.223679,
          -99.186279,
          -115.361887,
          -86.821453,
          -99.19985,
          -99.015819,
          -99.214489,
          -99.207515,
          -99.243144,
          -103.401592,
          -99.221244,
          -99.226643,
          -99.250123,
          -99.227873,
          -99.212029,
          -99.255705,
          -99.255226,
          -99.163605,
          -99.253615,
          -99.205135,
          -93.087834,
          -89.569909,
          -99.203302,
          -99.226656,
          -99.207515,
          -99.222518,
          -99.290713,
          -99.17301,
          -99.198053,
          -99.21302,
          -99.215522,
          -99.204443,
          -103.234162,
          -117.091841,
          -102.252272,
          -99.203432,
          -99.25985,
          -99.194059,
          -99.162605,
          -117.017891,
          -99.218034,
          -99.218407,
          -99.2221,
          -99.216214,
          -103.400757,
          -99.226656,
          -99.214489,
          -99.220369,
          -99.22484,
          -99.296804,
          -99.166007,
          -99.214489,
          -99.212962,
          -100.22272,
          -99.24704,
          -99.226656,
          -98.753177,
          -100.165387,
          -99.121824,
          -99.118536,
          -99.2296,
          -99.070352,
          -99.2296,
          -99.118536,
          -99.240523,
          -100.188576,
          -100.003179,
          -99.212962,
          -99.10135,
          -99.196989,
          -99.118536,
          -98.98187,
          -99.166007,
          -99.245726,
          -98.978819,
          -99.19985,
          -99.19985,
          -99.212406,
          -99.221919,
          -99.19752,
          -99.10135,
          -100.194766,
          -99.214462,
          -99.225191,
          -99.214537,
          -100.683131,
          -99.19985,
          -99.203432,
          -99.222015,
          -99.128066,
          -99.17301,
          -99.22958,
          -98.98187,
          -99.10135,
          -99.260469,
          -99.226656,
          -99.205347,
          -99.226656,
          -99.210937,
          -99.226656,
          -99.203432,
          -99.049999,
          -100.3351,
          -99.223679,
          -99.223679,
          -89.627433,
          -100.26872,
          -99.230827,
          -99.226811,
          -98.886667,
          -99.086271,
          -99.103853,
          -99.291466,
          -99.217592,
          -99.226643,
          -99.226353,
          -99.208444,
          -99.190185,
          -98.155737,
          -99.226643,
          -98.959153,
          -99.039082,
          -98.268308,
          -99.207515,
          -99.24704,
          -99.259157,
          -99.082854,
          -99.212029,
          -110.949898,
          -109.007223,
          -100.991926,
          -99.229372,
          -103.408414,
          -99.197361,
          -99.226656,
          -99.226643,
          -99.207515,
          -99.183412,
          -99.20605,
          -99.066667,
          -99.173091,
          -99.181126,
          -99.23542,
          -99.20605,
          -99.896846,
          -99.206722,
          -99.231105,
          -99.226643,
          -99.181267,
          -99.240523,
          -99.204085,
          -99.226656,
          -99.226656,
          -99.249031,
          -99.147406,
          -99.223679,
          -92.982819,
          -98.310373,
          -89.59666700000002,
          -92.953393,
          -100.38742,
          -106.423506,
          -106.423003,
          -99.13593,
          -92.903213,
          -99.037532,
          -99.223679,
          -98.810774,
          -98.810673,
          -98.810873,
          -99.904843,
          -100.346983,
          -100.997502,
          -99.227183,
          -99.174712,
          -99.178049,
          -99.255092,
          -99.144553,
          -99.178604,
          -99.142645,
          -99.203432,
          -99.212361,
          -99.223679,
          -99.223679,
          -89.62445100000002,
          -99.10489,
          -99.173954,
          -98.983367,
          -99.19731,
          -99.218034,
          -98.287119,
          -99.24704,
          -99.187391,
          -99.118536,
          -99.247189,
          -99.244375,
          -93.129235,
          -93.193984,
          -93.160134,
          -99.04885,
          -96.968808,
          -99.250834,
          -99.190234,
          -99.05898,
          -98.942935,
          -102.755852,
          -103.448768,
          -99.725632,
          -100.3568071,
          -100.3161126,
          -87.076686,
          -87.076718,
          -87.075866,
          -87.07034499999997,
          -87.092398,
          -87.073113,
          -87.064015,
          -87.08558000000002,
          -89.57469,
          -88.58928399999998,
          -89.56214399999998,
          -89.25,
          -89.564806,
          -89.62280600000003,
          -89.25,
          -89.664374,
          -89.62,
          -89.654744,
          -89.56994300000002,
          -89.576877,
          -89.575109,
          -89.562531,
          -89.586893,
          -89.67354,
          -96.928985,
          -96.87925,
          -89.664374,
          -105.275997,
          -96.123398,
          -96.130707,
          -96.138665,
          -96.130843,
          -96.141985,
          -99.175174,
          -99.175174,
          -102.298033,
          -99.008991,
          -99.167282,
          -99.198614,
          -98.244036,
          -100.393527,
          -98.883369,
          -98.983333,
          -99.22432,
          -103.385099,
          -98.767489,
          -98.714226,
          -99.260469,
          -98.735833,
          -99.205222,
          -100.990648,
          -99.68064,
          -99.083374,
          -101.185097,
          -99.191724,
          -98.744434,
          -93.17692,
          -100.17427,
          -98.734191,
          -98.721176,
          -98.733824,
          -99.141393,
          -98.717312,
          -98.717312,
          -99.213557,
          -99.143951,
          -109.015277,
          -93.122478,
          -99.10135,
          -98.266368,
          -105.910162,
          -99.10135,
          -99.226711,
          -110.944175,
          -99.164199,
          -99.24066,
          -99.177327,
          -99.234912,
          -99.199689,
          -99.230678,
          -99.199689,
          -99.244009,
          -99.20929,
          -99.10361,
          -99.222541,
          -99.21515,
          -99.212752,
          -99.211239,
          -99.289725,
          -99.215522,
          -99.224132,
          -99.052271,
          -99.224524,
          -99.23699,
          -99.220369,
          -99.208054,
          -99.242855,
          -99.207515,
          -99.210894,
          -100.891494,
          -99.211239,
          -99.218236,
          -99.250116,
          -99.208625,
          -89.6872,
          -99.173911,
          -99.397894,
          -100.11051,
          -99.229744,
          -98.228354,
          -96.710825,
          -99.116667,
          -99.172601,
          -91.795327,
          -99.212029,
          -99.241492,
          -100.384397,
          -99.180958,
          -99.014329,
          -99.135953,
          -99.17181,
          -99.171745,
          -103.48467,
          -99.214165,
          -99.230157,
          -99.058025,
          -99.160186,
          -99.153132,
          -99.157647,
          -99.223679,
          -100.312717,
          -90.533838,
          -99.251518,
          -99.223679,
          -99.223679,
          -99.248073,
          -99.150884,
          -99.121528,
          -99.228314,
          -98.209832,
          -99.223679,
          -99.172042,
          -99.124128,
          -99.121378,
          -99.12219,
          -99.223679,
          -99.191144,
          -99.118942,
          -99.223679,
          -99.166124,
          -99.012327,
          -99.156247,
          -99.223679,
          -99.186279,
          -115.361887,
          -86.821453,
          -99.19985,
          -99.015819,
          -99.214489,
          -99.207515,
          -99.243144,
          -103.401592,
          -99.221244,
          -99.226643,
          -99.250123,
          -99.227873,
          -99.212029,
          -99.255705,
          -99.255226,
          -99.163605,
          -99.253615,
          -99.205135,
          -93.087834,
          -89.569909,
          -99.203302,
          -99.226656,
          -99.207515,
          -99.222518,
          -99.290713,
          -99.17301,
          -99.198053,
          -99.21302,
          -99.215522,
          -99.204443,
          -103.234162,
          -117.091841,
          -102.252272,
          -99.203432,
          -99.25985,
          -99.194059,
          -99.162605,
          -117.017891,
          -99.218034,
          -99.218407,
          -99.2221,
          -99.216214,
          -103.400757,
          -99.226656,
          -99.214489,
          -99.220369,
          -99.22484,
          -99.296804,
          -99.166007,
          -99.214489,
          -99.212962,
          -100.22272,
          -99.24704,
          -99.226656,
          -98.753177,
          -100.165387,
          -99.121824,
          -99.118536,
          -99.2296,
          -99.070352,
          -99.2296,
          -99.118536,
          -99.240523,
          -100.188576,
          -100.003179,
          -99.212962,
          -99.10135,
          -99.196989,
          -99.118536,
          -98.98187,
          -99.166007,
          -99.245726,
          -98.978819,
          -99.19985,
          -99.19985,
          -99.212406,
          -99.221919,
          -99.19752,
          -99.10135,
          -100.194766,
          -99.214462,
          -99.225191,
          -99.214537,
          -100.683131,
          -99.19985,
          -99.203432,
          -99.222015,
          -99.128066,
          -99.17301,
          -99.22958,
          -98.98187,
          -99.10135,
          -99.260469,
          -99.226656,
          -99.205347,
          -99.226656,
          -99.210937,
          -99.226656,
          -99.203432,
          -99.049999,
          -100.3351,
          -99.223679,
          -99.223679,
          -89.627433,
          -100.26872,
          -99.230827,
          -99.226811,
          -98.886667,
          -99.086271,
          -99.103853,
          -99.291466,
          -99.217592,
          -99.226643,
          -99.226353,
          -99.208444,
          -99.190185,
          -98.155737,
          -99.226643,
          -98.959153,
          -99.039082,
          -98.268308,
          -99.207515,
          -99.24704,
          -99.259157,
          -99.082854,
          -99.212029,
          -110.949898,
          -109.007223,
          -100.991926,
          -99.229372,
          -103.408414,
          -99.197361,
          -99.226656,
          -99.226643,
          -99.207515,
          -99.183412,
          -99.20605,
          -99.066667,
          -99.173091,
          -99.181126,
          -99.23542,
          -99.20605,
          -99.896846,
          -99.206722,
          -99.231105,
          -99.226643,
          -99.181267,
          -99.240523,
          -99.204085,
          -99.226656,
          -99.226656,
          -99.249031,
          -99.147406,
          -99.223679,
          -92.982819,
          -98.310373,
          -89.59666700000002,
          -92.953393,
          -100.38742,
          -106.423506,
          -106.423003,
          -99.13593,
          -92.903213,
          -99.037532,
          -99.223679,
          -98.810774,
          -98.810673,
          -98.810873,
          -99.904843,
          -100.346983,
          -100.997502,
          -99.227183,
          -99.174712,
          -99.178049,
          -99.255092,
          -99.144553,
          -99.178604,
          -99.142645,
          -99.203432,
          -99.212361,
          -99.223679,
          -99.223679,
          -89.62445100000002,
          -99.10489,
          -99.173954,
          -98.983367,
          -99.19731,
          -99.218034,
          -98.287119,
          -99.24704,
          -99.187391,
          -99.118536,
          -99.247189,
          -99.244375,
          -93.129235,
          -93.193984,
          -93.160134,
          -99.04885,
          -96.968808,
          -99.250834,
          -99.190234,
          -99.05898,
          -98.942935,
          -102.755852,
          -103.448768,
          -99.725632,
          -100.3568071,
          -100.3161126,
          -87.076686,
          -87.076718,
          -87.075866,
          -87.07034499999999,
          -87.092398,
          -87.073113,
          -87.064015,
          -87.08558000000001,
          -89.57469,
          -88.58928399999999,
          -89.56214399999999,
          -89.25,
          -89.564806,
          -89.62280600000001,
          -89.25,
          -89.664374,
          -89.62,
          -89.654744,
          -89.56994300000001,
          -89.576877,
          -89.575109,
          -89.562531,
          -89.586893,
          -89.67354,
          -96.928985,
          -96.87925,
          -89.664374,
          -105.275997,
          -96.123398,
          -96.130707,
          -96.138665,
          -96.130843,
          -96.14198499999999,
          -99.175174,
          -99.175174,
          -102.29803299999999,
          -99.00899100000001,
          -99.167282,
          -99.198614,
          -98.244036,
          -100.393527,
          -98.88336899999999,
          -98.983333,
          -99.22431999999999,
          -103.385099,
          -98.767489,
          -98.714226,
          -99.260469,
          -98.735833,
          -99.20522199999999,
          -100.990648,
          -99.68064,
          -99.08337399999999,
          -101.185097,
          -99.191724,
          -98.744434,
          -93.17692,
          -100.17426999999999,
          -98.73419100000001,
          -98.721176,
          -98.733824,
          -99.14139300000001,
          -98.71731199999999,
          -98.71731199999999,
          -99.213557,
          -99.143951,
          -109.015277,
          -93.122478,
          -99.10135,
          -98.266368,
          -105.91016200000001,
          -99.10135,
          -99.226711,
          -110.944175,
          -99.164199,
          -99.24065999999999,
          -99.177327,
          -99.234912,
          -99.199689,
          -99.230678,
          -99.199689,
          -99.24400899999999,
          -99.20929,
          -99.10361,
          -99.222541,
          -99.21515,
          -99.21275200000001,
          -99.211239,
          -99.289725,
          -99.21552199999999,
          -99.224132,
          -99.05227099999999,
          -99.224524,
          -99.23699,
          -99.22036899999999,
          -99.208054,
          -99.242855,
          -99.207515,
          -99.210894,
          -100.891494,
          -99.211239,
          -99.218236,
          -99.250116,
          -99.208625,
          -89.6872,
          -99.173911,
          -99.397894,
          -100.11050999999999,
          -99.229744,
          -98.22835400000001,
          -96.710825,
          -99.116667,
          -99.172601,
          -91.795327,
          -99.212029,
          -99.24149200000001,
          -100.38439699999999,
          -99.18095799999999,
          -99.014329,
          -99.135953,
          -99.17181,
          -99.171745,
          -103.48467,
          -99.21416500000001,
          -99.23015699999999,
          -99.058025,
          -99.160186,
          -99.153132,
          -99.157647,
          -99.223679,
          -100.312717,
          -90.533838,
          -99.251518,
          -99.223679,
          -99.223679,
          -99.248073,
          -99.15088399999999,
          -99.121528,
          -99.228314,
          -98.20983199999999,
          -99.223679,
          -99.172042,
          -99.124128,
          -99.121378,
          -99.12219,
          -99.223679,
          -99.191144,
          -99.118942,
          -99.223679,
          -99.166124,
          -99.012327,
          -99.156247,
          -99.223679,
          -99.186279,
          -115.36188700000001,
          -86.821453,
          -99.19985,
          -99.015819,
          -99.214489,
          -99.207515,
          -99.243144,
          -103.40159200000001,
          -99.221244,
          -99.22664300000001,
          -99.250123,
          -99.227873,
          -99.212029,
          -99.255705,
          -99.25522600000001,
          -99.163605,
          -99.253615,
          -99.205135,
          -93.087834,
          -89.569909,
          -99.20330200000001,
          -99.226656,
          -99.207515,
          -99.22251800000001,
          -99.290713,
          -99.17300999999999,
          -99.198053,
          -99.21302,
          -99.21552199999999,
          -99.20444300000001,
          -103.234162,
          -117.09184099999999,
          -102.25227199999999,
          -99.20343199999999,
          -99.25985,
          -99.194059,
          -99.162605,
          -117.01789099999999,
          -99.218034,
          -99.218407,
          -99.2221,
          -99.21621400000001,
          -103.400757,
          -99.226656,
          -99.214489,
          -99.22036899999999,
          -99.22484,
          -99.29680400000001,
          -99.166007,
          -99.214489,
          -99.212962,
          -100.22272,
          -99.24704,
          -99.226656,
          -98.75317700000001,
          -100.165387,
          -99.121824,
          -99.11853599999999,
          -99.2296,
          -99.070352,
          -99.2296,
          -99.11853599999999,
          -99.240523,
          -100.188576,
          -100.003179,
          -99.212962,
          -99.10135,
          -99.196989,
          -99.11853599999999,
          -98.98187,
          -99.166007,
          -99.245726,
          -98.978819,
          -99.19985,
          -99.19985,
          -99.212406,
          -99.221919,
          -99.19752,
          -99.10135,
          -100.194766,
          -99.214462,
          -99.22519100000001,
          -99.21453699999999,
          -100.683131,
          -99.19985,
          -99.20343199999999,
          -99.222015,
          -99.128066,
          -99.17300999999999,
          -99.22958,
          -98.98187,
          -99.10135,
          -99.260469,
          -99.226656,
          -99.205347,
          -99.226656,
          -99.210937,
          -99.226656,
          -99.20343199999999,
          -99.049999,
          -100.3351,
          -99.223679,
          -99.223679,
          -89.627433,
          -100.26872,
          -99.230827,
          -99.226811,
          -98.886667,
          -99.086271,
          -99.103853,
          -99.291466,
          -99.21759200000001,
          -99.22664300000001,
          -99.226353,
          -99.208444,
          -99.190185,
          -98.155737,
          -99.22664300000001,
          -98.959153,
          -99.039082,
          -98.26830799999999,
          -99.207515,
          -99.24704,
          -99.259157,
          -99.082854,
          -99.212029,
          -110.949898,
          -109.007223,
          -100.991926,
          -99.229372,
          -103.40841400000001,
          -99.197361,
          -99.226656,
          -99.22664300000001,
          -99.207515,
          -99.183412,
          -99.20605,
          -99.06666700000001,
          -99.173091,
          -99.181126,
          -99.23541999999999,
          -99.20605,
          -99.896846,
          -99.206722,
          -99.231105,
          -99.22664300000001,
          -99.181267,
          -99.240523,
          -99.20408499999999,
          -99.226656,
          -99.226656,
          -99.249031,
          -99.147406,
          -99.223679,
          -92.98281899999999,
          -98.310373,
          -89.59666700000001,
          -92.953393,
          -100.38741999999999,
          -106.423506,
          -106.42300300000001,
          -99.13593,
          -92.903213,
          -99.037532,
          -99.223679,
          -98.810774,
          -98.810673,
          -98.810873,
          -99.904843,
          -100.346983,
          -100.997502,
          -99.227183,
          -99.174712,
          -99.178049,
          -99.255092,
          -99.144553,
          -99.178604,
          -99.142645,
          -99.20343199999999,
          -99.212361,
          -99.223679,
          -99.223679,
          -89.62445100000001,
          -99.10489,
          -99.17395400000001,
          -98.983367,
          -99.19731,
          -99.218034,
          -98.28711899999999,
          -99.24704,
          -99.187391,
          -99.11853599999999,
          -99.247189,
          -99.244375,
          -93.129235,
          -93.193984,
          -93.160134,
          -99.04885,
          -96.968808,
          -99.250834,
          -99.190234,
          -99.05898,
          -98.94293499999999,
          -102.755852,
          -103.448768,
          -99.72563199999999,
          -100.3568071,
          -100.3161126
         ],
         "marker": {
          "color": "#636efa"
         },
         "mode": "markers",
         "name": "",
         "showlegend": false,
         "subplot": "mapbox",
         "type": "scattermapbox"
        }
       ],
       "layout": {
        "height": 600,
        "legend": {
         "tracegroupgap": 0
        },
        "mapbox": {
         "center": {
          "lat": 19.43,
          "lon": -99.13
         },
         "domain": {
          "x": [
           0,
           1
          ],
          "y": [
           0,
           1
          ]
         },
         "style": "open-street-map",
         "zoom": 8
        },
        "margin": {
         "t": 60
        },
        "template": {
         "data": {
          "bar": [
           {
            "error_x": {
             "color": "#2a3f5f"
            },
            "error_y": {
             "color": "#2a3f5f"
            },
            "marker": {
             "line": {
              "color": "#E5ECF6",
              "width": 0.5
             },
             "pattern": {
              "fillmode": "overlay",
              "size": 10,
              "solidity": 0.2
             }
            },
            "type": "bar"
           }
          ],
          "barpolar": [
           {
            "marker": {
             "line": {
              "color": "#E5ECF6",
              "width": 0.5
             },
             "pattern": {
              "fillmode": "overlay",
              "size": 10,
              "solidity": 0.2
             }
            },
            "type": "barpolar"
           }
          ],
          "carpet": [
           {
            "aaxis": {
             "endlinecolor": "#2a3f5f",
             "gridcolor": "white",
             "linecolor": "white",
             "minorgridcolor": "white",
             "startlinecolor": "#2a3f5f"
            },
            "baxis": {
             "endlinecolor": "#2a3f5f",
             "gridcolor": "white",
             "linecolor": "white",
             "minorgridcolor": "white",
             "startlinecolor": "#2a3f5f"
            },
            "type": "carpet"
           }
          ],
          "choropleth": [
           {
            "colorbar": {
             "outlinewidth": 0,
             "ticks": ""
            },
            "type": "choropleth"
           }
          ],
          "contour": [
           {
            "colorbar": {
             "outlinewidth": 0,
             "ticks": ""
            },
            "colorscale": [
             [
              0,
              "#0d0887"
             ],
             [
              0.1111111111111111,
              "#46039f"
             ],
             [
              0.2222222222222222,
              "#7201a8"
             ],
             [
              0.3333333333333333,
              "#9c179e"
             ],
             [
              0.4444444444444444,
              "#bd3786"
             ],
             [
              0.5555555555555556,
              "#d8576b"
             ],
             [
              0.6666666666666666,
              "#ed7953"
             ],
             [
              0.7777777777777778,
              "#fb9f3a"
             ],
             [
              0.8888888888888888,
              "#fdca26"
             ],
             [
              1,
              "#f0f921"
             ]
            ],
            "type": "contour"
           }
          ],
          "contourcarpet": [
           {
            "colorbar": {
             "outlinewidth": 0,
             "ticks": ""
            },
            "type": "contourcarpet"
           }
          ],
          "heatmap": [
           {
            "colorbar": {
             "outlinewidth": 0,
             "ticks": ""
            },
            "colorscale": [
             [
              0,
              "#0d0887"
             ],
             [
              0.1111111111111111,
              "#46039f"
             ],
             [
              0.2222222222222222,
              "#7201a8"
             ],
             [
              0.3333333333333333,
              "#9c179e"
             ],
             [
              0.4444444444444444,
              "#bd3786"
             ],
             [
              0.5555555555555556,
              "#d8576b"
             ],
             [
              0.6666666666666666,
              "#ed7953"
             ],
             [
              0.7777777777777778,
              "#fb9f3a"
             ],
             [
              0.8888888888888888,
              "#fdca26"
             ],
             [
              1,
              "#f0f921"
             ]
            ],
            "type": "heatmap"
           }
          ],
          "heatmapgl": [
           {
            "colorbar": {
             "outlinewidth": 0,
             "ticks": ""
            },
            "colorscale": [
             [
              0,
              "#0d0887"
             ],
             [
              0.1111111111111111,
              "#46039f"
             ],
             [
              0.2222222222222222,
              "#7201a8"
             ],
             [
              0.3333333333333333,
              "#9c179e"
             ],
             [
              0.4444444444444444,
              "#bd3786"
             ],
             [
              0.5555555555555556,
              "#d8576b"
             ],
             [
              0.6666666666666666,
              "#ed7953"
             ],
             [
              0.7777777777777778,
              "#fb9f3a"
             ],
             [
              0.8888888888888888,
              "#fdca26"
             ],
             [
              1,
              "#f0f921"
             ]
            ],
            "type": "heatmapgl"
           }
          ],
          "histogram": [
           {
            "marker": {
             "pattern": {
              "fillmode": "overlay",
              "size": 10,
              "solidity": 0.2
             }
            },
            "type": "histogram"
           }
          ],
          "histogram2d": [
           {
            "colorbar": {
             "outlinewidth": 0,
             "ticks": ""
            },
            "colorscale": [
             [
              0,
              "#0d0887"
             ],
             [
              0.1111111111111111,
              "#46039f"
             ],
             [
              0.2222222222222222,
              "#7201a8"
             ],
             [
              0.3333333333333333,
              "#9c179e"
             ],
             [
              0.4444444444444444,
              "#bd3786"
             ],
             [
              0.5555555555555556,
              "#d8576b"
             ],
             [
              0.6666666666666666,
              "#ed7953"
             ],
             [
              0.7777777777777778,
              "#fb9f3a"
             ],
             [
              0.8888888888888888,
              "#fdca26"
             ],
             [
              1,
              "#f0f921"
             ]
            ],
            "type": "histogram2d"
           }
          ],
          "histogram2dcontour": [
           {
            "colorbar": {
             "outlinewidth": 0,
             "ticks": ""
            },
            "colorscale": [
             [
              0,
              "#0d0887"
             ],
             [
              0.1111111111111111,
              "#46039f"
             ],
             [
              0.2222222222222222,
              "#7201a8"
             ],
             [
              0.3333333333333333,
              "#9c179e"
             ],
             [
              0.4444444444444444,
              "#bd3786"
             ],
             [
              0.5555555555555556,
              "#d8576b"
             ],
             [
              0.6666666666666666,
              "#ed7953"
             ],
             [
              0.7777777777777778,
              "#fb9f3a"
             ],
             [
              0.8888888888888888,
              "#fdca26"
             ],
             [
              1,
              "#f0f921"
             ]
            ],
            "type": "histogram2dcontour"
           }
          ],
          "mesh3d": [
           {
            "colorbar": {
             "outlinewidth": 0,
             "ticks": ""
            },
            "type": "mesh3d"
           }
          ],
          "parcoords": [
           {
            "line": {
             "colorbar": {
              "outlinewidth": 0,
              "ticks": ""
             }
            },
            "type": "parcoords"
           }
          ],
          "pie": [
           {
            "automargin": true,
            "type": "pie"
           }
          ],
          "scatter": [
           {
            "marker": {
             "colorbar": {
              "outlinewidth": 0,
              "ticks": ""
             }
            },
            "type": "scatter"
           }
          ],
          "scatter3d": [
           {
            "line": {
             "colorbar": {
              "outlinewidth": 0,
              "ticks": ""
             }
            },
            "marker": {
             "colorbar": {
              "outlinewidth": 0,
              "ticks": ""
             }
            },
            "type": "scatter3d"
           }
          ],
          "scattercarpet": [
           {
            "marker": {
             "colorbar": {
              "outlinewidth": 0,
              "ticks": ""
             }
            },
            "type": "scattercarpet"
           }
          ],
          "scattergeo": [
           {
            "marker": {
             "colorbar": {
              "outlinewidth": 0,
              "ticks": ""
             }
            },
            "type": "scattergeo"
           }
          ],
          "scattergl": [
           {
            "marker": {
             "colorbar": {
              "outlinewidth": 0,
              "ticks": ""
             }
            },
            "type": "scattergl"
           }
          ],
          "scattermapbox": [
           {
            "marker": {
             "colorbar": {
              "outlinewidth": 0,
              "ticks": ""
             }
            },
            "type": "scattermapbox"
           }
          ],
          "scatterpolar": [
           {
            "marker": {
             "colorbar": {
              "outlinewidth": 0,
              "ticks": ""
             }
            },
            "type": "scatterpolar"
           }
          ],
          "scatterpolargl": [
           {
            "marker": {
             "colorbar": {
              "outlinewidth": 0,
              "ticks": ""
             }
            },
            "type": "scatterpolargl"
           }
          ],
          "scatterternary": [
           {
            "marker": {
             "colorbar": {
              "outlinewidth": 0,
              "ticks": ""
             }
            },
            "type": "scatterternary"
           }
          ],
          "surface": [
           {
            "colorbar": {
             "outlinewidth": 0,
             "ticks": ""
            },
            "colorscale": [
             [
              0,
              "#0d0887"
             ],
             [
              0.1111111111111111,
              "#46039f"
             ],
             [
              0.2222222222222222,
              "#7201a8"
             ],
             [
              0.3333333333333333,
              "#9c179e"
             ],
             [
              0.4444444444444444,
              "#bd3786"
             ],
             [
              0.5555555555555556,
              "#d8576b"
             ],
             [
              0.6666666666666666,
              "#ed7953"
             ],
             [
              0.7777777777777778,
              "#fb9f3a"
             ],
             [
              0.8888888888888888,
              "#fdca26"
             ],
             [
              1,
              "#f0f921"
             ]
            ],
            "type": "surface"
           }
          ],
          "table": [
           {
            "cells": {
             "fill": {
              "color": "#EBF0F8"
             },
             "line": {
              "color": "white"
             }
            },
            "header": {
             "fill": {
              "color": "#C8D4E3"
             },
             "line": {
              "color": "white"
             }
            },
            "type": "table"
           }
          ]
         },
         "layout": {
          "annotationdefaults": {
           "arrowcolor": "#2a3f5f",
           "arrowhead": 0,
           "arrowwidth": 1
          },
          "autotypenumbers": "strict",
          "coloraxis": {
           "colorbar": {
            "outlinewidth": 0,
            "ticks": ""
           }
          },
          "colorscale": {
           "diverging": [
            [
             0,
             "#8e0152"
            ],
            [
             0.1,
             "#c51b7d"
            ],
            [
             0.2,
             "#de77ae"
            ],
            [
             0.3,
             "#f1b6da"
            ],
            [
             0.4,
             "#fde0ef"
            ],
            [
             0.5,
             "#f7f7f7"
            ],
            [
             0.6,
             "#e6f5d0"
            ],
            [
             0.7,
             "#b8e186"
            ],
            [
             0.8,
             "#7fbc41"
            ],
            [
             0.9,
             "#4d9221"
            ],
            [
             1,
             "#276419"
            ]
           ],
           "sequential": [
            [
             0,
             "#0d0887"
            ],
            [
             0.1111111111111111,
             "#46039f"
            ],
            [
             0.2222222222222222,
             "#7201a8"
            ],
            [
             0.3333333333333333,
             "#9c179e"
            ],
            [
             0.4444444444444444,
             "#bd3786"
            ],
            [
             0.5555555555555556,
             "#d8576b"
            ],
            [
             0.6666666666666666,
             "#ed7953"
            ],
            [
             0.7777777777777778,
             "#fb9f3a"
            ],
            [
             0.8888888888888888,
             "#fdca26"
            ],
            [
             1,
             "#f0f921"
            ]
           ],
           "sequentialminus": [
            [
             0,
             "#0d0887"
            ],
            [
             0.1111111111111111,
             "#46039f"
            ],
            [
             0.2222222222222222,
             "#7201a8"
            ],
            [
             0.3333333333333333,
             "#9c179e"
            ],
            [
             0.4444444444444444,
             "#bd3786"
            ],
            [
             0.5555555555555556,
             "#d8576b"
            ],
            [
             0.6666666666666666,
             "#ed7953"
            ],
            [
             0.7777777777777778,
             "#fb9f3a"
            ],
            [
             0.8888888888888888,
             "#fdca26"
            ],
            [
             1,
             "#f0f921"
            ]
           ]
          },
          "colorway": [
           "#636efa",
           "#EF553B",
           "#00cc96",
           "#ab63fa",
           "#FFA15A",
           "#19d3f3",
           "#FF6692",
           "#B6E880",
           "#FF97FF",
           "#FECB52"
          ],
          "font": {
           "color": "#2a3f5f"
          },
          "geo": {
           "bgcolor": "white",
           "lakecolor": "white",
           "landcolor": "#E5ECF6",
           "showlakes": true,
           "showland": true,
           "subunitcolor": "white"
          },
          "hoverlabel": {
           "align": "left"
          },
          "hovermode": "closest",
          "mapbox": {
           "style": "light"
          },
          "paper_bgcolor": "white",
          "plot_bgcolor": "#E5ECF6",
          "polar": {
           "angularaxis": {
            "gridcolor": "white",
            "linecolor": "white",
            "ticks": ""
           },
           "bgcolor": "#E5ECF6",
           "radialaxis": {
            "gridcolor": "white",
            "linecolor": "white",
            "ticks": ""
           }
          },
          "scene": {
           "xaxis": {
            "backgroundcolor": "#E5ECF6",
            "gridcolor": "white",
            "gridwidth": 2,
            "linecolor": "white",
            "showbackground": true,
            "ticks": "",
            "zerolinecolor": "white"
           },
           "yaxis": {
            "backgroundcolor": "#E5ECF6",
            "gridcolor": "white",
            "gridwidth": 2,
            "linecolor": "white",
            "showbackground": true,
            "ticks": "",
            "zerolinecolor": "white"
           },
           "zaxis": {
            "backgroundcolor": "#E5ECF6",
            "gridcolor": "white",
            "gridwidth": 2,
            "linecolor": "white",
            "showbackground": true,
            "ticks": "",
            "zerolinecolor": "white"
           }
          },
          "shapedefaults": {
           "line": {
            "color": "#2a3f5f"
           }
          },
          "ternary": {
           "aaxis": {
            "gridcolor": "white",
            "linecolor": "white",
            "ticks": ""
           },
           "baxis": {
            "gridcolor": "white",
            "linecolor": "white",
            "ticks": ""
           },
           "bgcolor": "#E5ECF6",
           "caxis": {
            "gridcolor": "white",
            "linecolor": "white",
            "ticks": ""
           }
          },
          "title": {
           "x": 0.05
          },
          "xaxis": {
           "automargin": true,
           "gridcolor": "white",
           "linecolor": "white",
           "ticks": "",
           "title": {
            "standoff": 15
           },
           "zerolinecolor": "white",
           "zerolinewidth": 2
          },
          "yaxis": {
           "automargin": true,
           "gridcolor": "white",
           "linecolor": "white",
           "ticks": "",
           "title": {
            "standoff": 15
           },
           "zerolinecolor": "white",
           "zerolinewidth": 2
          }
         }
        },
        "width": 600
       }
      },
      "text/html": [
       "<div>                            <div id=\"fc8a1b5b-b325-4d24-aa47-9df3ef11a0a0\" class=\"plotly-graph-div\" style=\"height:600px; width:600px;\"></div>            <script type=\"text/javascript\">                require([\"plotly\"], function(Plotly) {                    window.PLOTLYENV=window.PLOTLYENV || {};                                    if (document.getElementById(\"fc8a1b5b-b325-4d24-aa47-9df3ef11a0a0\")) {                    Plotly.newPlot(                        \"fc8a1b5b-b325-4d24-aa47-9df3ef11a0a0\",                        [{\"customdata\":[[269000.0],[230000.0],[135000.0],[185000.0],[85655.92],[139000.0],[420000.0],[336800.0],[72478.09],[988337.61],[26355.66],[72478.09],[72478.09],[131119.45],[69183.63],[184489.68],[56664.68],[59300.25],[54688.01],[92244.84],[52711.33],[62594.71],[62594.71],[32944.58],[31937.46],[46011.6],[151567.64],[153000.0],[162393.9],[35185.34],[36809.28],[31396.15],[81196.95],[146154.51],[343571.36],[66828.71],[324787.8],[368092.84],[21111.2],[156980.77],[51424.73],[27390.43],[29176.77],[146154.51],[50878.0],[51966.04],[62250.99],[62250.99],[162393.9],[232223.28],[74701.19],[146154.51],[16239.39],[35185.34],[36267.97],[119088.86],[85527.45],[14344.79],[17863.32],[21111.2],[16239.39],[75783.82],[16780.7],[14886.1],[361597.08],[92023.21],[26524.33],[31396.15],[94459.12],[156980.77],[20028.58],[43305.04],[52507.36],[257123.67],[73077.25],[56837.86],[67664.12],[319374.67],[70370.69],[70370.69],[70370.69],[70370.69],[83903.51],[48176.85],[86068.76],[86610.08],[86610.08],[89316.64],[297722.15],[124501.99],[177821.32],[105556.03],[107721.28],[243590.85],[110969.16],[116382.29],[111510.47],[119088.86],[503421.09],[119088.86],[121795.42],[121795.42],[119088.86],[123419.36],[69017.4],[124501.99],[124501.99],[28689.58],[134786.93],[135328.25],[135328.25],[135328.25],[135328.25],[140741.38],[143447.94],[27065.65],[811969.51],[28148.27],[29772.21],[297722.15],[221938.33],[207864.19],[86610.08],[136681.53],[10000000.0],[35185.34],[119088.86],[162393.9],[270656.5],[27065.65],[48176.85],[541313.0],[116923.6],[37350.59],[37891.91],[81196.95],[107721.28],[24683.87],[36538.62],[676641.26],[25577.03],[151567.64],[35185.34],[17755.06],[59544.43],[67664.12],[40057.16],[151567.64],[29230.9],[324787.8],[23276.45],[89316.64],[106638.66],[156006.4],[27065.65],[162393.9],[108262.6],[92023.21],[151026.32],[148861.07],[149402.39],[67664.12],[81196.95],[151567.64],[151567.64],[151567.64],[154274.2],[156980.77],[159687.33],[162393.9],[162393.9],[162393.9],[35185.34],[703706.91],[162393.9],[162393.9],[173220.16],[173220.16],[173220.16],[243590.85],[175926.72],[178633.29],[178633.29],[173220.16],[178633.29],[125000.0],[28635.45],[178633.29],[181881.17],[184046.42],[189459.55],[113675.73],[189459.55],[189459.55],[189459.55],[189459.55],[94729.77],[189459.55],[189459.55],[189459.55],[189459.55],[32478.78],[194872.68],[194872.68],[200285.81],[67664.12],[208405.5],[211112.07],[37891.91],[40598.47],[44604.19],[216525.2],[216525.2],[105556.03],[216525.2],[227351.46],[227351.46],[11908.88],[40598.47],[227351.46],[240884.28],[243590.85],[251710.54],[259830.24],[262536.8],[262536.8],[90128.61],[186752.98],[184046.42],[265243.37],[265243.37],[267949.93],[270656.5],[270656.5],[305841.84],[161852.58],[311254.98],[21652.52],[148319.76],[322081.24],[324787.8],[327494.37],[351853.45],[368092.84],[368092.84],[378919.1],[378919.1],[378919.1],[378919.1],[395158.49],[395158.49],[433050.4],[433050.4],[27606.96],[486099.08],[69829.37],[69829.37],[51424.73],[27065.65],[21652.52],[67664.12],[97436.34],[86610.08],[185670.36],[514247.35],[476355.44],[514247.35],[178633.29],[514247.35],[227351.46],[525073.61],[541313.0],[541313.0],[17863.32],[105556.03],[541313.0],[595444.3],[378864.97],[25983.02],[69017.4],[46011.6],[59544.43],[143447.94],[205698.94],[25712.36],[622509.96],[622509.96],[663108.43],[811969.51],[866100.81],[920232.11],[1623939.02],[400000.0],[165000.0],[290000.0],[350000.0],[620000.0],[1000000.0],[1000000.0],[1000000.0],[1100000.0],[1200000.0],[1300000.0],[1500000.0],[1500000.0],[1000000.0],[121470.63],[47094.23],[125530.48],[54131.3],[270656.5],[92023.21],[238177.72],[260000.0],[109700.0],[44874.84],[37891.91],[24359.08],[43305.04],[34102.71],[48718.17],[40057.16],[54131.3],[96353.71],[173197.96],[89316.64],[107721.28],[54131.3],[59544.43],[27065.65],[36322.1],[15860.47],[249003.98],[40598.47],[91481.89],[85256.79],[127208.55],[72211.15],[204075.0],[21652.52],[345899.01],[227351.46],[124501.99],[649575.61],[116382.29],[94729.77],[42763.72],[53048.67],[100816.84],[162123.24],[83903.51],[15156.76],[20028.58],[72265.28],[18945.95],[20028.58],[89316.64],[32478.78],[40057.16],[54131.3],[724175.71],[189671.34],[253481.28757515032],[216731.21242484968],[127211.7985971944],[174327.27955911824],[80714.39729458919],[130981.03707414828],[395770.0400801603],[317369.879759519],[68296.80110220441],[931320.0365731462],[24835.191883767533],[68296.80110220441],[68296.80110220441],[123555.11873747494],[65192.399799599196],[173846.3997995992],[53395.67284569138],[55879.195891783565],[51533.0375751503],[86923.1998997996],[49670.393286573155],[58983.59719438878],[58983.59719438878],[31043.994488977954],[30094.975450901802],[43357.17284569138],[142823.64478957915],[144173.37174348696],[153025.33366733463],[33155.48396793587],[34685.738476953906],[29584.893787575147],[76512.66683366732],[137722.8006012024],[323750.59719438874],[62973.33617234469],[306050.6678356713],[346857.4238476953],[19893.28657314629],[147924.48947895793],[48458.01753507014],[25810.265531062123],[27493.5506012024],[137722.8006012024],[47942.82865731463],[48968.09919839679],[58659.706412825646],[58659.706412825646],[153025.33366733463],[218826.23046092183],[70391.6497995992],[137722.8006012024],[15302.533066132262],[33155.48396793587],[34175.656813627254],[112218.5781563126],[80593.33867735471],[13517.233466933867],[16832.778056112224],[19893.28657314629],[15302.533066132262],[71411.82214428857],[15812.614729458915],[14027.315130260522],[340736.4063126252],[86714.35571142285],[24994.13126252505],[29584.893787575147],[89009.73697394789],[147924.48947895793],[18873.12324649298],[40806.755511022035],[49478.19038076152],[242290.1072144289],[68861.39529058116],[53558.861723446884],[63760.551102204416],[300949.8236472946],[66310.97795591183],[66310.97795591183],[66310.97795591183],[66310.97795591183],[79063.08416833666],[45397.509018036064],[81103.42034068136],[81613.51102204407],[81613.51102204407],[84163.92885771544],[280546.4453907816],[117319.42234468936],[167562.7399799599],[99466.46242484971],[101506.79809619236],[229538.001002004],[104567.30661322645],[109668.1513026052],[105077.3882765531],[112218.5781563126],[474378.5355711423],[112218.5781563126],[114768.99549098195],[114768.99549098195],[112218.5781563126],[116299.25],[65035.759519038074],[117319.42234468936],[117319.42234468936],[27034.466933867734],[127011.02054108215],[127521.1117234469],[127521.1117234469],[127521.1117234469],[127521.1117234469],[132621.95591182366],[135172.37324649296],[25504.22194388778],[765126.6793587173],[26524.38527054108],[28054.639779559115],[280546.4453907816],[209134.62274549092],[195872.42535070138],[81613.51102204407],[128796.32014028054],[9423096.192384768],[33155.48396793587],[112218.5781563126],[153025.33366733463],[255042.2234468938],[25504.22194388778],[45397.509018036064],[510084.4468937876],[110178.23296593183],[35195.820140280564],[35705.91082164329],[76512.66683366732],[101506.79809619236],[23259.84769539078],[34430.69288577154],[637605.5676352704],[24101.480961923848],[142823.64478957915],[33155.48396793587],[16730.76352705411],[56109.28907815631],[63760.551102204416],[37746.24699398797],[142823.64478957915],[27544.558116232467],[306050.6678356713],[21933.62224448897],[84163.92885771544],[100486.63476953909],[147006.33116232464],[25504.22194388778],[153025.33366733463],[102016.88927855712],[86714.35571142285],[142313.55360721445],[140273.21793587177],[140783.30911823647],[63760.551102204416],[76512.66683366732],[142823.64478957915],[142823.64478957915],[142823.64478957915],[145374.06262525052],[147924.48947895793],[150474.90681362725],[153025.33366733463],[153025.33366733463],[153025.33366733463],[33155.48396793587],[663109.7900801604],[153025.33366733463],[153025.33366733463],[163227.02254509018],[163227.02254509018],[163227.02254509018],[229538.001002004],[165777.44038076152],[168327.86723446893],[168327.86723446893],[163227.02254509018],[168327.86723446893],[117788.70240480964],[26983.459919839683],[168327.86723446893],[171388.37575150302],[173428.71192384767],[178529.55611222444],[107117.73346693387],[178529.55611222444],[178529.55611222444],[178529.55611222444],[178529.55611222444],[89264.77304609219],[178529.55611222444],[178529.55611222444],[178529.55611222444],[178529.55611222444],[30605.06663326653],[183630.40080160322],[183630.40080160322],[188731.24498997995],[63760.551102204416],[196382.50701402806],[198932.93386773547],[35705.91082164329],[38256.32865731463],[42030.956913827664],[204033.77855711424],[204033.77855711424],[99466.46242484971],[204033.77855711424],[214235.46743486973],[214235.46743486973],[11221.851703406814],[38256.32865731463],[214235.46743486973],[226987.5741482966],[229538.001002004],[237189.2630260521],[244840.53406813624],[247390.9519038076],[247390.9519038076],[84929.05611222444],[175979.12925851703],[173428.71192384767],[249941.37875751505],[249941.37875751505],[252491.79609218435],[255042.2234468938],[255042.2234468938],[288197.70741482964],[152515.24298597194],[293298.56162324647],[20403.377755511017],[139763.1362725451],[303500.250501002],[306050.6678356713],[308601.09468937875],[331554.8902805611],[346857.4238476953],[346857.4238476953],[357059.11272545095],[357059.11272545095],[357059.11272545095],[357059.11272545095],[372361.6457915832],[372361.6457915832],[408067.55711422843],[408067.55711422843],[26014.303607214428],[458055.8386773546],[65800.88677354707],[65800.88677354707],[48458.01753507014],[25504.22194388778],[20403.377755511017],[63760.551102204416],[91815.20040080161],[81613.51102204407],[174958.96593186373],[484580.2244488978],[448874.3131262525],[484580.2244488978],[168327.86723446893],[484580.2244488978],[214235.46743486973],[494781.9133266533],[510084.4468937876],[510084.4468937876],[16832.778056112224],[99466.46242484971],[510084.4468937876],[561092.8912825651],[357008.10521042085],[24484.0495991984],[65035.759519038074],[43357.17284569138],[56109.28907815631],[135172.37324649296],[193832.0896793587],[24229.00400801603],[586597.1232464929],[586597.1232464929],[624853.4519038076],[765126.6793587173],[816135.1242484971],[867143.5691382765],[1530253.3592184368],[376923.8476953908],[155481.08717434868],[273269.7895791583],[329808.3667334669],[584231.9639278557],[942309.6192384771],[942309.6192384771],[942309.6192384771],[1036540.5811623245],[1130771.5430861723],[1225002.50501002],[1413464.4288577153],[1413464.4288577153],[942309.6192384771],[114462.94288577152],[44377.34569138276],[118288.57865731463],[51008.444388777556],[255042.2234468938],[86714.35571142285],[224437.1563126252],[245000.501002004],[103371.36523046091],[42285.99298597194],[35705.91082164329],[22953.79509018036],[40806.755511022035],[32135.31162324649],[45907.600200400804],[37746.24699398797],[51008.444388777556],[90795.0275551102],[163206.10370741482],[84163.92885771544],[101506.79809619236],[51008.444388777556],[56109.28907815631],[25504.22194388778],[34226.663827655306],[14945.472945891785],[234638.84519038073],[38256.32865731463],[86204.26452905811],[80338.29308617233],[119869.84018036073],[68045.26102204407],[192301.83517034067],[20403.377755511017],[325943.9639278557],[214235.46743486973],[117319.42234468936],[612101.3456913828],[109668.1513026052],[89264.77304609219],[40296.664328657316],[49988.27154308617],[95000.67785571143],[152770.2880761523],[79063.08416833666],[14282.360721442883],[18873.12324649298],[68096.26803607214],[17852.950901803608],[18873.12324649298],[84163.92885771544],[30605.06663326653],[37746.24699398797],[51008.444388777556],[682397.7374749499],[178729.12775551106],[269000.0],[230000.0],[135000.0],[185000.0],[85655.92],[139000.0],[420000.0],[336800.0],[72478.09],[988337.61],[26355.66],[72478.09],[72478.09],[131119.45],[69183.63],[184489.68],[56664.68],[59300.25],[54688.01],[92244.84],[52711.33],[62594.71],[62594.71],[32944.58],[31937.46],[46011.6],[151567.64],[153000.0],[162393.9],[35185.34],[36809.28],[31396.15],[81196.95],[146154.51],[343571.36],[66828.71],[324787.8],[368092.84],[21111.2],[156980.77],[51424.73],[27390.43],[29176.77],[146154.51],[50878.0],[51966.04],[62250.99],[62250.99],[162393.9],[232223.28],[74701.19],[146154.51],[16239.39],[35185.34],[36267.97],[119088.86],[85527.45],[14344.79],[17863.32],[21111.2],[16239.39],[75783.82],[16780.7],[14886.1],[361597.08],[92023.21],[26524.33],[31396.15],[94459.12],[156980.77],[20028.58],[43305.04],[52507.36],[257123.67],[73077.25],[56837.86],[67664.12],[319374.67],[70370.69],[70370.69],[70370.69],[70370.69],[83903.51],[48176.85],[86068.76],[86610.08],[86610.08],[89316.64],[297722.15],[124501.99],[177821.32],[105556.03],[107721.28],[243590.85],[110969.16],[116382.29],[111510.47],[119088.86],[503421.09],[119088.86],[121795.42],[121795.42],[119088.86],[123419.36],[69017.4],[124501.99],[124501.99],[28689.58],[134786.93],[135328.25],[135328.25],[135328.25],[135328.25],[140741.38],[143447.94],[27065.65],[811969.51],[28148.27],[29772.21],[297722.15],[221938.33],[207864.19],[86610.08],[136681.53],[10000000.0],[35185.34],[119088.86],[162393.9],[270656.5],[27065.65],[48176.85],[541313.0],[116923.6],[37350.59],[37891.91],[81196.95],[107721.28],[24683.87],[36538.62],[676641.26],[25577.03],[151567.64],[35185.34],[17755.06],[59544.43],[67664.12],[40057.16],[151567.64],[29230.9],[324787.8],[23276.45],[89316.64],[106638.66],[156006.4],[27065.65],[162393.9],[108262.6],[92023.21],[151026.32],[148861.07],[149402.39],[67664.12],[81196.95],[151567.64],[151567.64],[151567.64],[154274.2],[156980.77],[159687.33],[162393.9],[162393.9],[162393.9],[35185.34],[703706.91],[162393.9],[162393.9],[173220.16],[173220.16],[173220.16],[243590.85],[175926.72],[178633.29],[178633.29],[173220.16],[178633.29],[125000.0],[28635.45],[178633.29],[181881.17],[184046.42],[189459.55],[113675.73],[189459.55],[189459.55],[189459.55],[189459.55],[94729.77],[189459.55],[189459.55],[189459.55],[189459.55],[32478.78],[194872.68],[194872.68],[200285.81],[67664.12],[208405.5],[211112.07],[37891.91],[40598.47],[44604.19],[216525.2],[216525.2],[105556.03],[216525.2],[227351.46],[227351.46],[11908.88],[40598.47],[227351.46],[240884.28],[243590.85],[251710.54],[259830.24],[262536.8],[262536.8],[90128.61],[186752.98],[184046.42],[265243.37],[265243.37],[267949.93],[270656.5],[270656.5],[305841.84],[161852.58],[311254.98],[21652.52],[148319.76],[322081.24],[324787.8],[327494.37],[351853.45],[368092.84],[368092.84],[378919.1],[378919.1],[378919.1],[378919.1],[395158.49],[395158.49],[433050.4],[433050.4],[27606.96],[486099.08],[69829.37],[69829.37],[51424.73],[27065.65],[21652.52],[67664.12],[97436.34],[86610.08],[185670.36],[514247.35],[476355.44],[514247.35],[178633.29],[514247.35],[227351.46],[525073.61],[541313.0],[541313.0],[17863.32],[105556.03],[541313.0],[595444.3],[378864.97],[25983.02],[69017.4],[46011.6],[59544.43],[143447.94],[205698.94],[25712.36],[622509.96],[622509.96],[663108.43],[811969.51],[866100.81],[920232.11],[1623939.02],[400000.0],[165000.0],[290000.0],[350000.0],[620000.0],[1000000.0],[1000000.0],[1000000.0],[1100000.0],[1200000.0],[1300000.0],[1500000.0],[1500000.0],[1000000.0],[121470.63],[47094.23],[125530.48],[54131.3],[270656.5],[92023.21],[238177.72],[260000.0],[109700.0],[44874.84],[37891.91],[24359.08],[43305.04],[34102.71],[48718.17],[40057.16],[54131.3],[96353.71],[173197.96],[89316.64],[107721.28],[54131.3],[59544.43],[27065.65],[36322.1],[15860.47],[249003.98],[40598.47],[91481.89],[85256.79],[127208.55],[72211.15],[204075.0],[21652.52],[345899.01],[227351.46],[124501.99],[649575.61],[116382.29],[94729.77],[42763.72],[53048.67],[100816.84],[162123.24],[83903.51],[15156.76],[20028.58],[72265.28],[18945.95],[20028.58],[89316.64],[32478.78],[40057.16],[54131.3],[724175.71],[189671.34]],\"hovertemplate\":\"lat=%{lat}<br>lon=%{lon}<br>price_usd=%{customdata[0]}<extra></extra>\",\"lat\":[20.627527,20.627567000000006,20.6267,20.635482,20.62158,20.630723,20.636356,20.616003,21.026917,20.698689,20.927007,20.666667,20.997851,21.036225,20.666667,20.96681,20.97,20.993882,21.022035,21.017202,20.968765,21.010511,20.989657,20.968422,19.54761,19.497295,20.96681,20.723851,15.769284,15.768979000000002,15.774263,15.769287,15.776394,19.41501,19.41501,21.965213,19.677936,19.62805,18.806108,19.068634,25.774904,18.761547,18.766667,18.898536,25.614511,20.118493,20.116699,18.962486,20.121667,18.943401,25.455442,18.849655,19.649624,19.726771,19.456564,20.10578,16.757716000000002,25.624988,20.06755,20.045819,20.067054,19.512787,20.035295,20.031747,19.358776,19.36237,25.810335,16.773699,19.24647,18.998745,28.838420000000006,18.681305,18.917941,29.115721,18.889614,18.793997,18.890011,19.346521,18.804108,18.784964,18.804108,18.915981,18.861338,19.506648,18.896955,18.920878,18.926634,18.912997,19.353278,18.876475,19.314291,18.88304,18.953268,19.507703,18.966718,18.864051,19.309512,18.905797,19.30389,28.416303000000006,18.912997,18.921106,18.927526,18.905943,21.009741,18.881568,18.727412,25.6567,18.902308,19.314921,17.061256,18.683333,18.891843,18.656933,18.863376,18.980009,20.58372,19.678894,19.293045000000006,19.326078,19.379739,19.379982,20.495122,19.52155,19.395209,19.563188,19.374976,19.403483,19.375172,19.3156,25.673256,19.840637,19.516065,19.3156,19.3156,19.630895,19.399982,19.668294,18.851992000000006,19.049938,19.3156,19.407682,19.442791,19.668456,19.292125,19.3156,19.456151,19.372675,19.3156,19.387146,19.362024,19.527662,19.3156,19.433558,32.612365999999994,21.156621,18.903176,19.662669,18.963375,18.905797,18.944016,25.518763,19.351277,18.917183,18.927531,18.907448,18.863376,18.949811,18.741928,18.882725,18.976827,18.892438,16.783867,21.018223000000006,18.952786,18.918117,18.905797,18.923849,18.971828,18.875591,18.947303,18.960201,18.922082,18.972662,20.505226,32.413325,19.99021,18.952743,18.740433,18.875333,18.883484,32.507254,18.860276,18.851606,18.901526,18.936026,20.757322,18.918117,18.963375,18.966718,18.820908,19.600539,18.917625,18.963375,18.960244,25.671888,18.973205,18.918117,18.501212,25.722652,19.235328,19.228796,18.817971,18.857474,18.817971,19.228796,18.901765,25.666403,25.480354,18.960244,18.681305,18.902273,19.228796,18.885319,18.917625,18.947936,18.919908,18.903176,18.903176,18.874791,18.941406,18.943577,18.681305,25.720767,18.963443,19.542961,18.963303,20.55084,18.903176,18.952743,18.941299,18.887499,18.875591,18.81792,18.885319,18.681305,18.962486,18.918117,18.969955,18.918117,18.962998,18.918117,18.952743,19.393751,25.640585,19.3156,19.3156,20.966044,25.800508,19.605575,19.318631,20.114444,19.330351,19.308676,19.573314,18.913404,18.917183,18.927154,18.909575,19.447885,19.075839,18.917183,18.814364,19.568308,19.037905,18.905797,18.973205,19.612642,19.474123,18.863376,29.090756,25.814079,22.175048,18.850779,20.735282,18.947868,18.918117,18.917183,18.905797,18.908058,18.925321,18.883333,18.92409,18.921155,18.907574,18.925321,16.833714,18.969876,18.863109,18.917183,18.857153,18.901765,18.954798,18.918117,18.918117,18.911873,19.387014,19.3156,18.033768,26.054752,21.064444,18.015418,20.610736,23.221155,23.200965,19.617478,18.026667,19.642252,19.3156,20.021952,20.021951,20.021602,16.833373,20.594727,25.438626,19.519162,19.387683,19.454851,19.508422,19.441539,19.458765,19.538101,18.952743,19.645003,19.3156,19.3156,21.024379,19.426974,19.412874,19.398678,18.947844,18.860276,26.070458,18.973205,18.837379,19.228796,19.68237,18.828578,16.756932,16.749545,16.744685999999998,19.612113,18.914636,18.935153,19.822567000000006,19.471333,18.910475,20.346854,20.776512,19.381685,25.6764017,25.6866142,20.627527,20.627567000000006,20.6267,20.635482,20.62158,20.630723,20.636356,20.616003,21.026917,20.698689,20.927007,20.666667,20.997851,21.036225,20.666667,20.96681,20.97,20.993882,21.022035,21.017202,20.968765,21.010511,20.989657,20.968422,19.54761,19.497295,20.96681,20.723851,15.769284,15.768979000000002,15.774263,15.769287,15.776394,19.41501,19.41501,21.965213,19.677936,19.62805,18.806108,19.068634,25.774904,18.761547,18.766667,18.898536,25.614511,20.118493,20.116699,18.962486,20.121667,18.943401,25.455442,18.849655,19.649624,19.726771,19.456564,20.10578,16.757716000000002,25.624988,20.06755,20.045819,20.067054,19.512787,20.035295,20.031747,19.358776,19.36237,25.810335,16.773699,19.24647,18.998745,28.838420000000006,18.681305,18.917941,29.115721,18.889614,18.793997,18.890011,19.346521,18.804108,18.784964,18.804108,18.915981,18.861338,19.506648,18.896955,18.920878,18.926634,18.912997,19.353278,18.876475,19.314291,18.88304,18.953268,19.507703,18.966718,18.864051,19.309512,18.905797,19.30389,28.416303000000006,18.912997,18.921106,18.927526,18.905943,21.009741,18.881568,18.727412,25.6567,18.902308,19.314921,17.061256,18.683333,18.891843,18.656933,18.863376,18.980009,20.58372,19.678894,19.293045000000006,19.326078,19.379739,19.379982,20.495122,19.52155,19.395209,19.563188,19.374976,19.403483,19.375172,19.3156,25.673256,19.840637,19.516065,19.3156,19.3156,19.630895,19.399982,19.668294,18.851992000000006,19.049938,19.3156,19.407682,19.442791,19.668456,19.292125,19.3156,19.456151,19.372675,19.3156,19.387146,19.362024,19.527662,19.3156,19.433558,32.612365999999994,21.156621,18.903176,19.662669,18.963375,18.905797,18.944016,25.518763,19.351277,18.917183,18.927531,18.907448,18.863376,18.949811,18.741928,18.882725,18.976827,18.892438,16.783867,21.018223000000006,18.952786,18.918117,18.905797,18.923849,18.971828,18.875591,18.947303,18.960201,18.922082,18.972662,20.505226,32.413325,19.99021,18.952743,18.740433,18.875333,18.883484,32.507254,18.860276,18.851606,18.901526,18.936026,20.757322,18.918117,18.963375,18.966718,18.820908,19.600539,18.917625,18.963375,18.960244,25.671888,18.973205,18.918117,18.501212,25.722652,19.235328,19.228796,18.817971,18.857474,18.817971,19.228796,18.901765,25.666403,25.480354,18.960244,18.681305,18.902273,19.228796,18.885319,18.917625,18.947936,18.919908,18.903176,18.903176,18.874791,18.941406,18.943577,18.681305,25.720767,18.963443,19.542961,18.963303,20.55084,18.903176,18.952743,18.941299,18.887499,18.875591,18.81792,18.885319,18.681305,18.962486,18.918117,18.969955,18.918117,18.962998,18.918117,18.952743,19.393751,25.640585,19.3156,19.3156,20.966044,25.800508,19.605575,19.318631,20.114444,19.330351,19.308676,19.573314,18.913404,18.917183,18.927154,18.909575,19.447885,19.075839,18.917183,18.814364,19.568308,19.037905,18.905797,18.973205,19.612642,19.474123,18.863376,29.090756,25.814079,22.175048,18.850779,20.735282,18.947868,18.918117,18.917183,18.905797,18.908058,18.925321,18.883333,18.92409,18.921155,18.907574,18.925321,16.833714,18.969876,18.863109,18.917183,18.857153,18.901765,18.954798,18.918117,18.918117,18.911873,19.387014,19.3156,18.033768,26.054752,21.064444,18.015418,20.610736,23.221155,23.200965,19.617478,18.026667,19.642252,19.3156,20.021952,20.021951,20.021602,16.833373,20.594727,25.438626,19.519162,19.387683,19.454851,19.508422,19.441539,19.458765,19.538101,18.952743,19.645003,19.3156,19.3156,21.024379,19.426974,19.412874,19.398678,18.947844,18.860276,26.070458,18.973205,18.837379,19.228796,19.68237,18.828578,16.756932,16.749545,16.744685999999998,19.612113,18.914636,18.935153,19.822567000000006,19.471333,18.910475,20.346854,20.776512,19.381685,25.6764017,25.6866142,20.627527,20.627567000000003,20.6267,20.635482,20.621579999999998,20.630723,20.636356,20.616003,21.026917,20.698689,20.927007,20.666667,20.997851,21.036225,20.666667,20.96681,20.97,20.993882,21.022035,21.017201999999997,20.968764999999998,21.010510999999997,20.989657,20.968422,19.54761,19.497295,20.96681,20.723851,15.769283999999999,15.768979000000002,15.774263000000001,15.769287,15.776394,19.415010000000002,19.415010000000002,21.965213000000002,19.677936,19.62805,18.806108,19.068634,25.774904,18.761547,18.766667,18.898536,25.614511,20.118493,20.116699,18.962486,20.121667000000002,18.943401,25.455442,18.849655,19.649624,19.726771,19.456564,20.10578,16.757716000000002,25.624988000000002,20.06755,20.045819,20.067054000000002,19.512787,20.035295,20.031747,19.358776000000002,19.362370000000002,25.810335000000002,16.773699,19.246470000000002,18.998745,28.838420000000003,18.681305,18.917941,29.115721,18.889614,18.793997,18.890010999999998,19.346521,18.804108,18.784964000000002,18.804108,18.915981,18.861338,19.506648000000002,18.896955,18.920878,18.926634,18.912997,19.353278,18.876475,19.314291,18.88304,18.953267999999998,19.507703,18.966718,18.864051,19.309511999999998,18.905797,19.30389,28.416303000000003,18.912997,18.921105999999998,18.927526,18.905943,21.009741,18.881567999999998,18.727412,25.6567,18.902307999999998,19.314921,17.061256,18.683332999999998,18.891842999999998,18.656933,18.863376000000002,18.980009,20.58372,19.678894,19.293045000000003,19.326078,19.379739,19.379982000000002,20.495122,19.52155,19.395209,19.563188,19.374976,19.403482999999998,19.375172,19.3156,25.673256,19.840637,19.516065,19.3156,19.3156,19.630895000000002,19.399982,19.668294,18.851992000000003,19.049938,19.3156,19.407682,19.442791,19.668456,19.292125,19.3156,19.456151000000002,19.372675,19.3156,19.387145999999998,19.362023999999998,19.527662,19.3156,19.433557999999998,32.612365999999994,21.156620999999998,18.903176000000002,19.662669,18.963375,18.905797,18.944016,25.518763,19.351277,18.917182999999998,18.927531,18.907448000000002,18.863376000000002,18.949810999999997,18.741928,18.882725,18.976827,18.892438000000002,16.783867,21.018223000000003,18.952786,18.918117000000002,18.905797,18.923849,18.971828,18.875591,18.947303,18.960201,18.922082,18.972662,20.505226,32.413325,19.99021,18.952742999999998,18.740433,18.875332999999998,18.883484,32.507253999999996,18.860276000000002,18.851606,18.901526,18.936026000000002,20.757322,18.918117000000002,18.963375,18.966718,18.820908,19.600539,18.917625,18.963375,18.960244,25.671888,18.973205,18.918117000000002,18.501212,25.722652,19.235328,19.228796,18.817971,18.857474,18.817971,19.228796,18.901765,25.666403,25.480354000000002,18.960244,18.681305,18.902273,19.228796,18.885319,18.917625,18.947936,18.919908,18.903176000000002,18.903176000000002,18.874791000000002,18.941406,18.943576999999998,18.681305,25.720767000000002,18.963442999999998,19.542961,18.963303,20.55084,18.903176000000002,18.952742999999998,18.941299,18.887499,18.875591,18.81792,18.885319,18.681305,18.962486,18.918117000000002,18.969955,18.918117000000002,18.962998000000002,18.918117000000002,18.952742999999998,19.393751,25.640585,19.3156,19.3156,20.966044,25.800507999999997,19.605575,19.318631,20.114444,19.330351,19.308676000000002,19.573314,18.913404,18.917182999999998,18.927154,18.909575,19.447885,19.075839000000002,18.917182999999998,18.814364,19.568308,19.037905,18.905797,18.973205,19.612642,19.474123000000002,18.863376000000002,29.090756,25.814079,22.175048,18.850779,20.735282,18.947868,18.918117000000002,18.917182999999998,18.905797,18.908058,18.925321,18.883333,18.92409,18.921155,18.907574,18.925321,16.833714,18.969876,18.863108999999998,18.917182999999998,18.857153,18.901765,18.954798,18.918117000000002,18.918117000000002,18.911873,19.387014,19.3156,18.033768,26.054752,21.064444,18.015418,20.610736,23.221155,23.200965,19.617478,18.026667,19.642252,19.3156,20.021952,20.021951,20.021601999999998,16.833373,20.594727,25.438626,19.519161999999998,19.387683,19.454851,19.508422,19.441539000000002,19.458765,19.538101,18.952742999999998,19.645003,19.3156,19.3156,21.024379,19.426973999999998,19.412874,19.398678,18.947844,18.860276000000002,26.070458,18.973205,18.837379000000002,19.228796,19.682370000000002,18.828578,16.756932,16.749545,16.744685999999998,19.612113,18.914635999999998,18.935153,19.822567000000003,19.471332999999998,18.910475,20.346854,20.776512,19.381685,25.6764017,25.686614199999998],\"legendgroup\":\"\",\"lon\":[-87.076686,-87.076718,-87.075866,-87.07034499999997,-87.092398,-87.073113,-87.064015,-87.08558000000002,-89.57469,-88.58928399999998,-89.56214399999998,-89.25,-89.564806,-89.62280600000003,-89.25,-89.664374,-89.62,-89.654744,-89.56994300000002,-89.576877,-89.575109,-89.562531,-89.586893,-89.67354,-96.928985,-96.87925,-89.664374,-105.275997,-96.123398,-96.130707,-96.138665,-96.130843,-96.141985,-99.175174,-99.175174,-102.298033,-99.008991,-99.167282,-99.198614,-98.244036,-100.393527,-98.883369,-98.983333,-99.22432,-103.385099,-98.767489,-98.714226,-99.260469,-98.735833,-99.205222,-100.990648,-99.68064,-99.083374,-101.185097,-99.191724,-98.744434,-93.17692,-100.17427,-98.734191,-98.721176,-98.733824,-99.141393,-98.717312,-98.717312,-99.213557,-99.143951,-109.015277,-93.122478,-99.10135,-98.266368,-105.910162,-99.10135,-99.226711,-110.944175,-99.164199,-99.24066,-99.177327,-99.234912,-99.199689,-99.230678,-99.199689,-99.244009,-99.20929,-99.10361,-99.222541,-99.21515,-99.212752,-99.211239,-99.289725,-99.215522,-99.224132,-99.052271,-99.224524,-99.23699,-99.220369,-99.208054,-99.242855,-99.207515,-99.210894,-100.891494,-99.211239,-99.218236,-99.250116,-99.208625,-89.6872,-99.173911,-99.397894,-100.11051,-99.229744,-98.228354,-96.710825,-99.116667,-99.172601,-91.795327,-99.212029,-99.241492,-100.384397,-99.180958,-99.014329,-99.135953,-99.17181,-99.171745,-103.48467,-99.214165,-99.230157,-99.058025,-99.160186,-99.153132,-99.157647,-99.223679,-100.312717,-90.533838,-99.251518,-99.223679,-99.223679,-99.248073,-99.150884,-99.121528,-99.228314,-98.209832,-99.223679,-99.172042,-99.124128,-99.121378,-99.12219,-99.223679,-99.191144,-99.118942,-99.223679,-99.166124,-99.012327,-99.156247,-99.223679,-99.186279,-115.361887,-86.821453,-99.19985,-99.015819,-99.214489,-99.207515,-99.243144,-103.401592,-99.221244,-99.226643,-99.250123,-99.227873,-99.212029,-99.255705,-99.255226,-99.163605,-99.253615,-99.205135,-93.087834,-89.569909,-99.203302,-99.226656,-99.207515,-99.222518,-99.290713,-99.17301,-99.198053,-99.21302,-99.215522,-99.204443,-103.234162,-117.091841,-102.252272,-99.203432,-99.25985,-99.194059,-99.162605,-117.017891,-99.218034,-99.218407,-99.2221,-99.216214,-103.400757,-99.226656,-99.214489,-99.220369,-99.22484,-99.296804,-99.166007,-99.214489,-99.212962,-100.22272,-99.24704,-99.226656,-98.753177,-100.165387,-99.121824,-99.118536,-99.2296,-99.070352,-99.2296,-99.118536,-99.240523,-100.188576,-100.003179,-99.212962,-99.10135,-99.196989,-99.118536,-98.98187,-99.166007,-99.245726,-98.978819,-99.19985,-99.19985,-99.212406,-99.221919,-99.19752,-99.10135,-100.194766,-99.214462,-99.225191,-99.214537,-100.683131,-99.19985,-99.203432,-99.222015,-99.128066,-99.17301,-99.22958,-98.98187,-99.10135,-99.260469,-99.226656,-99.205347,-99.226656,-99.210937,-99.226656,-99.203432,-99.049999,-100.3351,-99.223679,-99.223679,-89.627433,-100.26872,-99.230827,-99.226811,-98.886667,-99.086271,-99.103853,-99.291466,-99.217592,-99.226643,-99.226353,-99.208444,-99.190185,-98.155737,-99.226643,-98.959153,-99.039082,-98.268308,-99.207515,-99.24704,-99.259157,-99.082854,-99.212029,-110.949898,-109.007223,-100.991926,-99.229372,-103.408414,-99.197361,-99.226656,-99.226643,-99.207515,-99.183412,-99.20605,-99.066667,-99.173091,-99.181126,-99.23542,-99.20605,-99.896846,-99.206722,-99.231105,-99.226643,-99.181267,-99.240523,-99.204085,-99.226656,-99.226656,-99.249031,-99.147406,-99.223679,-92.982819,-98.310373,-89.59666700000002,-92.953393,-100.38742,-106.423506,-106.423003,-99.13593,-92.903213,-99.037532,-99.223679,-98.810774,-98.810673,-98.810873,-99.904843,-100.346983,-100.997502,-99.227183,-99.174712,-99.178049,-99.255092,-99.144553,-99.178604,-99.142645,-99.203432,-99.212361,-99.223679,-99.223679,-89.62445100000002,-99.10489,-99.173954,-98.983367,-99.19731,-99.218034,-98.287119,-99.24704,-99.187391,-99.118536,-99.247189,-99.244375,-93.129235,-93.193984,-93.160134,-99.04885,-96.968808,-99.250834,-99.190234,-99.05898,-98.942935,-102.755852,-103.448768,-99.725632,-100.3568071,-100.3161126,-87.076686,-87.076718,-87.075866,-87.07034499999997,-87.092398,-87.073113,-87.064015,-87.08558000000002,-89.57469,-88.58928399999998,-89.56214399999998,-89.25,-89.564806,-89.62280600000003,-89.25,-89.664374,-89.62,-89.654744,-89.56994300000002,-89.576877,-89.575109,-89.562531,-89.586893,-89.67354,-96.928985,-96.87925,-89.664374,-105.275997,-96.123398,-96.130707,-96.138665,-96.130843,-96.141985,-99.175174,-99.175174,-102.298033,-99.008991,-99.167282,-99.198614,-98.244036,-100.393527,-98.883369,-98.983333,-99.22432,-103.385099,-98.767489,-98.714226,-99.260469,-98.735833,-99.205222,-100.990648,-99.68064,-99.083374,-101.185097,-99.191724,-98.744434,-93.17692,-100.17427,-98.734191,-98.721176,-98.733824,-99.141393,-98.717312,-98.717312,-99.213557,-99.143951,-109.015277,-93.122478,-99.10135,-98.266368,-105.910162,-99.10135,-99.226711,-110.944175,-99.164199,-99.24066,-99.177327,-99.234912,-99.199689,-99.230678,-99.199689,-99.244009,-99.20929,-99.10361,-99.222541,-99.21515,-99.212752,-99.211239,-99.289725,-99.215522,-99.224132,-99.052271,-99.224524,-99.23699,-99.220369,-99.208054,-99.242855,-99.207515,-99.210894,-100.891494,-99.211239,-99.218236,-99.250116,-99.208625,-89.6872,-99.173911,-99.397894,-100.11051,-99.229744,-98.228354,-96.710825,-99.116667,-99.172601,-91.795327,-99.212029,-99.241492,-100.384397,-99.180958,-99.014329,-99.135953,-99.17181,-99.171745,-103.48467,-99.214165,-99.230157,-99.058025,-99.160186,-99.153132,-99.157647,-99.223679,-100.312717,-90.533838,-99.251518,-99.223679,-99.223679,-99.248073,-99.150884,-99.121528,-99.228314,-98.209832,-99.223679,-99.172042,-99.124128,-99.121378,-99.12219,-99.223679,-99.191144,-99.118942,-99.223679,-99.166124,-99.012327,-99.156247,-99.223679,-99.186279,-115.361887,-86.821453,-99.19985,-99.015819,-99.214489,-99.207515,-99.243144,-103.401592,-99.221244,-99.226643,-99.250123,-99.227873,-99.212029,-99.255705,-99.255226,-99.163605,-99.253615,-99.205135,-93.087834,-89.569909,-99.203302,-99.226656,-99.207515,-99.222518,-99.290713,-99.17301,-99.198053,-99.21302,-99.215522,-99.204443,-103.234162,-117.091841,-102.252272,-99.203432,-99.25985,-99.194059,-99.162605,-117.017891,-99.218034,-99.218407,-99.2221,-99.216214,-103.400757,-99.226656,-99.214489,-99.220369,-99.22484,-99.296804,-99.166007,-99.214489,-99.212962,-100.22272,-99.24704,-99.226656,-98.753177,-100.165387,-99.121824,-99.118536,-99.2296,-99.070352,-99.2296,-99.118536,-99.240523,-100.188576,-100.003179,-99.212962,-99.10135,-99.196989,-99.118536,-98.98187,-99.166007,-99.245726,-98.978819,-99.19985,-99.19985,-99.212406,-99.221919,-99.19752,-99.10135,-100.194766,-99.214462,-99.225191,-99.214537,-100.683131,-99.19985,-99.203432,-99.222015,-99.128066,-99.17301,-99.22958,-98.98187,-99.10135,-99.260469,-99.226656,-99.205347,-99.226656,-99.210937,-99.226656,-99.203432,-99.049999,-100.3351,-99.223679,-99.223679,-89.627433,-100.26872,-99.230827,-99.226811,-98.886667,-99.086271,-99.103853,-99.291466,-99.217592,-99.226643,-99.226353,-99.208444,-99.190185,-98.155737,-99.226643,-98.959153,-99.039082,-98.268308,-99.207515,-99.24704,-99.259157,-99.082854,-99.212029,-110.949898,-109.007223,-100.991926,-99.229372,-103.408414,-99.197361,-99.226656,-99.226643,-99.207515,-99.183412,-99.20605,-99.066667,-99.173091,-99.181126,-99.23542,-99.20605,-99.896846,-99.206722,-99.231105,-99.226643,-99.181267,-99.240523,-99.204085,-99.226656,-99.226656,-99.249031,-99.147406,-99.223679,-92.982819,-98.310373,-89.59666700000002,-92.953393,-100.38742,-106.423506,-106.423003,-99.13593,-92.903213,-99.037532,-99.223679,-98.810774,-98.810673,-98.810873,-99.904843,-100.346983,-100.997502,-99.227183,-99.174712,-99.178049,-99.255092,-99.144553,-99.178604,-99.142645,-99.203432,-99.212361,-99.223679,-99.223679,-89.62445100000002,-99.10489,-99.173954,-98.983367,-99.19731,-99.218034,-98.287119,-99.24704,-99.187391,-99.118536,-99.247189,-99.244375,-93.129235,-93.193984,-93.160134,-99.04885,-96.968808,-99.250834,-99.190234,-99.05898,-98.942935,-102.755852,-103.448768,-99.725632,-100.3568071,-100.3161126,-87.076686,-87.076718,-87.075866,-87.07034499999999,-87.092398,-87.073113,-87.064015,-87.08558000000001,-89.57469,-88.58928399999999,-89.56214399999999,-89.25,-89.564806,-89.62280600000001,-89.25,-89.664374,-89.62,-89.654744,-89.56994300000001,-89.576877,-89.575109,-89.562531,-89.586893,-89.67354,-96.928985,-96.87925,-89.664374,-105.275997,-96.123398,-96.130707,-96.138665,-96.130843,-96.14198499999999,-99.175174,-99.175174,-102.29803299999999,-99.00899100000001,-99.167282,-99.198614,-98.244036,-100.393527,-98.88336899999999,-98.983333,-99.22431999999999,-103.385099,-98.767489,-98.714226,-99.260469,-98.735833,-99.20522199999999,-100.990648,-99.68064,-99.08337399999999,-101.185097,-99.191724,-98.744434,-93.17692,-100.17426999999999,-98.73419100000001,-98.721176,-98.733824,-99.14139300000001,-98.71731199999999,-98.71731199999999,-99.213557,-99.143951,-109.015277,-93.122478,-99.10135,-98.266368,-105.91016200000001,-99.10135,-99.226711,-110.944175,-99.164199,-99.24065999999999,-99.177327,-99.234912,-99.199689,-99.230678,-99.199689,-99.24400899999999,-99.20929,-99.10361,-99.222541,-99.21515,-99.21275200000001,-99.211239,-99.289725,-99.21552199999999,-99.224132,-99.05227099999999,-99.224524,-99.23699,-99.22036899999999,-99.208054,-99.242855,-99.207515,-99.210894,-100.891494,-99.211239,-99.218236,-99.250116,-99.208625,-89.6872,-99.173911,-99.397894,-100.11050999999999,-99.229744,-98.22835400000001,-96.710825,-99.116667,-99.172601,-91.795327,-99.212029,-99.24149200000001,-100.38439699999999,-99.18095799999999,-99.014329,-99.135953,-99.17181,-99.171745,-103.48467,-99.21416500000001,-99.23015699999999,-99.058025,-99.160186,-99.153132,-99.157647,-99.223679,-100.312717,-90.533838,-99.251518,-99.223679,-99.223679,-99.248073,-99.15088399999999,-99.121528,-99.228314,-98.20983199999999,-99.223679,-99.172042,-99.124128,-99.121378,-99.12219,-99.223679,-99.191144,-99.118942,-99.223679,-99.166124,-99.012327,-99.156247,-99.223679,-99.186279,-115.36188700000001,-86.821453,-99.19985,-99.015819,-99.214489,-99.207515,-99.243144,-103.40159200000001,-99.221244,-99.22664300000001,-99.250123,-99.227873,-99.212029,-99.255705,-99.25522600000001,-99.163605,-99.253615,-99.205135,-93.087834,-89.569909,-99.20330200000001,-99.226656,-99.207515,-99.22251800000001,-99.290713,-99.17300999999999,-99.198053,-99.21302,-99.21552199999999,-99.20444300000001,-103.234162,-117.09184099999999,-102.25227199999999,-99.20343199999999,-99.25985,-99.194059,-99.162605,-117.01789099999999,-99.218034,-99.218407,-99.2221,-99.21621400000001,-103.400757,-99.226656,-99.214489,-99.22036899999999,-99.22484,-99.29680400000001,-99.166007,-99.214489,-99.212962,-100.22272,-99.24704,-99.226656,-98.75317700000001,-100.165387,-99.121824,-99.11853599999999,-99.2296,-99.070352,-99.2296,-99.11853599999999,-99.240523,-100.188576,-100.003179,-99.212962,-99.10135,-99.196989,-99.11853599999999,-98.98187,-99.166007,-99.245726,-98.978819,-99.19985,-99.19985,-99.212406,-99.221919,-99.19752,-99.10135,-100.194766,-99.214462,-99.22519100000001,-99.21453699999999,-100.683131,-99.19985,-99.20343199999999,-99.222015,-99.128066,-99.17300999999999,-99.22958,-98.98187,-99.10135,-99.260469,-99.226656,-99.205347,-99.226656,-99.210937,-99.226656,-99.20343199999999,-99.049999,-100.3351,-99.223679,-99.223679,-89.627433,-100.26872,-99.230827,-99.226811,-98.886667,-99.086271,-99.103853,-99.291466,-99.21759200000001,-99.22664300000001,-99.226353,-99.208444,-99.190185,-98.155737,-99.22664300000001,-98.959153,-99.039082,-98.26830799999999,-99.207515,-99.24704,-99.259157,-99.082854,-99.212029,-110.949898,-109.007223,-100.991926,-99.229372,-103.40841400000001,-99.197361,-99.226656,-99.22664300000001,-99.207515,-99.183412,-99.20605,-99.06666700000001,-99.173091,-99.181126,-99.23541999999999,-99.20605,-99.896846,-99.206722,-99.231105,-99.22664300000001,-99.181267,-99.240523,-99.20408499999999,-99.226656,-99.226656,-99.249031,-99.147406,-99.223679,-92.98281899999999,-98.310373,-89.59666700000001,-92.953393,-100.38741999999999,-106.423506,-106.42300300000001,-99.13593,-92.903213,-99.037532,-99.223679,-98.810774,-98.810673,-98.810873,-99.904843,-100.346983,-100.997502,-99.227183,-99.174712,-99.178049,-99.255092,-99.144553,-99.178604,-99.142645,-99.20343199999999,-99.212361,-99.223679,-99.223679,-89.62445100000001,-99.10489,-99.17395400000001,-98.983367,-99.19731,-99.218034,-98.28711899999999,-99.24704,-99.187391,-99.11853599999999,-99.247189,-99.244375,-93.129235,-93.193984,-93.160134,-99.04885,-96.968808,-99.250834,-99.190234,-99.05898,-98.94293499999999,-102.755852,-103.448768,-99.72563199999999,-100.3568071,-100.3161126],\"marker\":{\"color\":\"#636efa\"},\"mode\":\"markers\",\"name\":\"\",\"showlegend\":false,\"subplot\":\"mapbox\",\"type\":\"scattermapbox\"}],                        {\"height\":600,\"legend\":{\"tracegroupgap\":0},\"mapbox\":{\"center\":{\"lat\":19.43,\"lon\":-99.13},\"domain\":{\"x\":[0.0,1.0],\"y\":[0.0,1.0]},\"style\":\"open-street-map\",\"zoom\":8},\"margin\":{\"t\":60},\"template\":{\"data\":{\"bar\":[{\"error_x\":{\"color\":\"#2a3f5f\"},\"error_y\":{\"color\":\"#2a3f5f\"},\"marker\":{\"line\":{\"color\":\"#E5ECF6\",\"width\":0.5},\"pattern\":{\"fillmode\":\"overlay\",\"size\":10,\"solidity\":0.2}},\"type\":\"bar\"}],\"barpolar\":[{\"marker\":{\"line\":{\"color\":\"#E5ECF6\",\"width\":0.5},\"pattern\":{\"fillmode\":\"overlay\",\"size\":10,\"solidity\":0.2}},\"type\":\"barpolar\"}],\"carpet\":[{\"aaxis\":{\"endlinecolor\":\"#2a3f5f\",\"gridcolor\":\"white\",\"linecolor\":\"white\",\"minorgridcolor\":\"white\",\"startlinecolor\":\"#2a3f5f\"},\"baxis\":{\"endlinecolor\":\"#2a3f5f\",\"gridcolor\":\"white\",\"linecolor\":\"white\",\"minorgridcolor\":\"white\",\"startlinecolor\":\"#2a3f5f\"},\"type\":\"carpet\"}],\"choropleth\":[{\"colorbar\":{\"outlinewidth\":0,\"ticks\":\"\"},\"type\":\"choropleth\"}],\"contour\":[{\"colorbar\":{\"outlinewidth\":0,\"ticks\":\"\"},\"colorscale\":[[0.0,\"#0d0887\"],[0.1111111111111111,\"#46039f\"],[0.2222222222222222,\"#7201a8\"],[0.3333333333333333,\"#9c179e\"],[0.4444444444444444,\"#bd3786\"],[0.5555555555555556,\"#d8576b\"],[0.6666666666666666,\"#ed7953\"],[0.7777777777777778,\"#fb9f3a\"],[0.8888888888888888,\"#fdca26\"],[1.0,\"#f0f921\"]],\"type\":\"contour\"}],\"contourcarpet\":[{\"colorbar\":{\"outlinewidth\":0,\"ticks\":\"\"},\"type\":\"contourcarpet\"}],\"heatmap\":[{\"colorbar\":{\"outlinewidth\":0,\"ticks\":\"\"},\"colorscale\":[[0.0,\"#0d0887\"],[0.1111111111111111,\"#46039f\"],[0.2222222222222222,\"#7201a8\"],[0.3333333333333333,\"#9c179e\"],[0.4444444444444444,\"#bd3786\"],[0.5555555555555556,\"#d8576b\"],[0.6666666666666666,\"#ed7953\"],[0.7777777777777778,\"#fb9f3a\"],[0.8888888888888888,\"#fdca26\"],[1.0,\"#f0f921\"]],\"type\":\"heatmap\"}],\"heatmapgl\":[{\"colorbar\":{\"outlinewidth\":0,\"ticks\":\"\"},\"colorscale\":[[0.0,\"#0d0887\"],[0.1111111111111111,\"#46039f\"],[0.2222222222222222,\"#7201a8\"],[0.3333333333333333,\"#9c179e\"],[0.4444444444444444,\"#bd3786\"],[0.5555555555555556,\"#d8576b\"],[0.6666666666666666,\"#ed7953\"],[0.7777777777777778,\"#fb9f3a\"],[0.8888888888888888,\"#fdca26\"],[1.0,\"#f0f921\"]],\"type\":\"heatmapgl\"}],\"histogram\":[{\"marker\":{\"pattern\":{\"fillmode\":\"overlay\",\"size\":10,\"solidity\":0.2}},\"type\":\"histogram\"}],\"histogram2d\":[{\"colorbar\":{\"outlinewidth\":0,\"ticks\":\"\"},\"colorscale\":[[0.0,\"#0d0887\"],[0.1111111111111111,\"#46039f\"],[0.2222222222222222,\"#7201a8\"],[0.3333333333333333,\"#9c179e\"],[0.4444444444444444,\"#bd3786\"],[0.5555555555555556,\"#d8576b\"],[0.6666666666666666,\"#ed7953\"],[0.7777777777777778,\"#fb9f3a\"],[0.8888888888888888,\"#fdca26\"],[1.0,\"#f0f921\"]],\"type\":\"histogram2d\"}],\"histogram2dcontour\":[{\"colorbar\":{\"outlinewidth\":0,\"ticks\":\"\"},\"colorscale\":[[0.0,\"#0d0887\"],[0.1111111111111111,\"#46039f\"],[0.2222222222222222,\"#7201a8\"],[0.3333333333333333,\"#9c179e\"],[0.4444444444444444,\"#bd3786\"],[0.5555555555555556,\"#d8576b\"],[0.6666666666666666,\"#ed7953\"],[0.7777777777777778,\"#fb9f3a\"],[0.8888888888888888,\"#fdca26\"],[1.0,\"#f0f921\"]],\"type\":\"histogram2dcontour\"}],\"mesh3d\":[{\"colorbar\":{\"outlinewidth\":0,\"ticks\":\"\"},\"type\":\"mesh3d\"}],\"parcoords\":[{\"line\":{\"colorbar\":{\"outlinewidth\":0,\"ticks\":\"\"}},\"type\":\"parcoords\"}],\"pie\":[{\"automargin\":true,\"type\":\"pie\"}],\"scatter\":[{\"marker\":{\"colorbar\":{\"outlinewidth\":0,\"ticks\":\"\"}},\"type\":\"scatter\"}],\"scatter3d\":[{\"line\":{\"colorbar\":{\"outlinewidth\":0,\"ticks\":\"\"}},\"marker\":{\"colorbar\":{\"outlinewidth\":0,\"ticks\":\"\"}},\"type\":\"scatter3d\"}],\"scattercarpet\":[{\"marker\":{\"colorbar\":{\"outlinewidth\":0,\"ticks\":\"\"}},\"type\":\"scattercarpet\"}],\"scattergeo\":[{\"marker\":{\"colorbar\":{\"outlinewidth\":0,\"ticks\":\"\"}},\"type\":\"scattergeo\"}],\"scattergl\":[{\"marker\":{\"colorbar\":{\"outlinewidth\":0,\"ticks\":\"\"}},\"type\":\"scattergl\"}],\"scattermapbox\":[{\"marker\":{\"colorbar\":{\"outlinewidth\":0,\"ticks\":\"\"}},\"type\":\"scattermapbox\"}],\"scatterpolar\":[{\"marker\":{\"colorbar\":{\"outlinewidth\":0,\"ticks\":\"\"}},\"type\":\"scatterpolar\"}],\"scatterpolargl\":[{\"marker\":{\"colorbar\":{\"outlinewidth\":0,\"ticks\":\"\"}},\"type\":\"scatterpolargl\"}],\"scatterternary\":[{\"marker\":{\"colorbar\":{\"outlinewidth\":0,\"ticks\":\"\"}},\"type\":\"scatterternary\"}],\"surface\":[{\"colorbar\":{\"outlinewidth\":0,\"ticks\":\"\"},\"colorscale\":[[0.0,\"#0d0887\"],[0.1111111111111111,\"#46039f\"],[0.2222222222222222,\"#7201a8\"],[0.3333333333333333,\"#9c179e\"],[0.4444444444444444,\"#bd3786\"],[0.5555555555555556,\"#d8576b\"],[0.6666666666666666,\"#ed7953\"],[0.7777777777777778,\"#fb9f3a\"],[0.8888888888888888,\"#fdca26\"],[1.0,\"#f0f921\"]],\"type\":\"surface\"}],\"table\":[{\"cells\":{\"fill\":{\"color\":\"#EBF0F8\"},\"line\":{\"color\":\"white\"}},\"header\":{\"fill\":{\"color\":\"#C8D4E3\"},\"line\":{\"color\":\"white\"}},\"type\":\"table\"}]},\"layout\":{\"annotationdefaults\":{\"arrowcolor\":\"#2a3f5f\",\"arrowhead\":0,\"arrowwidth\":1},\"autotypenumbers\":\"strict\",\"coloraxis\":{\"colorbar\":{\"outlinewidth\":0,\"ticks\":\"\"}},\"colorscale\":{\"diverging\":[[0,\"#8e0152\"],[0.1,\"#c51b7d\"],[0.2,\"#de77ae\"],[0.3,\"#f1b6da\"],[0.4,\"#fde0ef\"],[0.5,\"#f7f7f7\"],[0.6,\"#e6f5d0\"],[0.7,\"#b8e186\"],[0.8,\"#7fbc41\"],[0.9,\"#4d9221\"],[1,\"#276419\"]],\"sequential\":[[0.0,\"#0d0887\"],[0.1111111111111111,\"#46039f\"],[0.2222222222222222,\"#7201a8\"],[0.3333333333333333,\"#9c179e\"],[0.4444444444444444,\"#bd3786\"],[0.5555555555555556,\"#d8576b\"],[0.6666666666666666,\"#ed7953\"],[0.7777777777777778,\"#fb9f3a\"],[0.8888888888888888,\"#fdca26\"],[1.0,\"#f0f921\"]],\"sequentialminus\":[[0.0,\"#0d0887\"],[0.1111111111111111,\"#46039f\"],[0.2222222222222222,\"#7201a8\"],[0.3333333333333333,\"#9c179e\"],[0.4444444444444444,\"#bd3786\"],[0.5555555555555556,\"#d8576b\"],[0.6666666666666666,\"#ed7953\"],[0.7777777777777778,\"#fb9f3a\"],[0.8888888888888888,\"#fdca26\"],[1.0,\"#f0f921\"]]},\"colorway\":[\"#636efa\",\"#EF553B\",\"#00cc96\",\"#ab63fa\",\"#FFA15A\",\"#19d3f3\",\"#FF6692\",\"#B6E880\",\"#FF97FF\",\"#FECB52\"],\"font\":{\"color\":\"#2a3f5f\"},\"geo\":{\"bgcolor\":\"white\",\"lakecolor\":\"white\",\"landcolor\":\"#E5ECF6\",\"showlakes\":true,\"showland\":true,\"subunitcolor\":\"white\"},\"hoverlabel\":{\"align\":\"left\"},\"hovermode\":\"closest\",\"mapbox\":{\"style\":\"light\"},\"paper_bgcolor\":\"white\",\"plot_bgcolor\":\"#E5ECF6\",\"polar\":{\"angularaxis\":{\"gridcolor\":\"white\",\"linecolor\":\"white\",\"ticks\":\"\"},\"bgcolor\":\"#E5ECF6\",\"radialaxis\":{\"gridcolor\":\"white\",\"linecolor\":\"white\",\"ticks\":\"\"}},\"scene\":{\"xaxis\":{\"backgroundcolor\":\"#E5ECF6\",\"gridcolor\":\"white\",\"gridwidth\":2,\"linecolor\":\"white\",\"showbackground\":true,\"ticks\":\"\",\"zerolinecolor\":\"white\"},\"yaxis\":{\"backgroundcolor\":\"#E5ECF6\",\"gridcolor\":\"white\",\"gridwidth\":2,\"linecolor\":\"white\",\"showbackground\":true,\"ticks\":\"\",\"zerolinecolor\":\"white\"},\"zaxis\":{\"backgroundcolor\":\"#E5ECF6\",\"gridcolor\":\"white\",\"gridwidth\":2,\"linecolor\":\"white\",\"showbackground\":true,\"ticks\":\"\",\"zerolinecolor\":\"white\"}},\"shapedefaults\":{\"line\":{\"color\":\"#2a3f5f\"}},\"ternary\":{\"aaxis\":{\"gridcolor\":\"white\",\"linecolor\":\"white\",\"ticks\":\"\"},\"baxis\":{\"gridcolor\":\"white\",\"linecolor\":\"white\",\"ticks\":\"\"},\"bgcolor\":\"#E5ECF6\",\"caxis\":{\"gridcolor\":\"white\",\"linecolor\":\"white\",\"ticks\":\"\"}},\"title\":{\"x\":0.05},\"xaxis\":{\"automargin\":true,\"gridcolor\":\"white\",\"linecolor\":\"white\",\"ticks\":\"\",\"title\":{\"standoff\":15},\"zerolinecolor\":\"white\",\"zerolinewidth\":2},\"yaxis\":{\"automargin\":true,\"gridcolor\":\"white\",\"linecolor\":\"white\",\"ticks\":\"\",\"title\":{\"standoff\":15},\"zerolinecolor\":\"white\",\"zerolinewidth\":2}}},\"width\":600},                        {\"responsive\": true}                    ).then(function(){\n",
       "                            \n",
       "var gd = document.getElementById('fc8a1b5b-b325-4d24-aa47-9df3ef11a0a0');\n",
       "var x = new MutationObserver(function (mutations, observer) {{\n",
       "        var display = window.getComputedStyle(gd).display;\n",
       "        if (!display || display === 'none') {{\n",
       "            console.log([gd, 'removed!']);\n",
       "            Plotly.purge(gd);\n",
       "            observer.disconnect();\n",
       "        }}\n",
       "}});\n",
       "\n",
       "// Listen for the removal of the full notebook cells\n",
       "var notebookContainer = gd.closest('#notebook-container');\n",
       "if (notebookContainer) {{\n",
       "    x.observe(notebookContainer, {childList: true});\n",
       "}}\n",
       "\n",
       "// Listen for the clearing of the current output cell\n",
       "var outputEl = gd.closest('.output');\n",
       "if (outputEl) {{\n",
       "    x.observe(outputEl, {childList: true});\n",
       "}}\n",
       "\n",
       "                        })                };                });            </script>        </div>"
      ]
     },
     "metadata": {},
     "output_type": "display_data"
    }
   ],
   "source": [
    "fig = px.scatter_mapbox(\n",
    "    df,  # Our DataFrame\n",
    "    lat=\"lat\",\n",
    "    lon=\"lon\",\n",
    "    center={\"lat\": 19.43, \"lon\": -99.13},  # Map will be centered on Mexico City\n",
    "    width=600,  # Width of map\n",
    "    height=600,  # Height of map\n",
    "    hover_data=[\"price_usd\"],  # Display price when hovering mouse over house\n",
    ")\n",
    "\n",
    "fig.update_layout(mapbox_style=\"open-street-map\")\n",
    "\n",
    "fig.show()"
   ]
  },
  {
   "cell_type": "markdown",
   "metadata": {},
   "source": [
    "It can be clearly seen that houses are not evenly distributed throughout the country. Rather, there are states or regions which are more prevelant!"
   ]
  },
  {
   "cell_type": "markdown",
   "metadata": {},
   "source": [
    "# Categorical Data: `\"state\"`"
   ]
  },
  {
   "cell_type": "markdown",
   "metadata": {},
   "source": [
    "Even though we can get a good idea of which states are most common in our dataset from looking at a map, we can also get the exact count by using the `\"state\"` column. "
   ]
  },
  {
   "cell_type": "markdown",
   "metadata": {},
   "source": [
    "** Let's use the [`value_counts`](https://pandas.pydata.org/docs/reference/api/pandas.Series.value_counts.html) method on the `\"state\"` column to determine the 10 most prevalent states in our dataset."
   ]
  },
  {
   "cell_type": "code",
   "execution_count": 37,
   "metadata": {},
   "outputs": [
    {
     "data": {
      "text/plain": [
       "Cuernavaca          200\n",
       "Morelos             178\n",
       "Estado de México     64\n",
       "Yucatán              56\n",
       "Distrito Federal     43\n",
       "Campeche             33\n",
       "Mérida               32\n",
       "Nuevo León           21\n",
       "Benito Juárez        20\n",
       "Burgos               20\n",
       "Name: state, dtype: int64"
      ]
     },
     "execution_count": 37,
     "metadata": {},
     "output_type": "execute_result"
    }
   ],
   "source": [
    "top_10 = df[\"state\"].value_counts().head(10)\n",
    "top_10"
   ]
  },
  {
   "cell_type": "markdown",
   "metadata": {},
   "source": [
    "# Numerical Data: `\"area_m2\"` and `\"price_usd\"`"
   ]
  },
  {
   "cell_type": "markdown",
   "metadata": {},
   "source": [
    "** Let's use the [`describe`](https://pandas.pydata.org/pandas-docs/stable/reference/api/pandas.DataFrame.describe.html) method to print the mean, standard deviation, and quartiles for the `\"area_m2\"` and `\"price_usd\"` columns."
   ]
  },
  {
   "cell_type": "code",
   "execution_count": 38,
   "metadata": {},
   "outputs": [
    {
     "data": {
      "text/html": [
       "<div>\n",
       "<style scoped>\n",
       "    .dataframe tbody tr th:only-of-type {\n",
       "        vertical-align: middle;\n",
       "    }\n",
       "\n",
       "    .dataframe tbody tr th {\n",
       "        vertical-align: top;\n",
       "    }\n",
       "\n",
       "    .dataframe thead th {\n",
       "        text-align: right;\n",
       "    }\n",
       "</style>\n",
       "<table border=\"1\" class=\"dataframe\">\n",
       "  <thead>\n",
       "    <tr style=\"text-align: right;\">\n",
       "      <th></th>\n",
       "      <th>area_m2</th>\n",
       "      <th>price_usd</th>\n",
       "    </tr>\n",
       "  </thead>\n",
       "  <tbody>\n",
       "    <tr>\n",
       "      <th>count</th>\n",
       "      <td>1086.000000</td>\n",
       "      <td>1.086000e+03</td>\n",
       "    </tr>\n",
       "    <tr>\n",
       "      <th>mean</th>\n",
       "      <td>316.964088</td>\n",
       "      <td>2.216998e+05</td>\n",
       "    </tr>\n",
       "    <tr>\n",
       "      <th>std</th>\n",
       "      <td>450.048208</td>\n",
       "      <td>5.574952e+05</td>\n",
       "    </tr>\n",
       "    <tr>\n",
       "      <th>min</th>\n",
       "      <td>35.000000</td>\n",
       "      <td>1.122185e+04</td>\n",
       "    </tr>\n",
       "    <tr>\n",
       "      <th>25%</th>\n",
       "      <td>120.000000</td>\n",
       "      <td>5.498581e+04</td>\n",
       "    </tr>\n",
       "    <tr>\n",
       "      <th>50%</th>\n",
       "      <td>217.000000</td>\n",
       "      <td>1.245020e+05</td>\n",
       "    </tr>\n",
       "    <tr>\n",
       "      <th>75%</th>\n",
       "      <td>354.000000</td>\n",
       "      <td>2.273515e+05</td>\n",
       "    </tr>\n",
       "    <tr>\n",
       "      <th>max</th>\n",
       "      <td>5100.000000</td>\n",
       "      <td>1.000000e+07</td>\n",
       "    </tr>\n",
       "  </tbody>\n",
       "</table>\n",
       "</div>"
      ],
      "text/plain": [
       "           area_m2     price_usd\n",
       "count  1086.000000  1.086000e+03\n",
       "mean    316.964088  2.216998e+05\n",
       "std     450.048208  5.574952e+05\n",
       "min      35.000000  1.122185e+04\n",
       "25%     120.000000  5.498581e+04\n",
       "50%     217.000000  1.245020e+05\n",
       "75%     354.000000  2.273515e+05\n",
       "max    5100.000000  1.000000e+07"
      ]
     },
     "execution_count": 38,
     "metadata": {},
     "output_type": "execute_result"
    }
   ],
   "source": [
    "df[[\"area_m2\",\"price_usd\"]].describe()"
   ]
  },
  {
   "cell_type": "markdown",
   "metadata": {},
   "source": [
    "Let's start by looking at `\"area_m2\"`. It's interesting that the mean is larger than the median (another name for the 50% quartile). Both of these statistics are supposed to give an idea of the \"typical\" value for the column, surprisingly there a difference of almost 100 m<sup>2</sup> between them. We need to see how house sizes are distributed in our dataset. Let's look at two ways to visualize the distribution: a histogram and a boxplot."
   ]
  },
  {
   "cell_type": "code",
   "execution_count": 39,
   "metadata": {},
   "outputs": [
    {
     "data": {
      "image/png": "[encoded data removed]",
      "text/plain": [
       "<Figure size 432x288 with 1 Axes>"
      ]
     },
     "metadata": {
      "needs_background": "light"
     },
     "output_type": "display_data"
    }
   ],
   "source": [
    "plt.hist(df['area_m2'])\n",
    "plt.xlabel(\"Area[sq meters]\")\n",
    "plt.ylabel(\"Frequency\")\n",
    "plt.title(\"Distribution of Home Size\");"
   ]
  },
  {
   "cell_type": "markdown",
   "metadata": {},
   "source": [
    "Looking at our histogram, we can see that `\"area_m2\"` skews left. In other words, there are more houses at the lower end of the distribution (50–1000m<sup>2</sup>) than at the higher end. That explains the difference between the mean and the median."
   ]
  },
  {
   "cell_type": "code",
   "execution_count": 40,
   "metadata": {},
   "outputs": [
    {
     "data": {
      "image/png": "[encoded data removed]",
      "text/plain": [
       "<Figure size 432x288 with 1 Axes>"
      ]
     },
     "metadata": {
      "needs_background": "light"
     },
     "output_type": "display_data"
    }
   ],
   "source": [
    "#Horizontal Box Plot\n",
    "plt.boxplot(df[\"area_m2\"],vert=False)\n",
    "plt.ylabel(\"Area [sq meters]\")\n",
    "plt.title(\"Distribution of Home Sizes\");"
   ]
  },
  {
   "cell_type": "markdown",
   "metadata": {},
   "source": [
    "<font size=\"+3\"><strong>Location or Size: What Influences House Prices in Mexico?</strong></font>"
   ]
  },
  {
   "cell_type": "markdown",
   "metadata": {},
   "source": [
    "**Which state has the most expensive real estate market?**"
   ]
  },
  {
   "cell_type": "markdown",
   "metadata": {},
   "source": [
    "** Let's use the [`groupby`](https://pandas.pydata.org/pandas-docs/stable/reference/api/pandas.DataFrame.groupby.html) method to create a Series named `mean_price_by_state`, where the index contains each state in the dataset and the values correspond to the mean house price for that state. Make sure your Series is sorted from highest to lowest mean price. "
   ]
  },
  {
   "cell_type": "code",
   "execution_count": 61,
   "metadata": {},
   "outputs": [
    {
     "data": {
      "text/plain": [
       "state\n",
       "Miguel Hidalgo           1.463688e+06\n",
       "Piste                    9.598288e+05\n",
       "Pedro Escobedo           7.885481e+05\n",
       "Marina Brisas            6.021160e+05\n",
       "Campeche 1               5.256987e+05\n",
       "Zazil Ha                 4.078850e+05\n",
       "Puebla                   4.017343e+05\n",
       "Yautepec                 3.935293e+05\n",
       "Distrito Federal         3.789581e+05\n",
       "Guerrero                 3.370657e+05\n",
       "Cuernavaca               3.319090e+05\n",
       "Sumiya                   3.183933e+05\n",
       "Cuajimalpa de Morelos    2.891343e+05\n",
       "Tlalpan                  2.733633e+05\n",
       "Morelos                  2.680385e+05\n",
       "Temozon Norte            2.628494e+05\n",
       "Sonora                   2.571237e+05\n",
       "Querétaro                2.566092e+05\n",
       "Monterrey                2.501629e+05\n",
       "Hermosillo               2.497069e+05\n",
       "Name: price_usd, dtype: float64"
      ]
     },
     "execution_count": 61,
     "metadata": {},
     "output_type": "execute_result"
    }
   ],
   "source": [
    "mean_price_by_state =df.groupby(\"state\")[\"price_usd\"].mean().sort_values(ascending=False)\n",
    "mean_price_by_state.head(20)"
   ]
  },
  {
   "cell_type": "code",
   "execution_count": 62,
   "metadata": {},
   "outputs": [
    {
     "data": {
      "image/png": "[encoded data removed]",
      "text/plain": [
       "<Figure size 432x288 with 1 Axes>"
      ]
     },
     "metadata": {
      "needs_background": "light"
     },
     "output_type": "display_data"
    }
   ],
   "source": [
    "#Bar chart for the mean_price_per_state (20 states only in descending order of price)\n",
    "plt.bar(x=mean_price_by_state.head(20).index, height=mean_price_by_state.head(20).values)\n",
    "plt.ylabel(\"Price[USD]\")\n",
    "plt.xlabel(\"State\")\n",
    "plt.title(\"Mean House Price by State\")\n",
    "plt.xticks(rotation=90);"
   ]
  },
  {
   "cell_type": "markdown",
   "metadata": {},
   "source": [
    "It seems odd that Miguel Hildalgo would be the most expensive real estate market in Mexico when, [according to recent GDP numbers](https://en.wikipedia.org/wiki/List_of_Mexican_states_by_GDP), it's not in the top 10 state economies. With all the variations in house sizes across states, a better metric to look at would be price per m<sup>2</sup>. In order to do that, we need to create a new column."
   ]
  },
  {
   "cell_type": "markdown",
   "metadata": {},
   "source": [
    "** Let's create a new column in `df` called `\"price_per_m2\"`. This should be the price for each house divided by it's size. "
   ]
  },
  {
   "cell_type": "code",
   "execution_count": 63,
   "metadata": {},
   "outputs": [],
   "source": [
    "df[\"price_per_m2\"]=df[\"price_usd\"]/df[\"area_m2\"]"
   ]
  },
  {
   "cell_type": "code",
   "execution_count": 64,
   "metadata": {},
   "outputs": [
    {
     "data": {
      "text/plain": [
       "state\n",
       "Zazil Ha               2872.429719\n",
       "Nuevo Centro Urbano    2170.785093\n",
       "Marina Brisas          2150.414221\n",
       "Quintana Roo           1508.074894\n",
       "Benito Juárez          1378.256046\n",
       "Guerrero               1287.580524\n",
       "Xochimilco             1239.654439\n",
       "Playa del Carmen       1233.392595\n",
       "Cuauhtémoc             1215.503776\n",
       "Nayarit                1195.312500\n",
       "Bucerías               1160.833483\n",
       "Yautepec               1096.785332\n",
       "Miguel Hidalgo         1080.323029\n",
       "Distrito Federal       1062.195886\n",
       "Venustiano Carranza    1046.689634\n",
       "Mazatlán               1037.978429\n",
       "Álvaro Obregón          939.342336\n",
       "Coyoacán                932.677154\n",
       "Campeche 1              886.507122\n",
       "Azcapotzalco            884.032111\n",
       "Name: price_per_m2, dtype: float64"
      ]
     },
     "execution_count": 64,
     "metadata": {},
     "output_type": "execute_result"
    }
   ],
   "source": [
    "mean_price_per_m2_by_state =df.groupby(\"state\")[\"price_per_m2\"].mean().sort_values(ascending=False)\n",
    "mean_price_per_m2_by_state.head(20)"
   ]
  },
  {
   "cell_type": "code",
   "execution_count": 66,
   "metadata": {},
   "outputs": [
    {
     "data": {
      "image/png": "[encoded data removed]",
      "text/plain": [
       "<Figure size 432x288 with 1 Axes>"
      ]
     },
     "metadata": {
      "needs_background": "light"
     },
     "output_type": "display_data"
    }
   ],
   "source": [
    "#Bar chart for the mean_price_per_m2_per_state (20 states only in descending order of price)\n",
    "plt.bar(x=mean_price_per_m2_by_state.head(20).index, height=mean_price_per_m2_by_state.head(20).values)\n",
    "plt.ylabel(\"Mean Price per M^2\")\n",
    "plt.xlabel(\"State\")\n",
    "plt.title(\"Mean House per M^2 by State\")\n",
    "plt.xticks(rotation=90);"
   ]
  },
  {
   "cell_type": "markdown",
   "metadata": {},
   "source": [
    "Now there is a better reflection of the prices as compared to the GDP rankings!"
   ]
  },
  {
   "cell_type": "markdown",
   "metadata": {},
   "source": [
    "**Is there a relationship between home size and price?**"
   ]
  },
  {
   "cell_type": "markdown",
   "metadata": {},
   "source": [
    "A scatter plot can be helpful when evaluating the relationship between two columns because it lets you see if two variables are correlated — in this case, if an increase in home size is associated with an increase in price."
   ]
  },
  {
   "cell_type": "code",
   "execution_count": 67,
   "metadata": {},
   "outputs": [
    {
     "data": {
      "image/png": "[encoded data removed]",
      "text/plain": [
       "<Figure size 432x288 with 1 Axes>"
      ]
     },
     "metadata": {
      "needs_background": "light"
     },
     "output_type": "display_data"
    }
   ],
   "source": [
    "plt.scatter(x=df[\"area_m2\"],y=df[\"price_usd\"])\n",
    "plt.xlabel(\"Area[sq meters]\")\n",
    "plt.ylabel(\"Price[USD]\")\n",
    "plt.title(\"Price vs Area\");"
   ]
  },
  {
   "cell_type": "markdown",
   "metadata": {},
   "source": [
    "While there's a good amount of variation, there's definitely a positive correlation — in other words, the bigger the house, the higher the price. Let's quantify this correlation? "
   ]
  },
  {
   "cell_type": "code",
   "execution_count": 68,
   "metadata": {},
   "outputs": [
    {
     "name": "stdout",
     "output_type": "stream",
     "text": [
      "0.6490759027937612\n"
     ]
    }
   ],
   "source": [
    "p_correlation =df[\"area_m2\"].corr(df[\"price_usd\"])\n",
    "print(p_correlation)"
   ]
  },
  {
   "cell_type": "markdown",
   "metadata": {},
   "source": [
    "The correlation coefficient is over 0.5, so there's a moderate relationship house size and price in Mexico. But does this relationship hold true in every state? Let's look at a couple of states."
   ]
  },
  {
   "cell_type": "markdown",
   "metadata": {},
   "source": [
    " First, let's create a new DataFrame called `df_mexico_city` that includes all the observations from `df` that are part of the *Distrito Federal*. Next, let's create a scatter plot that shows price vs area. Finally, let's calculate the  correlation coefficient for `\"area_m2\"` and `\"price_usd\"` in `df_mexico_city`."
   ]
  },
  {
   "cell_type": "code",
   "execution_count": 69,
   "metadata": {},
   "outputs": [
    {
     "name": "stdout",
     "output_type": "stream",
     "text": [
      "0.9931690589690925\n"
     ]
    },
    {
     "data": {
      "text/html": [
       "<div>\n",
       "<style scoped>\n",
       "    .dataframe tbody tr th:only-of-type {\n",
       "        vertical-align: middle;\n",
       "    }\n",
       "\n",
       "    .dataframe tbody tr th {\n",
       "        vertical-align: top;\n",
       "    }\n",
       "\n",
       "    .dataframe thead th {\n",
       "        text-align: right;\n",
       "    }\n",
       "</style>\n",
       "<table border=\"1\" class=\"dataframe\">\n",
       "  <thead>\n",
       "    <tr style=\"text-align: right;\">\n",
       "      <th></th>\n",
       "      <th>property_type</th>\n",
       "      <th>state</th>\n",
       "      <th>lat</th>\n",
       "      <th>lon</th>\n",
       "      <th>price_usd</th>\n",
       "      <th>area_m2</th>\n",
       "      <th>price_per_m2</th>\n",
       "    </tr>\n",
       "  </thead>\n",
       "  <tbody>\n",
       "    <tr>\n",
       "      <th>757</th>\n",
       "      <td>apartment</td>\n",
       "      <td>Distrito Federal</td>\n",
       "      <td>19.415010</td>\n",
       "      <td>-99.175174</td>\n",
       "      <td>146154.51</td>\n",
       "      <td>61.0</td>\n",
       "      <td>2395.975574</td>\n",
       "    </tr>\n",
       "    <tr>\n",
       "      <th>758</th>\n",
       "      <td>apartment</td>\n",
       "      <td>Distrito Federal</td>\n",
       "      <td>19.415010</td>\n",
       "      <td>-99.175174</td>\n",
       "      <td>343571.36</td>\n",
       "      <td>176.0</td>\n",
       "      <td>1952.110000</td>\n",
       "    </tr>\n",
       "    <tr>\n",
       "      <th>778</th>\n",
       "      <td>apartment</td>\n",
       "      <td>Distrito Federal</td>\n",
       "      <td>19.456564</td>\n",
       "      <td>-99.191724</td>\n",
       "      <td>36267.97</td>\n",
       "      <td>65.0</td>\n",
       "      <td>557.968769</td>\n",
       "    </tr>\n",
       "    <tr>\n",
       "      <th>785</th>\n",
       "      <td>apartment</td>\n",
       "      <td>Distrito Federal</td>\n",
       "      <td>19.512787</td>\n",
       "      <td>-99.141393</td>\n",
       "      <td>75783.82</td>\n",
       "      <td>82.0</td>\n",
       "      <td>924.192927</td>\n",
       "    </tr>\n",
       "    <tr>\n",
       "      <th>788</th>\n",
       "      <td>house</td>\n",
       "      <td>Distrito Federal</td>\n",
       "      <td>19.358776</td>\n",
       "      <td>-99.213557</td>\n",
       "      <td>361597.08</td>\n",
       "      <td>346.0</td>\n",
       "      <td>1045.078266</td>\n",
       "    </tr>\n",
       "  </tbody>\n",
       "</table>\n",
       "</div>"
      ],
      "text/plain": [
       "    property_type             state        lat        lon  price_usd  area_m2  \\\n",
       "757     apartment  Distrito Federal  19.415010 -99.175174  146154.51     61.0   \n",
       "758     apartment  Distrito Federal  19.415010 -99.175174  343571.36    176.0   \n",
       "778     apartment  Distrito Federal  19.456564 -99.191724   36267.97     65.0   \n",
       "785     apartment  Distrito Federal  19.512787 -99.141393   75783.82     82.0   \n",
       "788         house  Distrito Federal  19.358776 -99.213557  361597.08    346.0   \n",
       "\n",
       "     price_per_m2  \n",
       "757   2395.975574  \n",
       "758   1952.110000  \n",
       "778    557.968769  \n",
       "785    924.192927  \n",
       "788   1045.078266  "
      ]
     },
     "execution_count": 69,
     "metadata": {},
     "output_type": "execute_result"
    },
    {
     "data": {
      "image/png": "[encoded data removed]",
      "text/plain": [
       "<Figure size 432x288 with 1 Axes>"
      ]
     },
     "metadata": {
      "needs_background": "light"
     },
     "output_type": "display_data"
    }
   ],
   "source": [
    "# Subset `df` to include only observations from `\"Distrito Federal\"`\n",
    "df_mexico_city =df[df[\"state\"]==\"Distrito Federal\"]\n",
    "\n",
    "# Create a scatter plot price vs area\n",
    "plt.scatter(x=df_mexico_city[\"area_m2\"],y=df_mexico_city[\"price_usd\"])\n",
    "plt.xlabel(\"Area[sq_meters]\")\n",
    "plt.ylabel(\"Price[USD]\")\n",
    "plt.title(\"Mexico City:Price vs. Area\");\n",
    "\n",
    "\n",
    "p_correlation =df_mexico_city[\"area_m2\"].corr(df_mexico_city[\"price_usd\"])\n",
    "print(p_correlation)\n",
    "df_mexico_city.head()"
   ]
  },
  {
   "cell_type": "markdown",
   "metadata": {},
   "source": [
    "Looking at the scatter plot and correlation coefficient, there's see a very strong relationship between size and price. This means in the capital city, size is a very important factor in determining the size of a real estate.\n",
    "\n"
   ]
  },
  {
   "cell_type": "code",
   "execution_count": null,
   "metadata": {},
   "outputs": [],
   "source": []
  }
 ],
 "metadata": {
  "kernelspec": {
   "display_name": "Python 3",
   "language": "python",
   "name": "python3"
  },
  "language_info": {
   "codemirror_mode": {
    "name": "ipython",
    "version": 3
   },
   "file_extension": ".py",
   "mimetype": "text/x-python",
   "name": "python",
   "nbconvert_exporter": "python",
   "pygments_lexer": "ipython3",
   "version": "3.8.3"
  }
 },
 "nbformat": 4,
 "nbformat_minor": 4
}
